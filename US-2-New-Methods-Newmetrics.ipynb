{
  "cells": [
    {
      "cell_type": "code",
      "execution_count": 1,
      "metadata": {
        "id": "Zh7Nh2hN1GIH"
      },
      "outputs": [],
      "source": [
        "import pandas as pd\n",
        "import numpy as np\n",
        "from sklearn.metrics import mean_absolute_percentage_error, \\\n",
        "  mean_absolute_error, r2_score, mean_squared_error\n",
        "import matplotlib.pyplot as plt"
      ]
    },
    {
      "cell_type": "code",
      "execution_count": 2,
      "metadata": {
        "id": "-0pkDN1UFW5M"
      },
      "outputs": [],
      "source": [
        "df_returns = pd.DataFrame()"
      ]
    },
    {
      "cell_type": "code",
      "execution_count": 3,
      "metadata": {
        "id": "yBvUzJN1Fc8I"
      },
      "outputs": [],
      "source": [
        "df_returns = pd.read_csv('S&P-returns.csv', index_col=0, parse_dates=True)\n",
        "df = pd.read_csv('S&P100.csv', index_col=0, parse_dates=True)\n",
        "\n",
        "#for name in df.columns:\n",
        "#  df_returns[name] = np.log(df[name]).diff()"
      ]
    },
    {
      "cell_type": "code",
      "execution_count": 4,
      "metadata": {},
      "outputs": [
        {
          "data": {
            "text/plain": [
              "0"
            ]
          },
          "execution_count": 4,
          "metadata": {},
          "output_type": "execute_result"
        }
      ],
      "source": [
        "df.isna().sum().sum()"
      ]
    },
    {
      "cell_type": "code",
      "execution_count": 5,
      "metadata": {
        "colab": {
          "base_uri": "https://localhost:8080/",
          "height": 369
        },
        "id": "IbLSX5pYFpMr",
        "outputId": "ba722998-d423-403b-d6e1-875d1115ad75"
      },
      "outputs": [
        {
          "data": {
            "text/html": [
              "<div>\n",
              "<style scoped>\n",
              "    .dataframe tbody tr th:only-of-type {\n",
              "        vertical-align: middle;\n",
              "    }\n",
              "\n",
              "    .dataframe tbody tr th {\n",
              "        vertical-align: top;\n",
              "    }\n",
              "\n",
              "    .dataframe thead th {\n",
              "        text-align: right;\n",
              "    }\n",
              "</style>\n",
              "<table border=\"1\" class=\"dataframe\">\n",
              "  <thead>\n",
              "    <tr style=\"text-align: right;\">\n",
              "      <th></th>\n",
              "      <th>AAPL</th>\n",
              "      <th>MSFT</th>\n",
              "      <th>AMZN</th>\n",
              "      <th>GOOGL</th>\n",
              "      <th>GOOG</th>\n",
              "      <th>PG</th>\n",
              "      <th>TSLA</th>\n",
              "      <th>BAC</th>\n",
              "      <th>NVDA</th>\n",
              "      <th>JNJ</th>\n",
              "      <th>UNH</th>\n",
              "      <th>JPM</th>\n",
              "      <th>OEF</th>\n",
              "      <th>SPY</th>\n",
              "    </tr>\n",
              "    <tr>\n",
              "      <th>Date</th>\n",
              "      <th></th>\n",
              "      <th></th>\n",
              "      <th></th>\n",
              "      <th></th>\n",
              "      <th></th>\n",
              "      <th></th>\n",
              "      <th></th>\n",
              "      <th></th>\n",
              "      <th></th>\n",
              "      <th></th>\n",
              "      <th></th>\n",
              "      <th></th>\n",
              "      <th></th>\n",
              "      <th></th>\n",
              "    </tr>\n",
              "  </thead>\n",
              "  <tbody>\n",
              "    <tr>\n",
              "      <th>2012-01-03</th>\n",
              "      <td>NaN</td>\n",
              "      <td>NaN</td>\n",
              "      <td>NaN</td>\n",
              "      <td>NaN</td>\n",
              "      <td>NaN</td>\n",
              "      <td>NaN</td>\n",
              "      <td>NaN</td>\n",
              "      <td>NaN</td>\n",
              "      <td>NaN</td>\n",
              "      <td>NaN</td>\n",
              "      <td>NaN</td>\n",
              "      <td>NaN</td>\n",
              "      <td>NaN</td>\n",
              "      <td>NaN</td>\n",
              "    </tr>\n",
              "    <tr>\n",
              "      <th>2012-01-04</th>\n",
              "      <td>0.005360</td>\n",
              "      <td>0.023261</td>\n",
              "      <td>-0.008526</td>\n",
              "      <td>0.004304</td>\n",
              "      <td>0.004304</td>\n",
              "      <td>-0.000449</td>\n",
              "      <td>-0.013264</td>\n",
              "      <td>0.001723</td>\n",
              "      <td>0.011332</td>\n",
              "      <td>-0.006090</td>\n",
              "      <td>0.014461</td>\n",
              "      <td>-0.000858</td>\n",
              "      <td>0.001721</td>\n",
              "      <td>0.001567</td>\n",
              "    </tr>\n",
              "    <tr>\n",
              "      <th>2012-01-05</th>\n",
              "      <td>0.011041</td>\n",
              "      <td>0.010167</td>\n",
              "      <td>0.000563</td>\n",
              "      <td>-0.013969</td>\n",
              "      <td>-0.013969</td>\n",
              "      <td>-0.004201</td>\n",
              "      <td>-0.021522</td>\n",
              "      <td>0.082555</td>\n",
              "      <td>0.035286</td>\n",
              "      <td>-0.001223</td>\n",
              "      <td>0.006677</td>\n",
              "      <td>0.020672</td>\n",
              "      <td>0.002061</td>\n",
              "      <td>0.002659</td>\n",
              "    </tr>\n",
              "    <tr>\n",
              "      <th>2012-01-06</th>\n",
              "      <td>0.010400</td>\n",
              "      <td>0.015415</td>\n",
              "      <td>0.027763</td>\n",
              "      <td>-0.013736</td>\n",
              "      <td>-0.013736</td>\n",
              "      <td>-0.002408</td>\n",
              "      <td>-0.007773</td>\n",
              "      <td>-0.020817</td>\n",
              "      <td>-0.011624</td>\n",
              "      <td>-0.008754</td>\n",
              "      <td>0.003606</td>\n",
              "      <td>-0.009009</td>\n",
              "      <td>-0.002577</td>\n",
              "      <td>-0.002581</td>\n",
              "    </tr>\n",
              "    <tr>\n",
              "      <th>2012-01-09</th>\n",
              "      <td>-0.001587</td>\n",
              "      <td>-0.013250</td>\n",
              "      <td>-0.022428</td>\n",
              "      <td>-0.043324</td>\n",
              "      <td>-0.043324</td>\n",
              "      <td>0.004211</td>\n",
              "      <td>0.012556</td>\n",
              "      <td>0.014458</td>\n",
              "      <td>0.000000</td>\n",
              "      <td>0.001541</td>\n",
              "      <td>-0.001137</td>\n",
              "      <td>-0.001698</td>\n",
              "      <td>0.001891</td>\n",
              "      <td>0.002424</td>\n",
              "    </tr>\n",
              "  </tbody>\n",
              "</table>\n",
              "</div>"
            ],
            "text/plain": [
              "                AAPL      MSFT      AMZN     GOOGL      GOOG        PG  \\\n",
              "Date                                                                     \n",
              "2012-01-03       NaN       NaN       NaN       NaN       NaN       NaN   \n",
              "2012-01-04  0.005360  0.023261 -0.008526  0.004304  0.004304 -0.000449   \n",
              "2012-01-05  0.011041  0.010167  0.000563 -0.013969 -0.013969 -0.004201   \n",
              "2012-01-06  0.010400  0.015415  0.027763 -0.013736 -0.013736 -0.002408   \n",
              "2012-01-09 -0.001587 -0.013250 -0.022428 -0.043324 -0.043324  0.004211   \n",
              "\n",
              "                TSLA       BAC      NVDA       JNJ       UNH       JPM  \\\n",
              "Date                                                                     \n",
              "2012-01-03       NaN       NaN       NaN       NaN       NaN       NaN   \n",
              "2012-01-04 -0.013264  0.001723  0.011332 -0.006090  0.014461 -0.000858   \n",
              "2012-01-05 -0.021522  0.082555  0.035286 -0.001223  0.006677  0.020672   \n",
              "2012-01-06 -0.007773 -0.020817 -0.011624 -0.008754  0.003606 -0.009009   \n",
              "2012-01-09  0.012556  0.014458  0.000000  0.001541 -0.001137 -0.001698   \n",
              "\n",
              "                 OEF       SPY  \n",
              "Date                            \n",
              "2012-01-03       NaN       NaN  \n",
              "2012-01-04  0.001721  0.001567  \n",
              "2012-01-05  0.002061  0.002659  \n",
              "2012-01-06 -0.002577 -0.002581  \n",
              "2012-01-09  0.001891  0.002424  "
            ]
          },
          "execution_count": 5,
          "metadata": {},
          "output_type": "execute_result"
        }
      ],
      "source": [
        "df_returns.head()"
      ]
    },
    {
      "cell_type": "code",
      "execution_count": 6,
      "metadata": {
        "colab": {
          "base_uri": "https://localhost:8080/"
        },
        "id": "L3CLcqhl9p_a",
        "outputId": "cdef34f1-c974-48ef-9a90-3ad4a3e7dc37"
      },
      "outputs": [
        {
          "data": {
            "text/plain": [
              "Date\n",
              "2022-01-19   -0.011130\n",
              "2022-01-20   -0.019826\n",
              "2022-01-21    0.004238\n",
              "2022-01-24   -0.012284\n",
              "2022-01-25         NaN\n",
              "Name: SPY, dtype: float64"
            ]
          },
          "execution_count": 6,
          "metadata": {},
          "output_type": "execute_result"
        }
      ],
      "source": [
        "df_returns['SPY'] = df_returns['SPY'].shift(-1)\n",
        "df_returns['SPY'].tail()"
      ]
    },
    {
      "cell_type": "code",
      "execution_count": 7,
      "metadata": {
        "id": "F5m1g8Z8376j"
      },
      "outputs": [],
      "source": [
        "Ntest = 1000\n",
        "train = df_returns.iloc[1:-Ntest]\n",
        "test = df_returns.iloc[-Ntest:-1]"
      ]
    },
    {
      "cell_type": "code",
      "execution_count": 8,
      "metadata": {
        "colab": {
          "base_uri": "https://localhost:8080/"
        },
        "id": "lChhe3784RHB",
        "outputId": "f017133e-edbe-4763-85a8-88b42a7d0653"
      },
      "outputs": [
        {
          "data": {
            "text/plain": [
              "Index(['AAPL', 'MSFT', 'AMZN', 'GOOGL', 'GOOG', 'PG', 'TSLA', 'BAC', 'NVDA',\n",
              "       'JNJ', 'UNH', 'JPM', 'OEF', 'SPY'],\n",
              "      dtype='object')"
            ]
          },
          "execution_count": 8,
          "metadata": {},
          "output_type": "execute_result"
        }
      ],
      "source": [
        "df_returns.columns"
      ]
    },
    {
      "cell_type": "code",
      "execution_count": 9,
      "metadata": {
        "colab": {
          "base_uri": "https://localhost:8080/"
        },
        "id": "UZIgiaux4HiJ",
        "outputId": "f21ab50e-b5ad-411c-f1e6-7b92ae5b42dc"
      },
      "outputs": [
        {
          "data": {
            "text/plain": [
              "['AAPL',\n",
              " 'MSFT',\n",
              " 'AMZN',\n",
              " 'GOOGL',\n",
              " 'GOOG',\n",
              " 'PG',\n",
              " 'TSLA',\n",
              " 'BAC',\n",
              " 'NVDA',\n",
              " 'JNJ',\n",
              " 'UNH',\n",
              " 'JPM']"
            ]
          },
          "execution_count": 9,
          "metadata": {},
          "output_type": "execute_result"
        }
      ],
      "source": [
        "\n",
        "# x_cols = df.columns.drop('OEF')\n",
        "x_cols = ['AAPL', 'MSFT', 'AMZN', 'GOOGL', \n",
        "         'GOOG', 'PG', 'TSLA', 'BAC', \n",
        "         'NVDA', 'JNJ', 'UNH', 'JPM']\n",
        "x_cols"
      ]
    },
    {
      "cell_type": "code",
      "execution_count": 10,
      "metadata": {
        "id": "1aZC9Hvd4CsD"
      },
      "outputs": [],
      "source": [
        "Xtrain = train[x_cols]\n",
        "Ytrain = train['SPY']\n",
        "Xtest = test[x_cols]\n",
        "Ytest = test['SPY']"
      ]
    },
    {
      "cell_type": "code",
      "execution_count": 11,
      "metadata": {},
      "outputs": [
        {
          "data": {
            "text/plain": [
              "Date\n",
              "2018-02-06   -0.005440\n",
              "2018-02-07   -0.038230\n",
              "2018-02-08    0.014910\n",
              "2018-02-09    0.014578\n",
              "2018-02-12    0.002484\n",
              "Name: SPY, dtype: float64"
            ]
          },
          "execution_count": 11,
          "metadata": {},
          "output_type": "execute_result"
        }
      ],
      "source": [
        "Ytest.head()"
      ]
    },
    {
      "cell_type": "code",
      "execution_count": 12,
      "metadata": {
        "colab": {
          "base_uri": "https://localhost:8080/",
          "height": 235
        },
        "id": "dRgg9f4Q78lk",
        "outputId": "e30d9c70-afcb-41fc-f878-b4bc4734adf8"
      },
      "outputs": [
        {
          "data": {
            "text/html": [
              "<div>\n",
              "<style scoped>\n",
              "    .dataframe tbody tr th:only-of-type {\n",
              "        vertical-align: middle;\n",
              "    }\n",
              "\n",
              "    .dataframe tbody tr th {\n",
              "        vertical-align: top;\n",
              "    }\n",
              "\n",
              "    .dataframe thead th {\n",
              "        text-align: right;\n",
              "    }\n",
              "</style>\n",
              "<table border=\"1\" class=\"dataframe\">\n",
              "  <thead>\n",
              "    <tr style=\"text-align: right;\">\n",
              "      <th></th>\n",
              "      <th>AAPL</th>\n",
              "      <th>MSFT</th>\n",
              "      <th>AMZN</th>\n",
              "      <th>GOOGL</th>\n",
              "      <th>GOOG</th>\n",
              "      <th>PG</th>\n",
              "      <th>TSLA</th>\n",
              "      <th>BAC</th>\n",
              "      <th>NVDA</th>\n",
              "      <th>JNJ</th>\n",
              "      <th>UNH</th>\n",
              "      <th>JPM</th>\n",
              "    </tr>\n",
              "    <tr>\n",
              "      <th>Date</th>\n",
              "      <th></th>\n",
              "      <th></th>\n",
              "      <th></th>\n",
              "      <th></th>\n",
              "      <th></th>\n",
              "      <th></th>\n",
              "      <th></th>\n",
              "      <th></th>\n",
              "      <th></th>\n",
              "      <th></th>\n",
              "      <th></th>\n",
              "      <th></th>\n",
              "    </tr>\n",
              "  </thead>\n",
              "  <tbody>\n",
              "    <tr>\n",
              "      <th>2012-01-04</th>\n",
              "      <td>0.005360</td>\n",
              "      <td>0.023261</td>\n",
              "      <td>-0.008526</td>\n",
              "      <td>0.004304</td>\n",
              "      <td>0.004304</td>\n",
              "      <td>-0.000449</td>\n",
              "      <td>-0.013264</td>\n",
              "      <td>0.001723</td>\n",
              "      <td>0.011332</td>\n",
              "      <td>-0.006090</td>\n",
              "      <td>0.014461</td>\n",
              "      <td>-0.000858</td>\n",
              "    </tr>\n",
              "    <tr>\n",
              "      <th>2012-01-05</th>\n",
              "      <td>0.011041</td>\n",
              "      <td>0.010167</td>\n",
              "      <td>0.000563</td>\n",
              "      <td>-0.013969</td>\n",
              "      <td>-0.013969</td>\n",
              "      <td>-0.004201</td>\n",
              "      <td>-0.021522</td>\n",
              "      <td>0.082555</td>\n",
              "      <td>0.035286</td>\n",
              "      <td>-0.001223</td>\n",
              "      <td>0.006677</td>\n",
              "      <td>0.020672</td>\n",
              "    </tr>\n",
              "    <tr>\n",
              "      <th>2012-01-06</th>\n",
              "      <td>0.010400</td>\n",
              "      <td>0.015415</td>\n",
              "      <td>0.027763</td>\n",
              "      <td>-0.013736</td>\n",
              "      <td>-0.013736</td>\n",
              "      <td>-0.002408</td>\n",
              "      <td>-0.007773</td>\n",
              "      <td>-0.020817</td>\n",
              "      <td>-0.011624</td>\n",
              "      <td>-0.008754</td>\n",
              "      <td>0.003606</td>\n",
              "      <td>-0.009009</td>\n",
              "    </tr>\n",
              "    <tr>\n",
              "      <th>2012-01-09</th>\n",
              "      <td>-0.001587</td>\n",
              "      <td>-0.013250</td>\n",
              "      <td>-0.022428</td>\n",
              "      <td>-0.043324</td>\n",
              "      <td>-0.043324</td>\n",
              "      <td>0.004211</td>\n",
              "      <td>0.012556</td>\n",
              "      <td>0.014458</td>\n",
              "      <td>0.000000</td>\n",
              "      <td>0.001541</td>\n",
              "      <td>-0.001137</td>\n",
              "      <td>-0.001698</td>\n",
              "    </tr>\n",
              "    <tr>\n",
              "      <th>2012-01-10</th>\n",
              "      <td>0.003574</td>\n",
              "      <td>0.003598</td>\n",
              "      <td>0.004359</td>\n",
              "      <td>0.001092</td>\n",
              "      <td>0.001092</td>\n",
              "      <td>-0.004663</td>\n",
              "      <td>0.013487</td>\n",
              "      <td>0.055828</td>\n",
              "      <td>-0.004135</td>\n",
              "      <td>0.004150</td>\n",
              "      <td>-0.001899</td>\n",
              "      <td>0.021024</td>\n",
              "    </tr>\n",
              "  </tbody>\n",
              "</table>\n",
              "</div>"
            ],
            "text/plain": [
              "                AAPL      MSFT      AMZN     GOOGL      GOOG        PG  \\\n",
              "Date                                                                     \n",
              "2012-01-04  0.005360  0.023261 -0.008526  0.004304  0.004304 -0.000449   \n",
              "2012-01-05  0.011041  0.010167  0.000563 -0.013969 -0.013969 -0.004201   \n",
              "2012-01-06  0.010400  0.015415  0.027763 -0.013736 -0.013736 -0.002408   \n",
              "2012-01-09 -0.001587 -0.013250 -0.022428 -0.043324 -0.043324  0.004211   \n",
              "2012-01-10  0.003574  0.003598  0.004359  0.001092  0.001092 -0.004663   \n",
              "\n",
              "                TSLA       BAC      NVDA       JNJ       UNH       JPM  \n",
              "Date                                                                    \n",
              "2012-01-04 -0.013264  0.001723  0.011332 -0.006090  0.014461 -0.000858  \n",
              "2012-01-05 -0.021522  0.082555  0.035286 -0.001223  0.006677  0.020672  \n",
              "2012-01-06 -0.007773 -0.020817 -0.011624 -0.008754  0.003606 -0.009009  \n",
              "2012-01-09  0.012556  0.014458  0.000000  0.001541 -0.001137 -0.001698  \n",
              "2012-01-10  0.013487  0.055828 -0.004135  0.004150 -0.001899  0.021024  "
            ]
          },
          "execution_count": 12,
          "metadata": {},
          "output_type": "execute_result"
        }
      ],
      "source": [
        "Xtrain.head()"
      ]
    },
    {
      "cell_type": "markdown",
      "metadata": {},
      "source": [
        "## Buy & Hold"
      ]
    },
    {
      "cell_type": "code",
      "execution_count": 13,
      "metadata": {},
      "outputs": [
        {
          "data": {
            "text/plain": [
              "(0.007692028195000439, 0.01323862118085596)"
            ]
          },
          "execution_count": 13,
          "metadata": {},
          "output_type": "execute_result"
        }
      ],
      "source": [
        "#std buy-and-hold train and test\n",
        "Ytrain.std(), Ytest.std()"
      ]
    },
    {
      "cell_type": "code",
      "execution_count": 14,
      "metadata": {},
      "outputs": [
        {
          "data": {
            "text/plain": [
              "(0.06326366009989662, 0.03621311865338717)"
            ]
          },
          "execution_count": 14,
          "metadata": {},
          "output_type": "execute_result"
        }
      ],
      "source": [
        "#SR buy-and-hold train and test\n",
        "Ytrain.mean()/Ytrain.std(), Ytest.mean()/Ytest.std()"
      ]
    },
    {
      "cell_type": "code",
      "execution_count": 15,
      "metadata": {},
      "outputs": [
        {
          "data": {
            "text/plain": [
              "(0.7455108132416282, 0.47893234786995187)"
            ]
          },
          "execution_count": 15,
          "metadata": {},
          "output_type": "execute_result"
        }
      ],
      "source": [
        "# Total return buy-and-hold train and test\n",
        "Ytrain.sum(), Ytest.sum()"
      ]
    },
    {
      "cell_type": "markdown",
      "metadata": {},
      "source": [
        "## XGBoost Regressor"
      ]
    },
    {
      "cell_type": "code",
      "execution_count": 16,
      "metadata": {
        "colab": {
          "base_uri": "https://localhost:8080/"
        },
        "id": "JKV62WkI4hM2",
        "outputId": "6a6bf207-39d4-4568-8c3a-34b1a8a1eed4"
      },
      "outputs": [
        {
          "data": {
            "text/plain": [
              "(0.9834298244484956, -0.22952952634520707)"
            ]
          },
          "execution_count": 16,
          "metadata": {},
          "output_type": "execute_result"
        }
      ],
      "source": [
        "from xgboost.sklearn import XGBRegressor\n",
        "model = XGBRegressor()\n",
        "model.fit(Xtrain, Ytrain)\n",
        "model.score(Xtrain, Ytrain), model.score(Xtest, Ytest)"
      ]
    },
    {
      "cell_type": "code",
      "execution_count": 17,
      "metadata": {
        "colab": {
          "base_uri": "https://localhost:8080/"
        },
        "id": "dT724GIU828f",
        "outputId": "9ca29365-38bc-4d95-8715-f311eac43ca0"
      },
      "outputs": [
        {
          "data": {
            "text/plain": [
              "(0.9556135770234987, 0.4954954954954955)"
            ]
          },
          "execution_count": 17,
          "metadata": {},
          "output_type": "execute_result"
        }
      ],
      "source": [
        "# Direction\n",
        "Ptrain = model.predict(Xtrain)\n",
        "Ptest = model.predict(Xtest)\n",
        "np.mean(np.sign(Ptrain) == np.sign(Ytrain)), np.mean(np.sign(Ptest) == np.sign(Ytest))"
      ]
    },
    {
      "cell_type": "code",
      "execution_count": 18,
      "metadata": {
        "colab": {
          "base_uri": "https://localhost:8080/"
        },
        "id": "s_yi4ErBuSyt",
        "outputId": "3b5b5738-fea0-4c44-b621-5f4aa881f9e4"
      },
      "outputs": [
        {
          "data": {
            "text/plain": [
              "({-1.0, 1.0}, {-1.0, 1.0})"
            ]
          },
          "execution_count": 18,
          "metadata": {},
          "output_type": "execute_result"
        }
      ],
      "source": [
        "set(np.sign(Ptrain)), set(np.sign(Ptest))"
      ]
    },
    {
      "cell_type": "code",
      "execution_count": 19,
      "metadata": {
        "id": "jbtqTtPBBmBU"
      },
      "outputs": [],
      "source": [
        "train_idx = df.index <= train.index[-1]\n",
        "test_idx = df.index > train.index[-1]\n",
        "\n",
        "train_idx[0] = False\n",
        "test_idx[-1] = False"
      ]
    },
    {
      "cell_type": "code",
      "execution_count": 20,
      "metadata": {
        "id": "R8O8ATPO9UHn"
      },
      "outputs": [],
      "source": [
        "df_returns['Position'] = 0 # create new column\n",
        "df_returns.loc[train_idx,'Position'] = (Ptrain > 0)\n",
        "df_returns.loc[test_idx,'Position'] = (Ptest > 0)"
      ]
    },
    {
      "cell_type": "code",
      "execution_count": 21,
      "metadata": {
        "id": "QhG-T22SK0R4"
      },
      "outputs": [],
      "source": [
        "df_returns['AlgoReturn'] = df_returns['Position'] * df_returns['SPY']"
      ]
    },
    {
      "cell_type": "code",
      "execution_count": 22,
      "metadata": {
        "colab": {
          "base_uri": "https://localhost:8080/"
        },
        "id": "ps6iv9TN0PlS",
        "outputId": "a1a07caf-098a-4d21-825d-e0c805d10a00"
      },
      "outputs": [
        {
          "data": {
            "text/plain": [
              "4.548949296737919"
            ]
          },
          "execution_count": 22,
          "metadata": {},
          "output_type": "execute_result"
        }
      ],
      "source": [
        "# Total algo log return train\n",
        "df_returns.iloc[1:-Ntest]['AlgoReturn'].sum()"
      ]
    },
    {
      "cell_type": "code",
      "execution_count": 23,
      "metadata": {
        "colab": {
          "base_uri": "https://localhost:8080/"
        },
        "id": "QDgFMKbHK-Dt",
        "outputId": "05201248-ba3e-4365-a90a-8ba326b860a3"
      },
      "outputs": [
        {
          "data": {
            "text/plain": [
              "0.14035455660668728"
            ]
          },
          "execution_count": 23,
          "metadata": {},
          "output_type": "execute_result"
        }
      ],
      "source": [
        "# Total algo log return test\n",
        "df_returns.iloc[-Ntest:-1]['AlgoReturn'].sum()"
      ]
    },
    {
      "cell_type": "code",
      "execution_count": 24,
      "metadata": {},
      "outputs": [
        {
          "data": {
            "text/plain": [
              "(0.004580387789241789, 0.6482612803385607)"
            ]
          },
          "execution_count": 24,
          "metadata": {},
          "output_type": "execute_result"
        }
      ],
      "source": [
        "#std and SR algo train\n",
        "df_returns.iloc[1:-Ntest]['AlgoReturn'].std(), df_returns.iloc[1:-Ntest]['AlgoReturn'].mean()/df_returns.iloc[1:-Ntest]['AlgoReturn'].std()"
      ]
    },
    {
      "cell_type": "code",
      "execution_count": 25,
      "metadata": {},
      "outputs": [
        {
          "data": {
            "text/plain": [
              "(0.010192066823229949, 0.01378474592985661)"
            ]
          },
          "execution_count": 25,
          "metadata": {},
          "output_type": "execute_result"
        }
      ],
      "source": [
        "#std and SR algo test\n",
        "df_returns.iloc[-Ntest:-1]['AlgoReturn'].std(), df_returns.iloc[-Ntest:-1]['AlgoReturn'].mean()/df_returns.iloc[-Ntest:-1]['AlgoReturn'].std()"
      ]
    },
    {
      "cell_type": "code",
      "execution_count": 26,
      "metadata": {},
      "outputs": [
        {
          "data": {
            "text/plain": [
              "(9.797725547231596e-07, 0.00021527298153112607)"
            ]
          },
          "execution_count": 26,
          "metadata": {},
          "output_type": "execute_result"
        }
      ],
      "source": [
        "# MSE\n",
        "mean_squared_error(Ytrain, Ptrain), mean_squared_error(Ytest, Ptest)"
      ]
    },
    {
      "cell_type": "code",
      "execution_count": 27,
      "metadata": {},
      "outputs": [
        {
          "data": {
            "text/plain": [
              "(0.0009898346097824422, 0.01467218393870272)"
            ]
          },
          "execution_count": 27,
          "metadata": {},
          "output_type": "execute_result"
        }
      ],
      "source": [
        "# RMSE\n",
        "mean_squared_error(Ytrain, Ptrain, squared=False), mean_squared_error(Ytest, Ptest, squared=False)"
      ]
    },
    {
      "cell_type": "code",
      "execution_count": 28,
      "metadata": {},
      "outputs": [
        {
          "data": {
            "text/plain": [
              "(0.0007017330758371461, 0.009170715330747646)"
            ]
          },
          "execution_count": 28,
          "metadata": {},
          "output_type": "execute_result"
        }
      ],
      "source": [
        "# MAE\n",
        "mean_absolute_error(Ytrain, Ptrain), mean_absolute_error(Ytest, Ptest) "
      ]
    },
    {
      "cell_type": "code",
      "execution_count": 29,
      "metadata": {},
      "outputs": [
        {
          "data": {
            "text/plain": [
              "(0.9834298244484956, -0.22952952634520707)"
            ]
          },
          "execution_count": 29,
          "metadata": {},
          "output_type": "execute_result"
        }
      ],
      "source": [
        "# R^2\n",
        "r2_score(Ytrain, Ptrain), r2_score(Ytest, Ptest)"
      ]
    },
    {
      "cell_type": "code",
      "execution_count": 30,
      "metadata": {},
      "outputs": [
        {
          "data": {
            "text/plain": [
              "(4435706936.555755, 7874461878.575875)"
            ]
          },
          "execution_count": 30,
          "metadata": {},
          "output_type": "execute_result"
        }
      ],
      "source": [
        "# MAPE\n",
        "mean_absolute_percentage_error(Ytrain, Ptrain), mean_absolute_percentage_error(Ytest, Ptest)"
      ]
    },
    {
      "cell_type": "code",
      "execution_count": 31,
      "metadata": {},
      "outputs": [
        {
          "data": {
            "text/plain": [
              "0.3175186381735368"
            ]
          },
          "execution_count": 31,
          "metadata": {},
          "output_type": "execute_result"
        }
      ],
      "source": [
        "#sMAPE train\n",
        "def smape(Ytrain, Ptrain):\n",
        "    numerator = np.abs(Ytrain - Ptrain)\n",
        "    denominator = (np.abs(Ytrain) + np.abs(Ptrain)) / 2\n",
        "    ratio = numerator / denominator\n",
        "    return ratio.mean()\n",
        "\n",
        "smape(Ytrain, Ptrain)"
      ]
    },
    {
      "cell_type": "code",
      "execution_count": 32,
      "metadata": {},
      "outputs": [
        {
          "data": {
            "text/plain": [
              "1.4936500202014384"
            ]
          },
          "execution_count": 32,
          "metadata": {},
          "output_type": "execute_result"
        }
      ],
      "source": [
        "#sMAPE test\n",
        "def smape(Ytest, Ptest):\n",
        "    numerator = np.abs(Ytest - Ptest)\n",
        "    denominator = (np.abs(Ytest) + np.abs(Ptest)) / 2\n",
        "    ratio = numerator / denominator\n",
        "    return ratio.mean()\n",
        "\n",
        "smape(Ytest, Ptest)"
      ]
    },
    {
      "cell_type": "code",
      "execution_count": 33,
      "metadata": {},
      "outputs": [
        {
          "data": {
            "text/plain": [
              "1397"
            ]
          },
          "execution_count": 33,
          "metadata": {},
          "output_type": "execute_result"
        }
      ],
      "source": [
        "df_returns['Position'].to_csv('XGBRBool.csv', index = True)\n",
        "sum(df_returns['Position'])"
      ]
    },
    {
      "cell_type": "markdown",
      "metadata": {},
      "source": [
        "## LGBM Regressor"
      ]
    },
    {
      "cell_type": "code",
      "execution_count": 34,
      "metadata": {},
      "outputs": [
        {
          "data": {
            "text/plain": [
              "(0.8017931880447143, -0.12306299467737114)"
            ]
          },
          "execution_count": 34,
          "metadata": {},
          "output_type": "execute_result"
        }
      ],
      "source": [
        "from lightgbm import LGBMRegressor\n",
        "model = LGBMRegressor()\n",
        "model.fit(Xtrain, Ytrain)\n",
        "model.score(Xtrain, Ytrain), model.score(Xtest, Ytest)"
      ]
    },
    {
      "cell_type": "code",
      "execution_count": 35,
      "metadata": {},
      "outputs": [
        {
          "data": {
            "text/plain": [
              "(0.8720626631853786, 0.4934934934934935)"
            ]
          },
          "execution_count": 35,
          "metadata": {},
          "output_type": "execute_result"
        }
      ],
      "source": [
        "# Direction\n",
        "Ptrain = model.predict(Xtrain)\n",
        "Ptest = model.predict(Xtest)\n",
        "np.mean(np.sign(Ptrain) == np.sign(Ytrain)), np.mean(np.sign(Ptest) == np.sign(Ytest))"
      ]
    },
    {
      "cell_type": "code",
      "execution_count": 36,
      "metadata": {},
      "outputs": [
        {
          "data": {
            "text/plain": [
              "({-1.0, 1.0}, {-1.0, 1.0})"
            ]
          },
          "execution_count": 36,
          "metadata": {},
          "output_type": "execute_result"
        }
      ],
      "source": [
        "set(np.sign(Ptrain)), set(np.sign(Ptest))"
      ]
    },
    {
      "cell_type": "code",
      "execution_count": 37,
      "metadata": {},
      "outputs": [],
      "source": [
        "train_idx = df.index <= train.index[-1]\n",
        "test_idx = df.index > train.index[-1]\n",
        "\n",
        "train_idx[0] = False\n",
        "test_idx[-1] = False"
      ]
    },
    {
      "cell_type": "code",
      "execution_count": 38,
      "metadata": {},
      "outputs": [],
      "source": [
        "df_returns['Position'] = 0 # create new column\n",
        "df_returns.loc[train_idx,'Position'] = (Ptrain > 0)\n",
        "df_returns.loc[test_idx,'Position'] = (Ptest > 0)"
      ]
    },
    {
      "cell_type": "code",
      "execution_count": 39,
      "metadata": {},
      "outputs": [],
      "source": [
        "df_returns['AlgoReturn'] = df_returns['Position'] * df_returns['SPY']"
      ]
    },
    {
      "cell_type": "code",
      "execution_count": 40,
      "metadata": {},
      "outputs": [
        {
          "data": {
            "text/plain": [
              "4.305100271239781"
            ]
          },
          "execution_count": 40,
          "metadata": {},
          "output_type": "execute_result"
        }
      ],
      "source": [
        "# Total algo log return train\n",
        "df_returns.iloc[1:-Ntest]['AlgoReturn'].sum()"
      ]
    },
    {
      "cell_type": "code",
      "execution_count": 41,
      "metadata": {},
      "outputs": [
        {
          "data": {
            "text/plain": [
              "0.07023256140329881"
            ]
          },
          "execution_count": 41,
          "metadata": {},
          "output_type": "execute_result"
        }
      ],
      "source": [
        "# Total algo log return test\n",
        "df_returns.iloc[-Ntest:-1]['AlgoReturn'].sum()"
      ]
    },
    {
      "cell_type": "code",
      "execution_count": 42,
      "metadata": {},
      "outputs": [
        {
          "data": {
            "text/plain": [
              "(0.0046854750974739895, 0.5997508496069112)"
            ]
          },
          "execution_count": 42,
          "metadata": {},
          "output_type": "execute_result"
        }
      ],
      "source": [
        "#std and SR algo train\n",
        "df_returns.iloc[1:-Ntest]['AlgoReturn'].std(), df_returns.iloc[1:-Ntest]['AlgoReturn'].mean()/df_returns.iloc[1:-Ntest]['AlgoReturn'].std()"
      ]
    },
    {
      "cell_type": "code",
      "execution_count": 43,
      "metadata": {},
      "outputs": [
        {
          "data": {
            "text/plain": [
              "(0.009839526139452895, 0.007144944103118711)"
            ]
          },
          "execution_count": 43,
          "metadata": {},
          "output_type": "execute_result"
        }
      ],
      "source": [
        "#std and SR algo test\n",
        "df_returns.iloc[-Ntest:-1]['AlgoReturn'].std(), df_returns.iloc[-Ntest:-1]['AlgoReturn'].mean()/df_returns.iloc[-Ntest:-1]['AlgoReturn'].std()"
      ]
    },
    {
      "cell_type": "code",
      "execution_count": 44,
      "metadata": {},
      "outputs": [
        {
          "data": {
            "text/plain": [
              "(1.171970652388961e-05, 0.00019663221917908948)"
            ]
          },
          "execution_count": 44,
          "metadata": {},
          "output_type": "execute_result"
        }
      ],
      "source": [
        "# MSE\n",
        "mean_squared_error(Ytrain, Ptrain), mean_squared_error(Ytest, Ptest)"
      ]
    },
    {
      "cell_type": "code",
      "execution_count": 45,
      "metadata": {},
      "outputs": [
        {
          "data": {
            "text/plain": [
              "(0.0034234056908128215, 0.014022561077745016)"
            ]
          },
          "execution_count": 45,
          "metadata": {},
          "output_type": "execute_result"
        }
      ],
      "source": [
        "# RMSE\n",
        "mean_squared_error(Ytrain, Ptrain, squared=False), mean_squared_error(Ytest, Ptest, squared=False)"
      ]
    },
    {
      "cell_type": "code",
      "execution_count": 46,
      "metadata": {},
      "outputs": [
        {
          "data": {
            "text/plain": [
              "(0.0024664824114634812, 0.00879838391446883)"
            ]
          },
          "execution_count": 46,
          "metadata": {},
          "output_type": "execute_result"
        }
      ],
      "source": [
        "# MAE\n",
        "mean_absolute_error(Ytrain, Ptrain), mean_absolute_error(Ytest, Ptest) "
      ]
    },
    {
      "cell_type": "code",
      "execution_count": 47,
      "metadata": {},
      "outputs": [
        {
          "data": {
            "text/plain": [
              "(0.8017931880447143, -0.12306299467737114)"
            ]
          },
          "execution_count": 47,
          "metadata": {},
          "output_type": "execute_result"
        }
      ],
      "source": [
        "# R^2\n",
        "r2_score(Ytrain, Ptrain), r2_score(Ytest, Ptest)"
      ]
    },
    {
      "cell_type": "code",
      "execution_count": 48,
      "metadata": {},
      "outputs": [
        {
          "data": {
            "text/plain": [
              "(16922369305.898806, 8807417389.688313)"
            ]
          },
          "execution_count": 48,
          "metadata": {},
          "output_type": "execute_result"
        }
      ],
      "source": [
        "# MAPE\n",
        "mean_absolute_percentage_error(Ytrain, Ptrain), mean_absolute_percentage_error(Ytest, Ptest)"
      ]
    },
    {
      "cell_type": "code",
      "execution_count": 49,
      "metadata": {},
      "outputs": [
        {
          "data": {
            "text/plain": [
              "0.7768947181720182"
            ]
          },
          "execution_count": 49,
          "metadata": {},
          "output_type": "execute_result"
        }
      ],
      "source": [
        "#sMAPE train\n",
        "def smape(Ytrain, Ptrain):\n",
        "    numerator = np.abs(Ytrain - Ptrain)\n",
        "    denominator = (np.abs(Ytrain) + np.abs(Ptrain)) / 2\n",
        "    ratio = numerator / denominator\n",
        "    return ratio.mean()\n",
        "\n",
        "smape(Ytrain, Ptrain)"
      ]
    },
    {
      "cell_type": "code",
      "execution_count": 50,
      "metadata": {},
      "outputs": [
        {
          "data": {
            "text/plain": [
              "1.5096297406108135"
            ]
          },
          "execution_count": 50,
          "metadata": {},
          "output_type": "execute_result"
        }
      ],
      "source": [
        "#sMAPE test\n",
        "def smape(Ytest, Ptest):\n",
        "    numerator = np.abs(Ytest - Ptest)\n",
        "    denominator = (np.abs(Ytest) + np.abs(Ptest)) / 2\n",
        "    ratio = numerator / denominator\n",
        "    return ratio.mean()\n",
        "\n",
        "smape(Ytest, Ptest)"
      ]
    },
    {
      "cell_type": "code",
      "execution_count": 51,
      "metadata": {},
      "outputs": [
        {
          "data": {
            "text/plain": [
              "1419"
            ]
          },
          "execution_count": 51,
          "metadata": {},
          "output_type": "execute_result"
        }
      ],
      "source": [
        "df_returns['Position'].to_csv('LGBMRBool.csv', index = True)\n",
        "sum(df_returns['Position'])"
      ]
    },
    {
      "cell_type": "code",
      "execution_count": 52,
      "metadata": {},
      "outputs": [],
      "source": [
        "from sklearn.metrics import accuracy_score, precision_score, f1_score, roc_auc_score"
      ]
    },
    {
      "cell_type": "markdown",
      "metadata": {},
      "source": [
        "## XGBoost Classifier"
      ]
    },
    {
      "cell_type": "code",
      "execution_count": 53,
      "metadata": {},
      "outputs": [
        {
          "name": "stderr",
          "output_type": "stream",
          "text": [
            "C:\\Users\\rapha\\anaconda3\\lib\\site-packages\\xgboost\\sklearn.py:1224: UserWarning: The use of label encoder in XGBClassifier is deprecated and will be removed in a future release. To remove this warning, do the following: 1) Pass option use_label_encoder=False when constructing XGBClassifier object; and 2) Encode your labels (y) as integers starting with 0, i.e. 0, 1, 2, ..., [num_class - 1].\n",
            "  warnings.warn(label_encoder_deprecation_msg, UserWarning)\n"
          ]
        },
        {
          "name": "stdout",
          "output_type": "stream",
          "text": [
            "[15:49:29] WARNING: C:/Users/Administrator/workspace/xgboost-win64_release_1.5.1/src/learner.cc:1115: Starting in XGBoost 1.3.0, the default evaluation metric used with the objective 'binary:logistic' was changed from 'error' to 'logloss'. Explicitly set eval_metric if you'd like to restore the old behavior.\n"
          ]
        },
        {
          "data": {
            "text/plain": [
              "(1.0, 0.5135135135135135)"
            ]
          },
          "execution_count": 53,
          "metadata": {},
          "output_type": "execute_result"
        }
      ],
      "source": [
        "from xgboost.sklearn import XGBClassifier\n",
        "model = XGBClassifier()\n",
        "Ctrain = (Ytrain > 0)\n",
        "Ctest = (Ytest > 0)\n",
        "model.fit(Xtrain, Ctrain)\n",
        "model.score(Xtrain, Ctrain), model.score(Xtest, Ctest)"
      ]
    },
    {
      "cell_type": "code",
      "execution_count": 54,
      "metadata": {},
      "outputs": [
        {
          "data": {
            "text/plain": [
              "({False, True}, {False, True})"
            ]
          },
          "execution_count": 54,
          "metadata": {},
          "output_type": "execute_result"
        }
      ],
      "source": [
        "Ptrain = model.predict(Xtrain)\n",
        "Ptest = model.predict(Xtest)\n",
        "df_returns.loc[train_idx,'Position'] = Ptrain\n",
        "df_returns.loc[test_idx,'Position'] = Ptest\n",
        "df_returns['AlgoReturn'] = df_returns['Position'] * df_returns['SPY']\n",
        "set(Ptrain), set(Ptest)"
      ]
    },
    {
      "cell_type": "code",
      "execution_count": 55,
      "metadata": {},
      "outputs": [
        {
          "data": {
            "text/plain": [
              "4.57496036184191"
            ]
          },
          "execution_count": 55,
          "metadata": {},
          "output_type": "execute_result"
        }
      ],
      "source": [
        "# Total algo log return train\n",
        "df_returns.iloc[1:-Ntest]['AlgoReturn'].sum()"
      ]
    },
    {
      "cell_type": "code",
      "execution_count": 56,
      "metadata": {},
      "outputs": [
        {
          "data": {
            "text/plain": [
              "0.36037509518116373"
            ]
          },
          "execution_count": 56,
          "metadata": {},
          "output_type": "execute_result"
        }
      ],
      "source": [
        "# Total algo log return test\n",
        "df_returns.iloc[-Ntest:-1]['AlgoReturn'].sum()"
      ]
    },
    {
      "cell_type": "code",
      "execution_count": 57,
      "metadata": {},
      "outputs": [
        {
          "data": {
            "text/plain": [
              "(0.0045681386530458815, 0.6537162686023011)"
            ]
          },
          "execution_count": 57,
          "metadata": {},
          "output_type": "execute_result"
        }
      ],
      "source": [
        "#std and SR algo train\n",
        "df_returns.iloc[1:-Ntest]['AlgoReturn'].std(), df_returns.iloc[1:-Ntest]['AlgoReturn'].mean()/df_returns.iloc[1:-Ntest]['AlgoReturn'].std()"
      ]
    },
    {
      "cell_type": "code",
      "execution_count": 58,
      "metadata": {},
      "outputs": [
        {
          "data": {
            "text/plain": [
              "(0.010446400949207927, 0.034532068294729566)"
            ]
          },
          "execution_count": 58,
          "metadata": {},
          "output_type": "execute_result"
        }
      ],
      "source": [
        "#std and SR algo test\n",
        "df_returns.iloc[-Ntest:-1]['AlgoReturn'].std(), df_returns.iloc[-Ntest:-1]['AlgoReturn'].mean()/df_returns.iloc[-Ntest:-1]['AlgoReturn'].std()"
      ]
    },
    {
      "cell_type": "code",
      "execution_count": 59,
      "metadata": {},
      "outputs": [
        {
          "data": {
            "text/plain": [
              "(1.0, 0.5135135135135135)"
            ]
          },
          "execution_count": 59,
          "metadata": {},
          "output_type": "execute_result"
        }
      ],
      "source": [
        "accuracy_score(Ctrain,Ptrain), accuracy_score(Ctest,Ptest)"
      ]
    },
    {
      "cell_type": "code",
      "execution_count": 60,
      "metadata": {},
      "outputs": [
        {
          "data": {
            "text/plain": [
              "(1.0, 0.5652920962199313)"
            ]
          },
          "execution_count": 60,
          "metadata": {},
          "output_type": "execute_result"
        }
      ],
      "source": [
        "precision_score(Ctrain,Ptrain), precision_score(Ctest,Ptest)"
      ]
    },
    {
      "cell_type": "code",
      "execution_count": 61,
      "metadata": {},
      "outputs": [
        {
          "data": {
            "text/plain": [
              "(1.0, 0.5751748251748251)"
            ]
          },
          "execution_count": 61,
          "metadata": {},
          "output_type": "execute_result"
        }
      ],
      "source": [
        "f1_score(Ctrain,Ptrain), f1_score(Ctest,Ptest)"
      ]
    },
    {
      "cell_type": "code",
      "execution_count": 62,
      "metadata": {},
      "outputs": [
        {
          "data": {
            "text/plain": [
              "(1.0, 0.5032309421239932)"
            ]
          },
          "execution_count": 62,
          "metadata": {},
          "output_type": "execute_result"
        }
      ],
      "source": [
        "roc_auc_score(Ctrain,Ptrain), roc_auc_score(Ctest,Ptest)"
      ]
    },
    {
      "cell_type": "code",
      "execution_count": 63,
      "metadata": {},
      "outputs": [
        {
          "data": {
            "text/plain": [
              "(0.542389704434735, 0.5820364264104364)"
            ]
          },
          "execution_count": 63,
          "metadata": {},
          "output_type": "execute_result"
        }
      ],
      "source": [
        "# MSE\n",
        "mean_squared_error(Ytrain, Ptrain), mean_squared_error(Ytest, Ptest)"
      ]
    },
    {
      "cell_type": "code",
      "execution_count": 64,
      "metadata": {},
      "outputs": [
        {
          "data": {
            "text/plain": [
              "(0.7364711158183564, 0.7629131185203439)"
            ]
          },
          "execution_count": 64,
          "metadata": {},
          "output_type": "execute_result"
        }
      ],
      "source": [
        "# RMSE\n",
        "mean_squared_error(Ytrain, Ptrain, squared=False), mean_squared_error(Ytest, Ptest, squared=False)"
      ]
    },
    {
      "cell_type": "code",
      "execution_count": 65,
      "metadata": {},
      "outputs": [
        {
          "data": {
            "text/plain": [
              "(0.5478162462054559, 0.5854330539791581)"
            ]
          },
          "execution_count": 65,
          "metadata": {},
          "output_type": "execute_result"
        }
      ],
      "source": [
        "# MAE\n",
        "mean_absolute_error(Ytrain, Ptrain), mean_absolute_error(Ytest, Ptest) "
      ]
    },
    {
      "cell_type": "code",
      "execution_count": 66,
      "metadata": {},
      "outputs": [
        {
          "data": {
            "text/plain": [
              "(-9172.039779984092, -3323.2953509082545)"
            ]
          },
          "execution_count": 66,
          "metadata": {},
          "output_type": "execute_result"
        }
      ],
      "source": [
        "# R^2\n",
        "r2_score(Ytrain, Ptrain), r2_score(Ytest, Ptest)"
      ]
    },
    {
      "cell_type": "code",
      "execution_count": 67,
      "metadata": {},
      "outputs": [
        {
          "data": {
            "text/plain": [
              "(528.804084883318, 4508107735442.251)"
            ]
          },
          "execution_count": 67,
          "metadata": {},
          "output_type": "execute_result"
        }
      ],
      "source": [
        "# MAPE\n",
        "mean_absolute_percentage_error(Ytrain, Ptrain), mean_absolute_percentage_error(Ytest, Ptest)"
      ]
    },
    {
      "cell_type": "code",
      "execution_count": 68,
      "metadata": {},
      "outputs": [
        {
          "data": {
            "text/plain": [
              "1.9881180951400796"
            ]
          },
          "execution_count": 68,
          "metadata": {},
          "output_type": "execute_result"
        }
      ],
      "source": [
        "#sMAPE train\n",
        "def smape(Ytrain, Ptrain):\n",
        "    numerator = np.abs(Ytrain - Ptrain)\n",
        "    denominator = (np.abs(Ytrain) + np.abs(Ptrain)) / 2\n",
        "    ratio = numerator / denominator\n",
        "    return ratio.mean()\n",
        "\n",
        "smape(Ytrain, Ptrain)"
      ]
    },
    {
      "cell_type": "code",
      "execution_count": 69,
      "metadata": {},
      "outputs": [
        {
          "data": {
            "text/plain": [
              "1.9893955042924054"
            ]
          },
          "execution_count": 69,
          "metadata": {},
          "output_type": "execute_result"
        }
      ],
      "source": [
        "#sMAPE test\n",
        "def smape(Ytest, Ptest):\n",
        "    numerator = np.abs(Ytest - Ptest)\n",
        "    denominator = (np.abs(Ytest) + np.abs(Ptest)) / 2\n",
        "    ratio = numerator / denominator\n",
        "    return ratio.mean()\n",
        "\n",
        "smape(Ytest, Ptest)"
      ]
    },
    {
      "cell_type": "code",
      "execution_count": 70,
      "metadata": {},
      "outputs": [
        {
          "data": {
            "text/plain": [
              "1422"
            ]
          },
          "execution_count": 70,
          "metadata": {},
          "output_type": "execute_result"
        }
      ],
      "source": [
        "df_returns['Position'].to_csv('XGBCBool.csv', index = True)\n",
        "sum(df_returns['Position'])"
      ]
    },
    {
      "cell_type": "markdown",
      "metadata": {},
      "source": [
        "## LGBM Classifier"
      ]
    },
    {
      "cell_type": "code",
      "execution_count": 71,
      "metadata": {},
      "outputs": [
        {
          "data": {
            "text/plain": [
              "(0.9980417754569191, 0.5395395395395396)"
            ]
          },
          "execution_count": 71,
          "metadata": {},
          "output_type": "execute_result"
        }
      ],
      "source": [
        "from lightgbm import LGBMClassifier\n",
        "model = LGBMClassifier()\n",
        "Ctrain = (Ytrain > 0)\n",
        "Ctest = (Ytest > 0)\n",
        "model.fit(Xtrain, Ctrain)\n",
        "model.score(Xtrain, Ctrain), model.score(Xtest, Ctest)"
      ]
    },
    {
      "cell_type": "code",
      "execution_count": 72,
      "metadata": {},
      "outputs": [
        {
          "data": {
            "text/plain": [
              "({False, True}, {False, True})"
            ]
          },
          "execution_count": 72,
          "metadata": {},
          "output_type": "execute_result"
        }
      ],
      "source": [
        "Ptrain = model.predict(Xtrain)\n",
        "Ptest = model.predict(Xtest)\n",
        "df_returns.loc[train_idx,'Position'] = Ptrain\n",
        "df_returns.loc[test_idx,'Position'] = Ptest\n",
        "df_returns['AlgoReturn'] = df_returns['Position'] * df_returns['SPY']\n",
        "set(Ptrain), set(Ptest)"
      ]
    },
    {
      "cell_type": "code",
      "execution_count": 73,
      "metadata": {},
      "outputs": [
        {
          "data": {
            "text/plain": [
              "4.54881261531812"
            ]
          },
          "execution_count": 73,
          "metadata": {},
          "output_type": "execute_result"
        }
      ],
      "source": [
        "# Total algo log return train\n",
        "df_returns.iloc[1:-Ntest]['AlgoReturn'].sum()"
      ]
    },
    {
      "cell_type": "code",
      "execution_count": 74,
      "metadata": {},
      "outputs": [
        {
          "data": {
            "text/plain": [
              "0.4813063796443311"
            ]
          },
          "execution_count": 74,
          "metadata": {},
          "output_type": "execute_result"
        }
      ],
      "source": [
        "# Total algo log return test\n",
        "df_returns.iloc[-Ntest:-1]['AlgoReturn'].sum()"
      ]
    },
    {
      "cell_type": "code",
      "execution_count": 75,
      "metadata": {},
      "outputs": [
        {
          "data": {
            "text/plain": [
              "(0.004553608757925888, 0.6520540065933288)"
            ]
          },
          "execution_count": 75,
          "metadata": {},
          "output_type": "execute_result"
        }
      ],
      "source": [
        "#std and SR algo train\n",
        "df_returns.iloc[1:-Ntest]['AlgoReturn'].std(), df_returns.iloc[1:-Ntest]['AlgoReturn'].mean()/df_returns.iloc[1:-Ntest]['AlgoReturn'].std()"
      ]
    },
    {
      "cell_type": "code",
      "execution_count": 76,
      "metadata": {},
      "outputs": [
        {
          "data": {
            "text/plain": [
              "(0.009690811460031009, 0.04971597784140582)"
            ]
          },
          "execution_count": 76,
          "metadata": {},
          "output_type": "execute_result"
        }
      ],
      "source": [
        "#std and SR algo test\n",
        "df_returns.iloc[-Ntest:-1]['AlgoReturn'].std(), df_returns.iloc[-Ntest:-1]['AlgoReturn'].mean()/df_returns.iloc[-Ntest:-1]['AlgoReturn'].std()"
      ]
    },
    {
      "cell_type": "code",
      "execution_count": 77,
      "metadata": {},
      "outputs": [
        {
          "data": {
            "text/plain": [
              "(0.9980417754569191, 0.5395395395395396)"
            ]
          },
          "execution_count": 77,
          "metadata": {},
          "output_type": "execute_result"
        }
      ],
      "source": [
        "accuracy_score(Ctrain,Ptrain), accuracy_score(Ctest,Ptest)"
      ]
    },
    {
      "cell_type": "code",
      "execution_count": 78,
      "metadata": {},
      "outputs": [
        {
          "data": {
            "text/plain": [
              "(0.9976218787158145, 0.5841584158415841)"
            ]
          },
          "execution_count": 78,
          "metadata": {},
          "output_type": "execute_result"
        }
      ],
      "source": [
        "precision_score(Ctrain,Ptrain), precision_score(Ctest,Ptest)"
      ]
    },
    {
      "cell_type": "code",
      "execution_count": 79,
      "metadata": {},
      "outputs": [
        {
          "data": {
            "text/plain": [
              "(0.9982153480071387, 0.6061643835616438)"
            ]
          },
          "execution_count": 79,
          "metadata": {},
          "output_type": "execute_result"
        }
      ],
      "source": [
        "f1_score(Ctrain,Ptrain), f1_score(Ctest,Ptest)"
      ]
    },
    {
      "cell_type": "code",
      "execution_count": 80,
      "metadata": {},
      "outputs": [
        {
          "data": {
            "text/plain": [
              "(0.9979596751995596, 0.5266170997662809)"
            ]
          },
          "execution_count": 80,
          "metadata": {},
          "output_type": "execute_result"
        }
      ],
      "source": [
        "roc_auc_score(Ctrain,Ptrain), roc_auc_score(Ctest,Ptest)"
      ]
    },
    {
      "cell_type": "code",
      "execution_count": 81,
      "metadata": {},
      "outputs": [
        {
          "data": {
            "text/plain": [
              "(0.5430765813884214, 0.6058183457608605)"
            ]
          },
          "execution_count": 81,
          "metadata": {},
          "output_type": "execute_result"
        }
      ],
      "source": [
        "# MSE\n",
        "mean_squared_error(Ytrain, Ptrain), mean_squared_error(Ytest, Ptest)"
      ]
    },
    {
      "cell_type": "code",
      "execution_count": 82,
      "metadata": {},
      "outputs": [
        {
          "data": {
            "text/plain": [
              "(0.7369372981390082, 0.7783433341147469)"
            ]
          },
          "execution_count": 82,
          "metadata": {},
          "output_type": "execute_result"
        }
      ],
      "source": [
        "# RMSE\n",
        "mean_squared_error(Ytrain, Ptrain, squared=False), mean_squared_error(Ytest, Ptest, squared=False)"
      ]
    },
    {
      "cell_type": "code",
      "execution_count": 83,
      "metadata": {},
      "outputs": [
        {
          "data": {
            "text/plain": [
              "(0.5484944585601041, 0.6094986014115925)"
            ]
          },
          "execution_count": 83,
          "metadata": {},
          "output_type": "execute_result"
        }
      ],
      "source": [
        "# MAE\n",
        "mean_absolute_error(Ytrain, Ptrain), mean_absolute_error(Ytest, Ptest) "
      ]
    },
    {
      "cell_type": "code",
      "execution_count": 84,
      "metadata": {},
      "outputs": [
        {
          "data": {
            "text/plain": [
              "(-9183.656426776248, -3459.125550436935)"
            ]
          },
          "execution_count": 84,
          "metadata": {},
          "output_type": "execute_result"
        }
      ],
      "source": [
        "# R^2\n",
        "r2_score(Ytrain, Ptrain), r2_score(Ytest, Ptest)"
      ]
    },
    {
      "cell_type": "code",
      "execution_count": 85,
      "metadata": {},
      "outputs": [
        {
          "data": {
            "text/plain": [
              "(529.1653759644299, 4508107735459.109)"
            ]
          },
          "execution_count": 85,
          "metadata": {},
          "output_type": "execute_result"
        }
      ],
      "source": [
        "# MAPE\n",
        "mean_absolute_percentage_error(Ytrain, Ptrain), mean_absolute_percentage_error(Ytest, Ptest)"
      ]
    },
    {
      "cell_type": "code",
      "execution_count": 86,
      "metadata": {},
      "outputs": [
        {
          "data": {
            "text/plain": [
              "1.988168291291101"
            ]
          },
          "execution_count": 86,
          "metadata": {},
          "output_type": "execute_result"
        }
      ],
      "source": [
        "#sMAPE train\n",
        "def smape(Ytrain, Ptrain):\n",
        "    numerator = np.abs(Ytrain - Ptrain)\n",
        "    denominator = (np.abs(Ytrain) + np.abs(Ptrain)) / 2\n",
        "    ratio = numerator / denominator\n",
        "    return ratio.mean()\n",
        "\n",
        "smape(Ytrain, Ptrain)"
      ]
    },
    {
      "cell_type": "code",
      "execution_count": 87,
      "metadata": {},
      "outputs": [
        {
          "data": {
            "text/plain": [
              "1.9894553751092587"
            ]
          },
          "execution_count": 87,
          "metadata": {},
          "output_type": "execute_result"
        }
      ],
      "source": [
        "#sMAPE test\n",
        "def smape(Ytest, Ptest):\n",
        "    numerator = np.abs(Ytest - Ptest)\n",
        "    denominator = (np.abs(Ytest) + np.abs(Ptest)) / 2\n",
        "    ratio = numerator / denominator\n",
        "    return ratio.mean()\n",
        "\n",
        "smape(Ytest, Ptest)"
      ]
    },
    {
      "cell_type": "code",
      "execution_count": 88,
      "metadata": {},
      "outputs": [
        {
          "data": {
            "text/plain": [
              "1447"
            ]
          },
          "execution_count": 88,
          "metadata": {},
          "output_type": "execute_result"
        }
      ],
      "source": [
        "df_returns['Position'].to_csv('LGBMCBool.csv', index = True)\n",
        "sum(df_returns['Position'])"
      ]
    },
    {
      "cell_type": "markdown",
      "metadata": {},
      "source": [
        "## KNN"
      ]
    },
    {
      "cell_type": "code",
      "execution_count": 89,
      "metadata": {},
      "outputs": [
        {
          "data": {
            "text/plain": [
              "(0.6906005221932114, 0.5165165165165165)"
            ]
          },
          "execution_count": 89,
          "metadata": {},
          "output_type": "execute_result"
        }
      ],
      "source": [
        "from sklearn.neighbors import KNeighborsClassifier\n",
        "model = KNeighborsClassifier()\n",
        "Ctrain = (Ytrain > 0)\n",
        "Ctest = (Ytest > 0)\n",
        "model.fit(Xtrain, Ctrain)\n",
        "model.score(Xtrain, Ctrain), model.score(Xtest, Ctest)"
      ]
    },
    {
      "cell_type": "code",
      "execution_count": 90,
      "metadata": {},
      "outputs": [
        {
          "data": {
            "text/plain": [
              "({False, True}, {False, True})"
            ]
          },
          "execution_count": 90,
          "metadata": {},
          "output_type": "execute_result"
        }
      ],
      "source": [
        "Ptrain = model.predict(Xtrain)\n",
        "Ptest = model.predict(Xtest)\n",
        "df_returns.loc[train_idx,'Position'] = Ptrain\n",
        "df_returns.loc[test_idx,'Position'] = Ptest\n",
        "df_returns['AlgoReturn'] = df_returns['Position'] * df_returns['SPY']\n",
        "set(Ptrain), set(Ptest)"
      ]
    },
    {
      "cell_type": "code",
      "execution_count": 91,
      "metadata": {},
      "outputs": [
        {
          "data": {
            "text/plain": [
              "1.863627676840613"
            ]
          },
          "execution_count": 91,
          "metadata": {},
          "output_type": "execute_result"
        }
      ],
      "source": [
        "# Total algo log return train\n",
        "df_returns.iloc[1:-Ntest]['AlgoReturn'].sum()"
      ]
    },
    {
      "cell_type": "code",
      "execution_count": 92,
      "metadata": {},
      "outputs": [
        {
          "data": {
            "text/plain": [
              "0.24670659878196854"
            ]
          },
          "execution_count": 92,
          "metadata": {},
          "output_type": "execute_result"
        }
      ],
      "source": [
        "# Total algo log return test\n",
        "df_returns.iloc[-Ntest:-1]['AlgoReturn'].sum()"
      ]
    },
    {
      "cell_type": "code",
      "execution_count": 93,
      "metadata": {},
      "outputs": [
        {
          "data": {
            "text/plain": [
              "(0.005571023038250276, 0.2183561517575051)"
            ]
          },
          "execution_count": 93,
          "metadata": {},
          "output_type": "execute_result"
        }
      ],
      "source": [
        "#std and SR algo train\n",
        "df_returns.iloc[1:-Ntest]['AlgoReturn'].std(), df_returns.iloc[1:-Ntest]['AlgoReturn'].mean()/df_returns.iloc[1:-Ntest]['AlgoReturn'].std()"
      ]
    },
    {
      "cell_type": "code",
      "execution_count": 94,
      "metadata": {},
      "outputs": [
        {
          "data": {
            "text/plain": [
              "(0.009415430081206775, 0.02622860030868084)"
            ]
          },
          "execution_count": 94,
          "metadata": {},
          "output_type": "execute_result"
        }
      ],
      "source": [
        "#std and SR algo test\n",
        "df_returns.iloc[-Ntest:-1]['AlgoReturn'].std(), df_returns.iloc[-Ntest:-1]['AlgoReturn'].mean()/df_returns.iloc[-Ntest:-1]['AlgoReturn'].std()"
      ]
    },
    {
      "cell_type": "code",
      "execution_count": 95,
      "metadata": {},
      "outputs": [
        {
          "data": {
            "text/plain": [
              "(0.6906005221932114, 0.5165165165165165)"
            ]
          },
          "execution_count": 95,
          "metadata": {},
          "output_type": "execute_result"
        }
      ],
      "source": [
        "accuracy_score(Ctrain,Ptrain), accuracy_score(Ctest,Ptest)"
      ]
    },
    {
      "cell_type": "code",
      "execution_count": 96,
      "metadata": {},
      "outputs": [
        {
          "data": {
            "text/plain": [
              "(0.700218818380744, 0.5706618962432916)"
            ]
          },
          "execution_count": 96,
          "metadata": {},
          "output_type": "execute_result"
        }
      ],
      "source": [
        "precision_score(Ctrain,Ptrain), precision_score(Ctest,Ptest)"
      ]
    },
    {
      "cell_type": "code",
      "execution_count": 97,
      "metadata": {},
      "outputs": [
        {
          "data": {
            "text/plain": [
              "(0.7297605473204104, 0.5691347011596788)"
            ]
          },
          "execution_count": 97,
          "metadata": {},
          "output_type": "execute_result"
        }
      ],
      "source": [
        "f1_score(Ctrain,Ptrain), f1_score(Ctest,Ptest)"
      ]
    },
    {
      "cell_type": "code",
      "execution_count": 98,
      "metadata": {},
      "outputs": [
        {
          "data": {
            "text/plain": [
              "(0.6829755023396642, 0.5092082868473986)"
            ]
          },
          "execution_count": 98,
          "metadata": {},
          "output_type": "execute_result"
        }
      ],
      "source": [
        "roc_auc_score(Ctrain,Ptrain), roc_auc_score(Ctest,Ptest)"
      ]
    },
    {
      "cell_type": "code",
      "execution_count": 99,
      "metadata": {},
      "outputs": [
        {
          "data": {
            "text/plain": [
              "(0.594232175302883, 0.5592409679447692)"
            ]
          },
          "execution_count": 99,
          "metadata": {},
          "output_type": "execute_result"
        }
      ],
      "source": [
        "# MSE\n",
        "mean_squared_error(Ytrain, Ptrain), mean_squared_error(Ytest, Ptest)"
      ]
    },
    {
      "cell_type": "code",
      "execution_count": 100,
      "metadata": {},
      "outputs": [
        {
          "data": {
            "text/plain": [
              "(0.7708645635277853, 0.7478241557644211)"
            ]
          },
          "execution_count": 100,
          "metadata": {},
          "output_type": "execute_result"
        }
      ],
      "source": [
        "# RMSE\n",
        "mean_squared_error(Ytrain, Ptrain, squared=False), mean_squared_error(Ytest, Ptest, squared=False)"
      ]
    },
    {
      "cell_type": "code",
      "execution_count": 101,
      "metadata": {},
      "outputs": [
        {
          "data": {
            "text/plain": [
              "(0.597648693195745, 0.5628696436713001)"
            ]
          },
          "execution_count": 101,
          "metadata": {},
          "output_type": "execute_result"
        }
      ],
      "source": [
        "# MAE\n",
        "mean_absolute_error(Ytrain, Ptrain), mean_absolute_error(Ytest, Ptest) "
      ]
    },
    {
      "cell_type": "code",
      "execution_count": 102,
      "metadata": {},
      "outputs": [
        {
          "data": {
            "text/plain": [
              "(-10048.8135160597, -3193.0993130647353)"
            ]
          },
          "execution_count": 102,
          "metadata": {},
          "output_type": "execute_result"
        }
      ],
      "source": [
        "# R^2\n",
        "r2_score(Ytrain, Ptrain), r2_score(Ytest, Ptest)"
      ]
    },
    {
      "cell_type": "code",
      "execution_count": 103,
      "metadata": {},
      "outputs": [
        {
          "data": {
            "text/plain": [
              "(5879372882254.42, 9016215470510.89)"
            ]
          },
          "execution_count": 103,
          "metadata": {},
          "output_type": "execute_result"
        }
      ],
      "source": [
        "# MAPE\n",
        "mean_absolute_percentage_error(Ytrain, Ptrain), mean_absolute_percentage_error(Ytest, Ptest)"
      ]
    },
    {
      "cell_type": "code",
      "execution_count": 104,
      "metadata": {},
      "outputs": [
        {
          "data": {
            "text/plain": [
              "1.9911688689629294"
            ]
          },
          "execution_count": 104,
          "metadata": {},
          "output_type": "execute_result"
        }
      ],
      "source": [
        "#sMAPE train\n",
        "def smape(Ytrain, Ptrain):\n",
        "    numerator = np.abs(Ytrain - Ptrain)\n",
        "    denominator = (np.abs(Ytrain) + np.abs(Ptrain)) / 2\n",
        "    ratio = numerator / denominator\n",
        "    return ratio.mean()\n",
        "\n",
        "smape(Ytrain, Ptrain)"
      ]
    },
    {
      "cell_type": "code",
      "execution_count": 105,
      "metadata": {},
      "outputs": [
        {
          "data": {
            "text/plain": [
              "1.9902954863003026"
            ]
          },
          "execution_count": 105,
          "metadata": {},
          "output_type": "execute_result"
        }
      ],
      "source": [
        "#sMAPE test\n",
        "def smape(Ytest, Ptest):\n",
        "    numerator = np.abs(Ytest - Ptest)\n",
        "    denominator = (np.abs(Ytest) + np.abs(Ptest)) / 2\n",
        "    ratio = numerator / denominator\n",
        "    return ratio.mean()\n",
        "\n",
        "smape(Ytest, Ptest)"
      ]
    },
    {
      "cell_type": "code",
      "execution_count": 106,
      "metadata": {},
      "outputs": [
        {
          "data": {
            "text/plain": [
              "1473"
            ]
          },
          "execution_count": 106,
          "metadata": {},
          "output_type": "execute_result"
        }
      ],
      "source": [
        "df_returns['Position'].to_csv('KNNBool.csv', index = True)\n",
        "sum(df_returns['Position'])"
      ]
    },
    {
      "cell_type": "markdown",
      "metadata": {},
      "source": [
        "## Naive Bayes Gaussian Classifier"
      ]
    },
    {
      "cell_type": "code",
      "execution_count": 107,
      "metadata": {
        "colab": {
          "base_uri": "https://localhost:8080/"
        },
        "id": "i_XD8BdQNCrN",
        "outputId": "2d3444b3-536b-40fa-9871-9263c73e2f78"
      },
      "outputs": [
        {
          "data": {
            "text/plain": [
              "(0.5489556135770235, 0.5285285285285285)"
            ]
          },
          "execution_count": 107,
          "metadata": {},
          "output_type": "execute_result"
        }
      ],
      "source": [
        "from sklearn.naive_bayes import GaussianNB\n",
        "model = GaussianNB()\n",
        "Ctrain = (Ytrain > 0)\n",
        "Ctest = (Ytest > 0)\n",
        "model.fit(Xtrain, Ctrain)\n",
        "model.score(Xtrain, Ctrain), model.score(Xtest, Ctest)"
      ]
    },
    {
      "cell_type": "code",
      "execution_count": 108,
      "metadata": {
        "id": "0WwsmcBUPSPn"
      },
      "outputs": [
        {
          "data": {
            "text/plain": [
              "({False, True}, {False, True})"
            ]
          },
          "execution_count": 108,
          "metadata": {},
          "output_type": "execute_result"
        }
      ],
      "source": [
        "Ptrain = model.predict(Xtrain)\n",
        "Ptest = model.predict(Xtest)\n",
        "df_returns.loc[train_idx,'Position'] = Ptrain\n",
        "df_returns.loc[test_idx,'Position'] = Ptest\n",
        "df_returns['AlgoReturn'] = df_returns['Position'] * df_returns['SPY']\n",
        "set(Ptrain), set(Ptest)"
      ]
    },
    {
      "cell_type": "code",
      "execution_count": 109,
      "metadata": {
        "colab": {
          "base_uri": "https://localhost:8080/"
        },
        "id": "zcizGyM90l81",
        "outputId": "b54b66d6-aae1-4d7c-ce57-e4a99aafd55a"
      },
      "outputs": [
        {
          "data": {
            "text/plain": [
              "0.8384715680168799"
            ]
          },
          "execution_count": 109,
          "metadata": {},
          "output_type": "execute_result"
        }
      ],
      "source": [
        "# Total algo log return train\n",
        "df_returns.iloc[1:-Ntest]['AlgoReturn'].sum()"
      ]
    },
    {
      "cell_type": "code",
      "execution_count": 110,
      "metadata": {
        "colab": {
          "base_uri": "https://localhost:8080/"
        },
        "id": "VL0fqq4zP5_C",
        "outputId": "c9418bd5-0581-4403-d62d-92407cf24e43"
      },
      "outputs": [
        {
          "data": {
            "text/plain": [
              "0.7350239418040294"
            ]
          },
          "execution_count": 110,
          "metadata": {},
          "output_type": "execute_result"
        }
      ],
      "source": [
        "# Total algo log return test\n",
        "df_returns.iloc[-Ntest:-1]['AlgoReturn'].sum()"
      ]
    },
    {
      "cell_type": "code",
      "execution_count": 111,
      "metadata": {},
      "outputs": [
        {
          "data": {
            "text/plain": [
              "(0.00643895503143321, 0.0849990718033611)"
            ]
          },
          "execution_count": 111,
          "metadata": {},
          "output_type": "execute_result"
        }
      ],
      "source": [
        "#std and SR algo train\n",
        "df_returns.iloc[1:-Ntest]['AlgoReturn'].std(), df_returns.iloc[1:-Ntest]['AlgoReturn'].mean()/df_returns.iloc[1:-Ntest]['AlgoReturn'].std()"
      ]
    },
    {
      "cell_type": "code",
      "execution_count": 112,
      "metadata": {},
      "outputs": [
        {
          "data": {
            "text/plain": [
              "(0.009876827557135549, 0.07449352509693083)"
            ]
          },
          "execution_count": 112,
          "metadata": {},
          "output_type": "execute_result"
        }
      ],
      "source": [
        "#std and SR algo test\n",
        "df_returns.iloc[-Ntest:-1]['AlgoReturn'].std(), df_returns.iloc[-Ntest:-1]['AlgoReturn'].mean()/df_returns.iloc[-Ntest:-1]['AlgoReturn'].std()"
      ]
    },
    {
      "cell_type": "code",
      "execution_count": 113,
      "metadata": {},
      "outputs": [
        {
          "data": {
            "text/plain": [
              "(0.5489556135770235, 0.5285285285285285)"
            ]
          },
          "execution_count": 113,
          "metadata": {},
          "output_type": "execute_result"
        }
      ],
      "source": [
        "accuracy_score(Ctrain,Ptrain), accuracy_score(Ctest,Ptest)"
      ]
    },
    {
      "cell_type": "code",
      "execution_count": 114,
      "metadata": {},
      "outputs": [
        {
          "data": {
            "text/plain": [
              "(0.5685372585096596, 0.566813509544787)"
            ]
          },
          "execution_count": 114,
          "metadata": {},
          "output_type": "execute_result"
        }
      ],
      "source": [
        "precision_score(Ctrain,Ptrain), precision_score(Ctest,Ptest)"
      ]
    },
    {
      "cell_type": "code",
      "execution_count": 115,
      "metadata": {},
      "outputs": [
        {
          "data": {
            "text/plain": [
              "(0.6414115204981838, 0.6210780370072405)"
            ]
          },
          "execution_count": 115,
          "metadata": {},
          "output_type": "execute_result"
        }
      ],
      "source": [
        "f1_score(Ctrain,Ptrain), f1_score(Ctest,Ptest)"
      ]
    },
    {
      "cell_type": "code",
      "execution_count": 116,
      "metadata": {},
      "outputs": [
        {
          "data": {
            "text/plain": [
              "(0.5289843104872006, 0.5058877659877685)"
            ]
          },
          "execution_count": 116,
          "metadata": {},
          "output_type": "execute_result"
        }
      ],
      "source": [
        "roc_auc_score(Ctrain,Ptrain), roc_auc_score(Ctest,Ptest)"
      ]
    },
    {
      "cell_type": "code",
      "execution_count": 117,
      "metadata": {},
      "outputs": [
        {
          "data": {
            "text/plain": [
              "(0.7084947811890757, 0.6803854777685489)"
            ]
          },
          "execution_count": 117,
          "metadata": {},
          "output_type": "execute_result"
        }
      ],
      "source": [
        "# MSE\n",
        "mean_squared_error(Ytrain, Ptrain), mean_squared_error(Ytest, Ptest)"
      ]
    },
    {
      "cell_type": "code",
      "execution_count": 118,
      "metadata": {},
      "outputs": [
        {
          "data": {
            "text/plain": [
              "(0.8417213203840542, 0.8248548222375552)"
            ]
          },
          "execution_count": 118,
          "metadata": {},
          "output_type": "execute_result"
        }
      ],
      "source": [
        "# RMSE\n",
        "mean_squared_error(Ytrain, Ptrain, squared=False), mean_squared_error(Ytest, Ptest, squared=False)"
      ]
    },
    {
      "cell_type": "code",
      "execution_count": 119,
      "metadata": {},
      "outputs": [
        {
          "data": {
            "text/plain": [
              "(0.7105498260922937, 0.6838024777295859)"
            ]
          },
          "execution_count": 119,
          "metadata": {},
          "output_type": "execute_result"
        }
      ],
      "source": [
        "# MAE\n",
        "mean_absolute_error(Ytrain, Ptrain), mean_absolute_error(Ytest, Ptest) "
      ]
    },
    {
      "cell_type": "code",
      "execution_count": 120,
      "metadata": {},
      "outputs": [
        {
          "data": {
            "text/plain": [
              "(-11981.253274021241, -3885.014994835592)"
            ]
          },
          "execution_count": 120,
          "metadata": {},
          "output_type": "execute_result"
        }
      ],
      "source": [
        "# R^2\n",
        "r2_score(Ytrain, Ptrain), r2_score(Ytest, Ptest)"
      ]
    },
    {
      "cell_type": "code",
      "execution_count": 121,
      "metadata": {},
      "outputs": [
        {
          "data": {
            "text/plain": [
              "(8819059323202.854, 9016215470664.955)"
            ]
          },
          "execution_count": 121,
          "metadata": {},
          "output_type": "execute_result"
        }
      ],
      "source": [
        "# MAPE\n",
        "mean_absolute_percentage_error(Ytrain, Ptrain), mean_absolute_percentage_error(Ytest, Ptest)"
      ]
    },
    {
      "cell_type": "code",
      "execution_count": 122,
      "metadata": {},
      "outputs": [
        {
          "data": {
            "text/plain": [
              "1.9911293283562363"
            ]
          },
          "execution_count": 122,
          "metadata": {},
          "output_type": "execute_result"
        }
      ],
      "source": [
        "#sMAPE train\n",
        "def smape(Ytrain, Ptrain):\n",
        "    numerator = np.abs(Ytrain - Ptrain)\n",
        "    denominator = (np.abs(Ytrain) + np.abs(Ptrain)) / 2\n",
        "    ratio = numerator / denominator\n",
        "    return ratio.mean()\n",
        "\n",
        "smape(Ytrain, Ptrain)"
      ]
    },
    {
      "cell_type": "code",
      "execution_count": 123,
      "metadata": {},
      "outputs": [
        {
          "data": {
            "text/plain": [
              "1.9879775935740793"
            ]
          },
          "execution_count": 123,
          "metadata": {},
          "output_type": "execute_result"
        }
      ],
      "source": [
        "#sMAPE test\n",
        "def smape(Ytest, Ptest):\n",
        "    numerator = np.abs(Ytest - Ptest)\n",
        "    denominator = (np.abs(Ytest) + np.abs(Ptest)) / 2\n",
        "    ratio = numerator / denominator\n",
        "    return ratio.mean()\n",
        "\n",
        "smape(Ytest, Ptest)"
      ]
    },
    {
      "cell_type": "code",
      "execution_count": 124,
      "metadata": {},
      "outputs": [
        {
          "data": {
            "text/plain": [
              "1768"
            ]
          },
          "execution_count": 124,
          "metadata": {},
          "output_type": "execute_result"
        }
      ],
      "source": [
        "df_returns['Position'].to_csv('NBGCBool.csv', index = True)\n",
        "sum(df_returns['Position'])"
      ]
    }
  ],
  "metadata": {
    "colab": {
      "collapsed_sections": [],
      "name": "Regression-Based Strategy 0-1.ipynb",
      "provenance": []
    },
    "kernelspec": {
      "display_name": "Python 3",
      "name": "python3"
    },
    "language_info": {
      "codemirror_mode": {
        "name": "ipython",
        "version": 3
      },
      "file_extension": ".py",
      "mimetype": "text/x-python",
      "name": "python",
      "nbconvert_exporter": "python",
      "pygments_lexer": "ipython3",
      "version": "3.6.5"
    }
  },
  "nbformat": 4,
  "nbformat_minor": 0
}
