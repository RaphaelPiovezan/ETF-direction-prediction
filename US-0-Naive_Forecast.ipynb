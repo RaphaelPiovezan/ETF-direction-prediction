{
  "cells": [
    {
      "cell_type": "code",
      "execution_count": 20,
      "metadata": {
        "id": "IYZk2gib8oLU"
      },
      "outputs": [],
      "source": [
        "import numpy as np\n",
        "import pandas as pd"
      ]
    },
    {
      "cell_type": "code",
      "execution_count": 21,
      "metadata": {
        "id": "y2NWBjJs81Yo"
      },
      "outputs": [],
      "source": [
        "from sklearn.metrics import mean_absolute_percentage_error, \\\n",
        "  mean_absolute_error, r2_score, mean_squared_error, accuracy_score,precision_score,f1_score,roc_auc_score"
      ]
    },
    {
      "cell_type": "code",
      "execution_count": 22,
      "metadata": {
        "id": "7ZFsFFnl9ZyD"
      },
      "outputs": [],
      "source": [
        "df = pd.read_csv('S&P-returns.csv', index_col='Date', parse_dates=True)"
      ]
    },
    {
      "cell_type": "code",
      "execution_count": 23,
      "metadata": {
        "colab": {
          "base_uri": "https://localhost:8080/",
          "height": 234
        },
        "id": "1fjt76Os9bYQ",
        "outputId": "69cf3143-c7eb-4c0b-f1f4-d9d3f9a4809b"
      },
      "outputs": [
        {
          "data": {
            "text/html": [
              "<div>\n",
              "<style scoped>\n",
              "    .dataframe tbody tr th:only-of-type {\n",
              "        vertical-align: middle;\n",
              "    }\n",
              "\n",
              "    .dataframe tbody tr th {\n",
              "        vertical-align: top;\n",
              "    }\n",
              "\n",
              "    .dataframe thead th {\n",
              "        text-align: right;\n",
              "    }\n",
              "</style>\n",
              "<table border=\"1\" class=\"dataframe\">\n",
              "  <thead>\n",
              "    <tr style=\"text-align: right;\">\n",
              "      <th></th>\n",
              "      <th>AAPL</th>\n",
              "      <th>MSFT</th>\n",
              "      <th>AMZN</th>\n",
              "      <th>GOOGL</th>\n",
              "      <th>GOOG</th>\n",
              "      <th>PG</th>\n",
              "      <th>TSLA</th>\n",
              "      <th>BAC</th>\n",
              "      <th>NVDA</th>\n",
              "      <th>JNJ</th>\n",
              "      <th>UNH</th>\n",
              "      <th>JPM</th>\n",
              "      <th>OEF</th>\n",
              "      <th>SPY</th>\n",
              "    </tr>\n",
              "    <tr>\n",
              "      <th>Date</th>\n",
              "      <th></th>\n",
              "      <th></th>\n",
              "      <th></th>\n",
              "      <th></th>\n",
              "      <th></th>\n",
              "      <th></th>\n",
              "      <th></th>\n",
              "      <th></th>\n",
              "      <th></th>\n",
              "      <th></th>\n",
              "      <th></th>\n",
              "      <th></th>\n",
              "      <th></th>\n",
              "      <th></th>\n",
              "    </tr>\n",
              "  </thead>\n",
              "  <tbody>\n",
              "    <tr>\n",
              "      <th>2012-01-03</th>\n",
              "      <td>NaN</td>\n",
              "      <td>NaN</td>\n",
              "      <td>NaN</td>\n",
              "      <td>NaN</td>\n",
              "      <td>NaN</td>\n",
              "      <td>NaN</td>\n",
              "      <td>NaN</td>\n",
              "      <td>NaN</td>\n",
              "      <td>NaN</td>\n",
              "      <td>NaN</td>\n",
              "      <td>NaN</td>\n",
              "      <td>NaN</td>\n",
              "      <td>NaN</td>\n",
              "      <td>NaN</td>\n",
              "    </tr>\n",
              "    <tr>\n",
              "      <th>2012-01-04</th>\n",
              "      <td>0.005360</td>\n",
              "      <td>0.023261</td>\n",
              "      <td>-0.008526</td>\n",
              "      <td>0.004304</td>\n",
              "      <td>0.004304</td>\n",
              "      <td>-0.000449</td>\n",
              "      <td>-0.013264</td>\n",
              "      <td>0.001723</td>\n",
              "      <td>0.011332</td>\n",
              "      <td>-0.006090</td>\n",
              "      <td>0.014461</td>\n",
              "      <td>-0.000858</td>\n",
              "      <td>0.001721</td>\n",
              "      <td>0.001567</td>\n",
              "    </tr>\n",
              "    <tr>\n",
              "      <th>2012-01-05</th>\n",
              "      <td>0.011041</td>\n",
              "      <td>0.010167</td>\n",
              "      <td>0.000563</td>\n",
              "      <td>-0.013969</td>\n",
              "      <td>-0.013969</td>\n",
              "      <td>-0.004201</td>\n",
              "      <td>-0.021522</td>\n",
              "      <td>0.082555</td>\n",
              "      <td>0.035286</td>\n",
              "      <td>-0.001223</td>\n",
              "      <td>0.006677</td>\n",
              "      <td>0.020672</td>\n",
              "      <td>0.002061</td>\n",
              "      <td>0.002659</td>\n",
              "    </tr>\n",
              "    <tr>\n",
              "      <th>2012-01-06</th>\n",
              "      <td>0.010400</td>\n",
              "      <td>0.015415</td>\n",
              "      <td>0.027763</td>\n",
              "      <td>-0.013736</td>\n",
              "      <td>-0.013736</td>\n",
              "      <td>-0.002408</td>\n",
              "      <td>-0.007773</td>\n",
              "      <td>-0.020817</td>\n",
              "      <td>-0.011624</td>\n",
              "      <td>-0.008754</td>\n",
              "      <td>0.003606</td>\n",
              "      <td>-0.009009</td>\n",
              "      <td>-0.002577</td>\n",
              "      <td>-0.002581</td>\n",
              "    </tr>\n",
              "    <tr>\n",
              "      <th>2012-01-09</th>\n",
              "      <td>-0.001587</td>\n",
              "      <td>-0.013250</td>\n",
              "      <td>-0.022428</td>\n",
              "      <td>-0.043324</td>\n",
              "      <td>-0.043324</td>\n",
              "      <td>0.004211</td>\n",
              "      <td>0.012556</td>\n",
              "      <td>0.014458</td>\n",
              "      <td>0.000000</td>\n",
              "      <td>0.001541</td>\n",
              "      <td>-0.001137</td>\n",
              "      <td>-0.001698</td>\n",
              "      <td>0.001891</td>\n",
              "      <td>0.002424</td>\n",
              "    </tr>\n",
              "  </tbody>\n",
              "</table>\n",
              "</div>"
            ],
            "text/plain": [
              "                AAPL      MSFT      AMZN     GOOGL      GOOG        PG  \\\n",
              "Date                                                                     \n",
              "2012-01-03       NaN       NaN       NaN       NaN       NaN       NaN   \n",
              "2012-01-04  0.005360  0.023261 -0.008526  0.004304  0.004304 -0.000449   \n",
              "2012-01-05  0.011041  0.010167  0.000563 -0.013969 -0.013969 -0.004201   \n",
              "2012-01-06  0.010400  0.015415  0.027763 -0.013736 -0.013736 -0.002408   \n",
              "2012-01-09 -0.001587 -0.013250 -0.022428 -0.043324 -0.043324  0.004211   \n",
              "\n",
              "                TSLA       BAC      NVDA       JNJ       UNH       JPM  \\\n",
              "Date                                                                     \n",
              "2012-01-03       NaN       NaN       NaN       NaN       NaN       NaN   \n",
              "2012-01-04 -0.013264  0.001723  0.011332 -0.006090  0.014461 -0.000858   \n",
              "2012-01-05 -0.021522  0.082555  0.035286 -0.001223  0.006677  0.020672   \n",
              "2012-01-06 -0.007773 -0.020817 -0.011624 -0.008754  0.003606 -0.009009   \n",
              "2012-01-09  0.012556  0.014458  0.000000  0.001541 -0.001137 -0.001698   \n",
              "\n",
              "                 OEF       SPY  \n",
              "Date                            \n",
              "2012-01-03       NaN       NaN  \n",
              "2012-01-04  0.001721  0.001567  \n",
              "2012-01-05  0.002061  0.002659  \n",
              "2012-01-06 -0.002577 -0.002581  \n",
              "2012-01-09  0.001891  0.002424  "
            ]
          },
          "execution_count": 23,
          "metadata": {},
          "output_type": "execute_result"
        }
      ],
      "source": [
        "df.head()"
      ]
    },
    {
      "cell_type": "code",
      "execution_count": 24,
      "metadata": {
        "id": "nz2cGMIY9fKb"
      },
      "outputs": [],
      "source": [
        "df['PREDICTION'] = df['SPY'].shift(1)"
      ]
    },
    {
      "cell_type": "code",
      "execution_count": 25,
      "metadata": {},
      "outputs": [],
      "source": [
        "ytrain_true = df.iloc[2:-1000]['SPY']\n",
        "ytrain_pred = df.iloc[2:-1000]['PREDICTION']"
      ]
    },
    {
      "cell_type": "code",
      "execution_count": 26,
      "metadata": {},
      "outputs": [],
      "source": [
        "Ctrain_true = (ytrain_true > 0)\n",
        "Ctrain_pred = (ytrain_pred > 0)"
      ]
    },
    {
      "cell_type": "code",
      "execution_count": 27,
      "metadata": {
        "id": "rIwhDJc59o4q"
      },
      "outputs": [],
      "source": [
        "ytest_true = df.iloc[-1000:]['SPY']\n",
        "ytest_pred = df.iloc[-1000:]['PREDICTION']"
      ]
    },
    {
      "cell_type": "code",
      "execution_count": 28,
      "metadata": {},
      "outputs": [],
      "source": [
        "Ctest_true = (ytest_true > 0)\n",
        "Ctest_pred = (ytest_pred > 0)"
      ]
    },
    {
      "cell_type": "markdown",
      "metadata": {
        "id": "u72BInqxAK1p"
      },
      "source": [
        "## Metrics\n",
        "\n",
        "Main idea: get a feel for how the values relate to one another. What's \"good\"? What's \"bad\"? If the $R^2$ is \"good\", will the MAE also be \"good\"?"
      ]
    },
    {
      "cell_type": "code",
      "execution_count": 29,
      "metadata": {},
      "outputs": [
        {
          "data": {
            "text/plain": [
              "(0.4768125408229915, 0.5)"
            ]
          },
          "execution_count": 29,
          "metadata": {},
          "output_type": "execute_result"
        }
      ],
      "source": [
        "accuracy_score(Ctrain_true,Ctrain_pred), accuracy_score(Ctest_true,Ctest_pred)"
      ]
    },
    {
      "cell_type": "code",
      "execution_count": 30,
      "metadata": {},
      "outputs": [
        {
          "data": {
            "text/plain": [
              "(0.5226190476190476, 0.5559502664298401)"
            ]
          },
          "execution_count": 30,
          "metadata": {},
          "output_type": "execute_result"
        }
      ],
      "source": [
        "precision_score(Ctrain_true,Ctrain_pred), precision_score(Ctest_true,Ctest_pred)"
      ]
    },
    {
      "cell_type": "code",
      "execution_count": 31,
      "metadata": {},
      "outputs": [
        {
          "data": {
            "text/plain": [
              "(0.5229303156640858, 0.5559502664298401)"
            ]
          },
          "execution_count": 31,
          "metadata": {},
          "output_type": "execute_result"
        }
      ],
      "source": [
        "f1_score(Ctrain_true,Ctrain_pred), f1_score(Ctest_true,Ctest_pred)"
      ]
    },
    {
      "cell_type": "code",
      "execution_count": 32,
      "metadata": {},
      "outputs": [
        {
          "data": {
            "text/plain": [
              "(0.4718810929609293, 0.49193394328356993)"
            ]
          },
          "execution_count": 32,
          "metadata": {},
          "output_type": "execute_result"
        }
      ],
      "source": [
        "roc_auc_score(Ctrain_true,Ctrain_pred), roc_auc_score(Ctest_true,Ctest_pred)"
      ]
    },
    {
      "cell_type": "code",
      "execution_count": 33,
      "metadata": {
        "colab": {
          "base_uri": "https://localhost:8080/"
        },
        "id": "5sugOCAk96Mk",
        "outputId": "4496cd04-aeb3-4288-c0f9-36e3ba9acc55"
      },
      "outputs": [
        {
          "data": {
            "text/plain": [
              "(0.00011662434667606358, 0.0004278475849220731)"
            ]
          },
          "execution_count": 33,
          "metadata": {},
          "output_type": "execute_result"
        }
      ],
      "source": [
        "# MSE\n",
        "mean_squared_error(ytrain_true, ytrain_pred), mean_squared_error(ytest_true, ytest_pred)"
      ]
    },
    {
      "cell_type": "code",
      "execution_count": 34,
      "metadata": {
        "colab": {
          "base_uri": "https://localhost:8080/"
        },
        "id": "s9Hk8tXy-BJI",
        "outputId": "f42eb733-ec5c-4c45-99a3-7aab71a09ba1"
      },
      "outputs": [
        {
          "data": {
            "text/plain": [
              "(0.010799275284761638, 0.020684476907141574)"
            ]
          },
          "execution_count": 34,
          "metadata": {},
          "output_type": "execute_result"
        }
      ],
      "source": [
        "# RMSE\n",
        "mean_squared_error(ytrain_true, ytrain_pred, squared=False), mean_squared_error(ytest_true, ytest_pred, squared=False)"
      ]
    },
    {
      "cell_type": "code",
      "execution_count": 35,
      "metadata": {
        "colab": {
          "base_uri": "https://localhost:8080/"
        },
        "id": "RhJCrN7W-Wuu",
        "outputId": "69d60f45-6555-4c39-8aaa-b09d34c3af71"
      },
      "outputs": [
        {
          "data": {
            "text/plain": [
              "(0.008077224484570576, 0.01225868014881295)"
            ]
          },
          "execution_count": 35,
          "metadata": {},
          "output_type": "execute_result"
        }
      ],
      "source": [
        "# MAE\n",
        "mean_absolute_error(ytrain_true, ytrain_pred), mean_absolute_error(ytest_true, ytest_pred)"
      ]
    },
    {
      "cell_type": "code",
      "execution_count": 36,
      "metadata": {
        "colab": {
          "base_uri": "https://localhost:8080/"
        },
        "id": "mo3xvmsI_DuN",
        "outputId": "53be2d36-b19b-4f78-96bf-f8164cd78a15"
      },
      "outputs": [
        {
          "data": {
            "text/plain": [
              "(-0.9790065668831152, -1.4410437539036267)"
            ]
          },
          "execution_count": 36,
          "metadata": {},
          "output_type": "execute_result"
        }
      ],
      "source": [
        "# R^2\n",
        "r2_score(ytrain_true, ytrain_pred), r2_score(ytest_true, ytest_pred)"
      ]
    },
    {
      "cell_type": "code",
      "execution_count": 37,
      "metadata": {
        "colab": {
          "base_uri": "https://localhost:8080/"
        },
        "id": "8Re224xz9vIe",
        "outputId": "fcb4a210-37cd-4c84-f01f-dadd991beeaf"
      },
      "outputs": [
        {
          "data": {
            "text/plain": [
              "(150671205691.61627, 40488736990.241264)"
            ]
          },
          "execution_count": 37,
          "metadata": {},
          "output_type": "execute_result"
        }
      ],
      "source": [
        "# MAPE\n",
        "mean_absolute_percentage_error(ytrain_true, ytrain_pred), mean_absolute_percentage_error(ytest_true, ytest_pred)"
      ]
    },
    {
      "cell_type": "markdown",
      "metadata": {
        "id": "uQ30WP_t-zV7"
      },
      "source": [
        "## sMAPE\n",
        "\n",
        "$$ E = \\frac{1}{N} \\sum_{i=1}^N \\frac{|y_i - \\hat{y}_i|}{(|y_i| + |\\hat{y}_i|)/2} $$"
      ]
    },
    {
      "cell_type": "code",
      "execution_count": 38,
      "metadata": {
        "colab": {
          "base_uri": "https://localhost:8080/"
        },
        "id": "TIe3ybxk-efx",
        "outputId": "a998d83b-4efa-43b8-91b7-af54e17e05af"
      },
      "outputs": [
        {
          "data": {
            "text/plain": [
              "(1.5166785785973715, 1.4797064854157946)"
            ]
          },
          "execution_count": 38,
          "metadata": {},
          "output_type": "execute_result"
        }
      ],
      "source": [
        "# sMAPE\n",
        "def smape(y_true, y_pred):\n",
        "  numerator = np.abs(y_true - y_pred)\n",
        "  denominator = (np.abs(y_true) + np.abs(y_pred)) / 2\n",
        "  ratio = numerator / denominator\n",
        "  return ratio.mean()\n",
        "\n",
        "smape(ytrain_true, ytrain_pred), smape(ytest_true, ytest_pred)"
      ]
    }
  ],
  "metadata": {
    "colab": {
      "name": "Naive Forecast.ipynb",
      "provenance": []
    },
    "kernelspec": {
      "display_name": "Python 3",
      "name": "python3"
    },
    "language_info": {
      "codemirror_mode": {
        "name": "ipython",
        "version": 3
      },
      "file_extension": ".py",
      "mimetype": "text/x-python",
      "name": "python",
      "nbconvert_exporter": "python",
      "pygments_lexer": "ipython3",
      "version": "3.6.5"
    }
  },
  "nbformat": 4,
  "nbformat_minor": 0
}
