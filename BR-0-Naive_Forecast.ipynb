{
  "cells": [
    {
      "cell_type": "code",
      "execution_count": 84,
      "metadata": {
        "id": "IYZk2gib8oLU"
      },
      "outputs": [],
      "source": [
        "import numpy as np\n",
        "import pandas as pd"
      ]
    },
    {
      "cell_type": "code",
      "execution_count": 85,
      "metadata": {
        "id": "y2NWBjJs81Yo"
      },
      "outputs": [],
      "source": [
        "from sklearn.metrics import mean_absolute_percentage_error, \\\n",
        "  mean_absolute_error, r2_score, mean_squared_error, accuracy_score,precision_score,f1_score,roc_auc_score"
      ]
    },
    {
      "cell_type": "code",
      "execution_count": 86,
      "metadata": {
        "id": "7ZFsFFnl9ZyD"
      },
      "outputs": [],
      "source": [
        "df = pd.read_csv('IBRX-returns.csv', index_col='Date', parse_dates=True)"
      ]
    },
    {
      "cell_type": "code",
      "execution_count": 87,
      "metadata": {
        "colab": {
          "base_uri": "https://localhost:8080/",
          "height": 234
        },
        "id": "1fjt76Os9bYQ",
        "outputId": "69cf3143-c7eb-4c0b-f1f4-d9d3f9a4809b"
      },
      "outputs": [
        {
          "data": {
            "text/html": [
              "<div>\n",
              "<style scoped>\n",
              "    .dataframe tbody tr th:only-of-type {\n",
              "        vertical-align: middle;\n",
              "    }\n",
              "\n",
              "    .dataframe tbody tr th {\n",
              "        vertical-align: top;\n",
              "    }\n",
              "\n",
              "    .dataframe thead th {\n",
              "        text-align: right;\n",
              "    }\n",
              "</style>\n",
              "<table border=\"1\" class=\"dataframe\">\n",
              "  <thead>\n",
              "    <tr style=\"text-align: right;\">\n",
              "      <th></th>\n",
              "      <th>VALE3.SA</th>\n",
              "      <th>PETR4.SA</th>\n",
              "      <th>PETR3.SA</th>\n",
              "      <th>ITUB4.SA</th>\n",
              "      <th>BBDC4.SA</th>\n",
              "      <th>B3SA3.SA</th>\n",
              "      <th>ABEV3.SA</th>\n",
              "      <th>JBSS3.SA</th>\n",
              "      <th>WEGE3.SA</th>\n",
              "      <th>SUZB3.SA</th>\n",
              "      <th>ITSA4.SA</th>\n",
              "      <th>BBAS3.SA</th>\n",
              "      <th>BRAX11.SA</th>\n",
              "      <th>BOVA11.SA</th>\n",
              "    </tr>\n",
              "    <tr>\n",
              "      <th>Date</th>\n",
              "      <th></th>\n",
              "      <th></th>\n",
              "      <th></th>\n",
              "      <th></th>\n",
              "      <th></th>\n",
              "      <th></th>\n",
              "      <th></th>\n",
              "      <th></th>\n",
              "      <th></th>\n",
              "      <th></th>\n",
              "      <th></th>\n",
              "      <th></th>\n",
              "      <th></th>\n",
              "      <th></th>\n",
              "    </tr>\n",
              "  </thead>\n",
              "  <tbody>\n",
              "    <tr>\n",
              "      <th>2012-01-02</th>\n",
              "      <td>NaN</td>\n",
              "      <td>NaN</td>\n",
              "      <td>NaN</td>\n",
              "      <td>NaN</td>\n",
              "      <td>NaN</td>\n",
              "      <td>NaN</td>\n",
              "      <td>NaN</td>\n",
              "      <td>NaN</td>\n",
              "      <td>NaN</td>\n",
              "      <td>NaN</td>\n",
              "      <td>NaN</td>\n",
              "      <td>NaN</td>\n",
              "      <td>NaN</td>\n",
              "      <td>NaN</td>\n",
              "    </tr>\n",
              "    <tr>\n",
              "      <th>2012-01-03</th>\n",
              "      <td>0.043537</td>\n",
              "      <td>0.030814</td>\n",
              "      <td>0.034304</td>\n",
              "      <td>0.024671</td>\n",
              "      <td>0.020945</td>\n",
              "      <td>0.017285</td>\n",
              "      <td>-0.011462</td>\n",
              "      <td>0.029801</td>\n",
              "      <td>0.023306</td>\n",
              "      <td>0.0</td>\n",
              "      <td>0.029193</td>\n",
              "      <td>-0.004539</td>\n",
              "      <td>0.021995</td>\n",
              "      <td>0.023738</td>\n",
              "    </tr>\n",
              "    <tr>\n",
              "      <th>2012-01-04</th>\n",
              "      <td>0.006765</td>\n",
              "      <td>0.007114</td>\n",
              "      <td>0.006225</td>\n",
              "      <td>0.001146</td>\n",
              "      <td>0.001593</td>\n",
              "      <td>0.017983</td>\n",
              "      <td>-0.023517</td>\n",
              "      <td>0.018820</td>\n",
              "      <td>0.005222</td>\n",
              "      <td>0.0</td>\n",
              "      <td>0.001742</td>\n",
              "      <td>-0.004975</td>\n",
              "      <td>0.000000</td>\n",
              "      <td>0.000000</td>\n",
              "    </tr>\n",
              "    <tr>\n",
              "      <th>2012-01-05</th>\n",
              "      <td>-0.027102</td>\n",
              "      <td>-0.011587</td>\n",
              "      <td>-0.006225</td>\n",
              "      <td>-0.007473</td>\n",
              "      <td>-0.006388</td>\n",
              "      <td>-0.010951</td>\n",
              "      <td>-0.019997</td>\n",
              "      <td>0.016807</td>\n",
              "      <td>0.006231</td>\n",
              "      <td>0.0</td>\n",
              "      <td>-0.004361</td>\n",
              "      <td>-0.010445</td>\n",
              "      <td>-0.009189</td>\n",
              "      <td>-0.013620</td>\n",
              "    </tr>\n",
              "    <tr>\n",
              "      <th>2012-01-06</th>\n",
              "      <td>-0.008637</td>\n",
              "      <td>0.000896</td>\n",
              "      <td>-0.000833</td>\n",
              "      <td>0.007473</td>\n",
              "      <td>0.012419</td>\n",
              "      <td>0.014903</td>\n",
              "      <td>-0.002528</td>\n",
              "      <td>0.011599</td>\n",
              "      <td>-0.011453</td>\n",
              "      <td>0.0</td>\n",
              "      <td>0.005231</td>\n",
              "      <td>-0.025522</td>\n",
              "      <td>-0.000250</td>\n",
              "      <td>0.002427</td>\n",
              "    </tr>\n",
              "  </tbody>\n",
              "</table>\n",
              "</div>"
            ],
            "text/plain": [
              "            VALE3.SA  PETR4.SA  PETR3.SA  ITUB4.SA  BBDC4.SA  B3SA3.SA  \\\n",
              "Date                                                                     \n",
              "2012-01-02       NaN       NaN       NaN       NaN       NaN       NaN   \n",
              "2012-01-03  0.043537  0.030814  0.034304  0.024671  0.020945  0.017285   \n",
              "2012-01-04  0.006765  0.007114  0.006225  0.001146  0.001593  0.017983   \n",
              "2012-01-05 -0.027102 -0.011587 -0.006225 -0.007473 -0.006388 -0.010951   \n",
              "2012-01-06 -0.008637  0.000896 -0.000833  0.007473  0.012419  0.014903   \n",
              "\n",
              "            ABEV3.SA  JBSS3.SA  WEGE3.SA  SUZB3.SA  ITSA4.SA  BBAS3.SA  \\\n",
              "Date                                                                     \n",
              "2012-01-02       NaN       NaN       NaN       NaN       NaN       NaN   \n",
              "2012-01-03 -0.011462  0.029801  0.023306       0.0  0.029193 -0.004539   \n",
              "2012-01-04 -0.023517  0.018820  0.005222       0.0  0.001742 -0.004975   \n",
              "2012-01-05 -0.019997  0.016807  0.006231       0.0 -0.004361 -0.010445   \n",
              "2012-01-06 -0.002528  0.011599 -0.011453       0.0  0.005231 -0.025522   \n",
              "\n",
              "            BRAX11.SA  BOVA11.SA  \n",
              "Date                              \n",
              "2012-01-02        NaN        NaN  \n",
              "2012-01-03   0.021995   0.023738  \n",
              "2012-01-04   0.000000   0.000000  \n",
              "2012-01-05  -0.009189  -0.013620  \n",
              "2012-01-06  -0.000250   0.002427  "
            ]
          },
          "execution_count": 87,
          "metadata": {},
          "output_type": "execute_result"
        }
      ],
      "source": [
        "df.head()"
      ]
    },
    {
      "cell_type": "code",
      "execution_count": 88,
      "metadata": {
        "id": "nz2cGMIY9fKb"
      },
      "outputs": [],
      "source": [
        "df['PREDICTION'] = df['BOVA11.SA'].shift(1)"
      ]
    },
    {
      "cell_type": "code",
      "execution_count": 89,
      "metadata": {
        "id": "rIwhDJc59o4q"
      },
      "outputs": [],
      "source": [
        "ytrain_true = df.iloc[2:-1000]['BOVA11.SA']\n",
        "ytrain_pred = df.iloc[2:-1000]['PREDICTION']"
      ]
    },
    {
      "cell_type": "code",
      "execution_count": 90,
      "metadata": {},
      "outputs": [],
      "source": [
        "Ctrain_true = (ytrain_true > 0)\n",
        "Ctrain_pred = (ytrain_pred > 0)"
      ]
    },
    {
      "cell_type": "code",
      "execution_count": 91,
      "metadata": {},
      "outputs": [],
      "source": [
        "ytest_true = df.iloc[-1000:]['BOVA11.SA']\n",
        "ytest_pred = df.iloc[-1000:]['PREDICTION']"
      ]
    },
    {
      "cell_type": "code",
      "execution_count": 92,
      "metadata": {},
      "outputs": [],
      "source": [
        "Ctest_true = (ytest_true > 0)\n",
        "Ctest_pred = (ytest_pred > 0)"
      ]
    },
    {
      "cell_type": "markdown",
      "metadata": {
        "id": "u72BInqxAK1p"
      },
      "source": [
        "## Metrics\n",
        "\n",
        "Main idea: get a feel for how the values relate to one another. What's \"good\"? What's \"bad\"? If the $R^2$ is \"good\", will the MAE also be \"good\"?"
      ]
    },
    {
      "cell_type": "code",
      "execution_count": 93,
      "metadata": {},
      "outputs": [
        {
          "data": {
            "text/plain": [
              "(0.49062918340026773, 0.469)"
            ]
          },
          "execution_count": 93,
          "metadata": {},
          "output_type": "execute_result"
        }
      ],
      "source": [
        "accuracy_score(Ctrain_true,Ctrain_pred), accuracy_score(Ctest_true,Ctest_pred)"
      ]
    },
    {
      "cell_type": "code",
      "execution_count": 94,
      "metadata": {},
      "outputs": [
        {
          "data": {
            "text/plain": [
              "(0.4899598393574297, 0.4933078393881453)"
            ]
          },
          "execution_count": 94,
          "metadata": {},
          "output_type": "execute_result"
        }
      ],
      "source": [
        "precision_score(Ctrain_true,Ctrain_pred), precision_score(Ctest_true,Ctest_pred)"
      ]
    },
    {
      "cell_type": "code",
      "execution_count": 95,
      "metadata": {},
      "outputs": [
        {
          "data": {
            "text/plain": [
              "(0.4902880107166778, 0.49283667621776506)"
            ]
          },
          "execution_count": 95,
          "metadata": {},
          "output_type": "execute_result"
        }
      ],
      "source": [
        "f1_score(Ctrain_true,Ctrain_pred), f1_score(Ctest_true,Ctest_pred)"
      ]
    },
    {
      "cell_type": "code",
      "execution_count": 96,
      "metadata": {},
      "outputs": [
        {
          "data": {
            "text/plain": [
              "(0.49062916660693034, 0.4678218615690551)"
            ]
          },
          "execution_count": 96,
          "metadata": {},
          "output_type": "execute_result"
        }
      ],
      "source": [
        "roc_auc_score(Ctrain_true,Ctrain_pred), roc_auc_score(Ctest_true,Ctest_pred)"
      ]
    },
    {
      "cell_type": "code",
      "execution_count": 97,
      "metadata": {
        "colab": {
          "base_uri": "https://localhost:8080/"
        },
        "id": "5sugOCAk96Mk",
        "outputId": "4496cd04-aeb3-4288-c0f9-36e3ba9acc55"
      },
      "outputs": [
        {
          "data": {
            "text/plain": [
              "(0.0004305762246533854, 0.0007812027761778316)"
            ]
          },
          "execution_count": 97,
          "metadata": {},
          "output_type": "execute_result"
        }
      ],
      "source": [
        "# MSE\n",
        "mean_squared_error(ytrain_true, ytrain_pred), mean_squared_error(ytest_true, ytest_pred)"
      ]
    },
    {
      "cell_type": "code",
      "execution_count": 98,
      "metadata": {
        "colab": {
          "base_uri": "https://localhost:8080/"
        },
        "id": "s9Hk8tXy-BJI",
        "outputId": "f42eb733-ec5c-4c45-99a3-7aab71a09ba1"
      },
      "outputs": [
        {
          "data": {
            "text/plain": [
              "(0.020750330711903978, 0.027950004940569)"
            ]
          },
          "execution_count": 98,
          "metadata": {},
          "output_type": "execute_result"
        }
      ],
      "source": [
        "# RMSE\n",
        "mean_squared_error(ytrain_true, ytrain_pred, squared=False), mean_squared_error(ytest_true, ytest_pred, squared=False)"
      ]
    },
    {
      "cell_type": "code",
      "execution_count": 99,
      "metadata": {
        "colab": {
          "base_uri": "https://localhost:8080/"
        },
        "id": "RhJCrN7W-Wuu",
        "outputId": "69d60f45-6555-4c39-8aaa-b09d34c3af71"
      },
      "outputs": [
        {
          "data": {
            "text/plain": [
              "(0.015989830580755034, 0.017953260447805867)"
            ]
          },
          "execution_count": 99,
          "metadata": {},
          "output_type": "execute_result"
        }
      ],
      "source": [
        "# MAE\n",
        "mean_absolute_error(ytrain_true, ytrain_pred), mean_absolute_error(ytest_true, ytest_pred)"
      ]
    },
    {
      "cell_type": "code",
      "execution_count": 100,
      "metadata": {
        "colab": {
          "base_uri": "https://localhost:8080/"
        },
        "id": "mo3xvmsI_DuN",
        "outputId": "53be2d36-b19b-4f78-96bf-f8164cd78a15"
      },
      "outputs": [
        {
          "data": {
            "text/plain": [
              "(-1.0215605096637606, -1.3853448033118463)"
            ]
          },
          "execution_count": 100,
          "metadata": {},
          "output_type": "execute_result"
        }
      ],
      "source": [
        "# R^2\n",
        "r2_score(ytrain_true, ytrain_pred), r2_score(ytest_true, ytest_pred)"
      ]
    },
    {
      "cell_type": "code",
      "execution_count": 101,
      "metadata": {
        "colab": {
          "base_uri": "https://localhost:8080/"
        },
        "id": "8Re224xz9vIe",
        "outputId": "fcb4a210-37cd-4c84-f01f-dadd991beeaf"
      },
      "outputs": [
        {
          "data": {
            "text/plain": [
              "(1879805039923.3313, 366390808229.65137)"
            ]
          },
          "execution_count": 101,
          "metadata": {},
          "output_type": "execute_result"
        }
      ],
      "source": [
        "# MAPE\n",
        "mean_absolute_percentage_error(ytrain_true, ytrain_pred), mean_absolute_percentage_error(ytest_true, ytest_pred)"
      ]
    },
    {
      "cell_type": "markdown",
      "metadata": {
        "id": "uQ30WP_t-zV7"
      },
      "source": [
        "## sMAPE\n",
        "\n",
        "$$ E = \\frac{1}{N} \\sum_{i=1}^N \\frac{|y_i - \\hat{y}_i|}{(|y_i| + |\\hat{y}_i|)/2} $$"
      ]
    },
    {
      "cell_type": "code",
      "execution_count": 102,
      "metadata": {
        "colab": {
          "base_uri": "https://localhost:8080/"
        },
        "id": "TIe3ybxk-efx",
        "outputId": "a998d83b-4efa-43b8-91b7-af54e17e05af"
      },
      "outputs": [
        {
          "data": {
            "text/plain": [
              "(1.485005570493186, 1.4893802029246692)"
            ]
          },
          "execution_count": 102,
          "metadata": {},
          "output_type": "execute_result"
        }
      ],
      "source": [
        "# sMAPE\n",
        "def smape(y_true, y_pred):\n",
        "  numerator = np.abs(y_true - y_pred)\n",
        "  denominator = (np.abs(y_true) + np.abs(y_pred)) / 2\n",
        "  ratio = numerator / denominator\n",
        "  return ratio.mean()\n",
        "\n",
        "smape(ytrain_true, ytrain_pred), smape(ytest_true, ytest_pred)"
      ]
    }
  ],
  "metadata": {
    "colab": {
      "name": "Naive Forecast.ipynb",
      "provenance": []
    },
    "kernelspec": {
      "display_name": "Python 3",
      "name": "python3"
    },
    "language_info": {
      "codemirror_mode": {
        "name": "ipython",
        "version": 3
      },
      "file_extension": ".py",
      "mimetype": "text/x-python",
      "name": "python",
      "nbconvert_exporter": "python",
      "pygments_lexer": "ipython3",
      "version": "3.6.5"
    }
  },
  "nbformat": 4,
  "nbformat_minor": 0
}
