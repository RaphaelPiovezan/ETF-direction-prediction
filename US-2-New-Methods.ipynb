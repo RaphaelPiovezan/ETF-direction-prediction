{
  "cells": [
    {
      "cell_type": "code",
      "execution_count": 108,
      "metadata": {
        "id": "Zh7Nh2hN1GIH"
      },
      "outputs": [],
      "source": [
        "import pandas as pd\n",
        "import numpy as np\n",
        "from sklearn.metrics import mean_absolute_percentage_error, \\\n",
        "  mean_absolute_error, r2_score, mean_squared_error\n",
        "import matplotlib.pyplot as plt"
      ]
    },
    {
      "cell_type": "code",
      "execution_count": 109,
      "metadata": {
        "id": "-0pkDN1UFW5M"
      },
      "outputs": [],
      "source": [
        "df_returns = pd.DataFrame()"
      ]
    },
    {
      "cell_type": "code",
      "execution_count": 110,
      "metadata": {
        "id": "yBvUzJN1Fc8I"
      },
      "outputs": [],
      "source": [
        "df_returns = pd.read_csv('S&P-returns.csv', index_col=0, parse_dates=True)\n",
        "df = pd.read_csv('S&P100.csv', index_col=0, parse_dates=True)\n",
        "\n",
        "#for name in df.columns:\n",
        "#  df_returns[name] = np.log(df[name]).diff()"
      ]
    },
    {
      "cell_type": "code",
      "execution_count": 111,
      "metadata": {},
      "outputs": [
        {
          "data": {
            "text/plain": [
              "0"
            ]
          },
          "execution_count": 111,
          "metadata": {},
          "output_type": "execute_result"
        }
      ],
      "source": [
        "df.isna().sum().sum()"
      ]
    },
    {
      "cell_type": "code",
      "execution_count": 112,
      "metadata": {
        "colab": {
          "base_uri": "https://localhost:8080/",
          "height": 369
        },
        "id": "IbLSX5pYFpMr",
        "outputId": "ba722998-d423-403b-d6e1-875d1115ad75"
      },
      "outputs": [
        {
          "data": {
            "text/html": [
              "<div>\n",
              "<style scoped>\n",
              "    .dataframe tbody tr th:only-of-type {\n",
              "        vertical-align: middle;\n",
              "    }\n",
              "\n",
              "    .dataframe tbody tr th {\n",
              "        vertical-align: top;\n",
              "    }\n",
              "\n",
              "    .dataframe thead th {\n",
              "        text-align: right;\n",
              "    }\n",
              "</style>\n",
              "<table border=\"1\" class=\"dataframe\">\n",
              "  <thead>\n",
              "    <tr style=\"text-align: right;\">\n",
              "      <th></th>\n",
              "      <th>AAPL</th>\n",
              "      <th>MSFT</th>\n",
              "      <th>AMZN</th>\n",
              "      <th>GOOGL</th>\n",
              "      <th>GOOG</th>\n",
              "      <th>PG</th>\n",
              "      <th>TSLA</th>\n",
              "      <th>BAC</th>\n",
              "      <th>NVDA</th>\n",
              "      <th>JNJ</th>\n",
              "      <th>UNH</th>\n",
              "      <th>JPM</th>\n",
              "      <th>OEF</th>\n",
              "      <th>SPY</th>\n",
              "    </tr>\n",
              "    <tr>\n",
              "      <th>Date</th>\n",
              "      <th></th>\n",
              "      <th></th>\n",
              "      <th></th>\n",
              "      <th></th>\n",
              "      <th></th>\n",
              "      <th></th>\n",
              "      <th></th>\n",
              "      <th></th>\n",
              "      <th></th>\n",
              "      <th></th>\n",
              "      <th></th>\n",
              "      <th></th>\n",
              "      <th></th>\n",
              "      <th></th>\n",
              "    </tr>\n",
              "  </thead>\n",
              "  <tbody>\n",
              "    <tr>\n",
              "      <th>2012-01-03</th>\n",
              "      <td>NaN</td>\n",
              "      <td>NaN</td>\n",
              "      <td>NaN</td>\n",
              "      <td>NaN</td>\n",
              "      <td>NaN</td>\n",
              "      <td>NaN</td>\n",
              "      <td>NaN</td>\n",
              "      <td>NaN</td>\n",
              "      <td>NaN</td>\n",
              "      <td>NaN</td>\n",
              "      <td>NaN</td>\n",
              "      <td>NaN</td>\n",
              "      <td>NaN</td>\n",
              "      <td>NaN</td>\n",
              "    </tr>\n",
              "    <tr>\n",
              "      <th>2012-01-04</th>\n",
              "      <td>0.005360</td>\n",
              "      <td>0.023261</td>\n",
              "      <td>-0.008526</td>\n",
              "      <td>0.004304</td>\n",
              "      <td>0.004304</td>\n",
              "      <td>-0.000449</td>\n",
              "      <td>-0.013264</td>\n",
              "      <td>0.001723</td>\n",
              "      <td>0.011332</td>\n",
              "      <td>-0.006090</td>\n",
              "      <td>0.014461</td>\n",
              "      <td>-0.000858</td>\n",
              "      <td>0.001721</td>\n",
              "      <td>0.001567</td>\n",
              "    </tr>\n",
              "    <tr>\n",
              "      <th>2012-01-05</th>\n",
              "      <td>0.011041</td>\n",
              "      <td>0.010167</td>\n",
              "      <td>0.000563</td>\n",
              "      <td>-0.013969</td>\n",
              "      <td>-0.013969</td>\n",
              "      <td>-0.004201</td>\n",
              "      <td>-0.021522</td>\n",
              "      <td>0.082555</td>\n",
              "      <td>0.035286</td>\n",
              "      <td>-0.001223</td>\n",
              "      <td>0.006677</td>\n",
              "      <td>0.020672</td>\n",
              "      <td>0.002061</td>\n",
              "      <td>0.002659</td>\n",
              "    </tr>\n",
              "    <tr>\n",
              "      <th>2012-01-06</th>\n",
              "      <td>0.010400</td>\n",
              "      <td>0.015415</td>\n",
              "      <td>0.027763</td>\n",
              "      <td>-0.013736</td>\n",
              "      <td>-0.013736</td>\n",
              "      <td>-0.002408</td>\n",
              "      <td>-0.007773</td>\n",
              "      <td>-0.020817</td>\n",
              "      <td>-0.011624</td>\n",
              "      <td>-0.008754</td>\n",
              "      <td>0.003606</td>\n",
              "      <td>-0.009009</td>\n",
              "      <td>-0.002577</td>\n",
              "      <td>-0.002581</td>\n",
              "    </tr>\n",
              "    <tr>\n",
              "      <th>2012-01-09</th>\n",
              "      <td>-0.001587</td>\n",
              "      <td>-0.013250</td>\n",
              "      <td>-0.022428</td>\n",
              "      <td>-0.043324</td>\n",
              "      <td>-0.043324</td>\n",
              "      <td>0.004211</td>\n",
              "      <td>0.012556</td>\n",
              "      <td>0.014458</td>\n",
              "      <td>0.000000</td>\n",
              "      <td>0.001541</td>\n",
              "      <td>-0.001137</td>\n",
              "      <td>-0.001698</td>\n",
              "      <td>0.001891</td>\n",
              "      <td>0.002424</td>\n",
              "    </tr>\n",
              "  </tbody>\n",
              "</table>\n",
              "</div>"
            ],
            "text/plain": [
              "                AAPL      MSFT      AMZN     GOOGL      GOOG        PG  \\\n",
              "Date                                                                     \n",
              "2012-01-03       NaN       NaN       NaN       NaN       NaN       NaN   \n",
              "2012-01-04  0.005360  0.023261 -0.008526  0.004304  0.004304 -0.000449   \n",
              "2012-01-05  0.011041  0.010167  0.000563 -0.013969 -0.013969 -0.004201   \n",
              "2012-01-06  0.010400  0.015415  0.027763 -0.013736 -0.013736 -0.002408   \n",
              "2012-01-09 -0.001587 -0.013250 -0.022428 -0.043324 -0.043324  0.004211   \n",
              "\n",
              "                TSLA       BAC      NVDA       JNJ       UNH       JPM  \\\n",
              "Date                                                                     \n",
              "2012-01-03       NaN       NaN       NaN       NaN       NaN       NaN   \n",
              "2012-01-04 -0.013264  0.001723  0.011332 -0.006090  0.014461 -0.000858   \n",
              "2012-01-05 -0.021522  0.082555  0.035286 -0.001223  0.006677  0.020672   \n",
              "2012-01-06 -0.007773 -0.020817 -0.011624 -0.008754  0.003606 -0.009009   \n",
              "2012-01-09  0.012556  0.014458  0.000000  0.001541 -0.001137 -0.001698   \n",
              "\n",
              "                 OEF       SPY  \n",
              "Date                            \n",
              "2012-01-03       NaN       NaN  \n",
              "2012-01-04  0.001721  0.001567  \n",
              "2012-01-05  0.002061  0.002659  \n",
              "2012-01-06 -0.002577 -0.002581  \n",
              "2012-01-09  0.001891  0.002424  "
            ]
          },
          "execution_count": 112,
          "metadata": {},
          "output_type": "execute_result"
        }
      ],
      "source": [
        "df_returns.head()"
      ]
    },
    {
      "cell_type": "code",
      "execution_count": 113,
      "metadata": {
        "colab": {
          "base_uri": "https://localhost:8080/"
        },
        "id": "L3CLcqhl9p_a",
        "outputId": "cdef34f1-c974-48ef-9a90-3ad4a3e7dc37"
      },
      "outputs": [
        {
          "data": {
            "text/plain": [
              "Date\n",
              "2022-01-19   -0.011317\n",
              "2022-01-20   -0.021936\n",
              "2022-01-21    0.002917\n",
              "2022-01-24   -0.011268\n",
              "2022-01-25         NaN\n",
              "Name: OEF, dtype: float64"
            ]
          },
          "execution_count": 113,
          "metadata": {},
          "output_type": "execute_result"
        }
      ],
      "source": [
        "df_returns['OEF'] = df_returns['OEF'].shift(-1)\n",
        "df_returns['OEF'].tail()"
      ]
    },
    {
      "cell_type": "code",
      "execution_count": 114,
      "metadata": {
        "id": "F5m1g8Z8376j"
      },
      "outputs": [],
      "source": [
        "Ntest = 1000\n",
        "train = df_returns.iloc[1:-Ntest]\n",
        "test = df_returns.iloc[-Ntest:-1]"
      ]
    },
    {
      "cell_type": "code",
      "execution_count": 115,
      "metadata": {
        "colab": {
          "base_uri": "https://localhost:8080/"
        },
        "id": "lChhe3784RHB",
        "outputId": "f017133e-edbe-4763-85a8-88b42a7d0653"
      },
      "outputs": [
        {
          "data": {
            "text/plain": [
              "Index(['AAPL', 'MSFT', 'AMZN', 'GOOGL', 'GOOG', 'PG', 'TSLA', 'BAC', 'NVDA',\n",
              "       'JNJ', 'UNH', 'JPM', 'OEF', 'SPY'],\n",
              "      dtype='object')"
            ]
          },
          "execution_count": 115,
          "metadata": {},
          "output_type": "execute_result"
        }
      ],
      "source": [
        "df_returns.columns"
      ]
    },
    {
      "cell_type": "code",
      "execution_count": 116,
      "metadata": {
        "colab": {
          "base_uri": "https://localhost:8080/"
        },
        "id": "UZIgiaux4HiJ",
        "outputId": "f21ab50e-b5ad-411c-f1e6-7b92ae5b42dc"
      },
      "outputs": [
        {
          "data": {
            "text/plain": [
              "['AAPL',\n",
              " 'MSFT',\n",
              " 'AMZN',\n",
              " 'GOOGL',\n",
              " 'GOOG',\n",
              " 'PG',\n",
              " 'TSLA',\n",
              " 'BAC',\n",
              " 'NVDA',\n",
              " 'JNJ',\n",
              " 'UNH',\n",
              " 'JPM']"
            ]
          },
          "execution_count": 116,
          "metadata": {},
          "output_type": "execute_result"
        }
      ],
      "source": [
        "# x_cols = df.columns.drop('OEF')\n",
        "x_cols = ['AAPL', 'MSFT', 'AMZN', 'GOOGL', \n",
        "         'GOOG', 'PG', 'TSLA', 'BAC', \n",
        "         'NVDA', 'JNJ', 'UNH', 'JPM']\n",
        "x_cols"
      ]
    },
    {
      "cell_type": "code",
      "execution_count": 117,
      "metadata": {
        "id": "1aZC9Hvd4CsD"
      },
      "outputs": [],
      "source": [
        "Xtrain = train[x_cols]\n",
        "Ytrain = train['OEF']\n",
        "Xtest = test[x_cols]\n",
        "Ytest = test['OEF']"
      ]
    },
    {
      "cell_type": "code",
      "execution_count": 118,
      "metadata": {},
      "outputs": [
        {
          "data": {
            "text/plain": [
              "Date\n",
              "2018-02-06   -0.005442\n",
              "2018-02-07   -0.038771\n",
              "2018-02-08    0.014727\n",
              "2018-02-09    0.014174\n",
              "2018-02-12    0.002878\n",
              "Name: OEF, dtype: float64"
            ]
          },
          "execution_count": 118,
          "metadata": {},
          "output_type": "execute_result"
        }
      ],
      "source": [
        "Ytest.head()"
      ]
    },
    {
      "cell_type": "code",
      "execution_count": 119,
      "metadata": {
        "colab": {
          "base_uri": "https://localhost:8080/",
          "height": 235
        },
        "id": "dRgg9f4Q78lk",
        "outputId": "e30d9c70-afcb-41fc-f878-b4bc4734adf8"
      },
      "outputs": [
        {
          "data": {
            "text/html": [
              "<div>\n",
              "<style scoped>\n",
              "    .dataframe tbody tr th:only-of-type {\n",
              "        vertical-align: middle;\n",
              "    }\n",
              "\n",
              "    .dataframe tbody tr th {\n",
              "        vertical-align: top;\n",
              "    }\n",
              "\n",
              "    .dataframe thead th {\n",
              "        text-align: right;\n",
              "    }\n",
              "</style>\n",
              "<table border=\"1\" class=\"dataframe\">\n",
              "  <thead>\n",
              "    <tr style=\"text-align: right;\">\n",
              "      <th></th>\n",
              "      <th>AAPL</th>\n",
              "      <th>MSFT</th>\n",
              "      <th>AMZN</th>\n",
              "      <th>GOOGL</th>\n",
              "      <th>GOOG</th>\n",
              "      <th>PG</th>\n",
              "      <th>TSLA</th>\n",
              "      <th>BAC</th>\n",
              "      <th>NVDA</th>\n",
              "      <th>JNJ</th>\n",
              "      <th>UNH</th>\n",
              "      <th>JPM</th>\n",
              "    </tr>\n",
              "    <tr>\n",
              "      <th>Date</th>\n",
              "      <th></th>\n",
              "      <th></th>\n",
              "      <th></th>\n",
              "      <th></th>\n",
              "      <th></th>\n",
              "      <th></th>\n",
              "      <th></th>\n",
              "      <th></th>\n",
              "      <th></th>\n",
              "      <th></th>\n",
              "      <th></th>\n",
              "      <th></th>\n",
              "    </tr>\n",
              "  </thead>\n",
              "  <tbody>\n",
              "    <tr>\n",
              "      <th>2012-01-04</th>\n",
              "      <td>0.005360</td>\n",
              "      <td>0.023261</td>\n",
              "      <td>-0.008526</td>\n",
              "      <td>0.004304</td>\n",
              "      <td>0.004304</td>\n",
              "      <td>-0.000449</td>\n",
              "      <td>-0.013264</td>\n",
              "      <td>0.001723</td>\n",
              "      <td>0.011332</td>\n",
              "      <td>-0.006090</td>\n",
              "      <td>0.014461</td>\n",
              "      <td>-0.000858</td>\n",
              "    </tr>\n",
              "    <tr>\n",
              "      <th>2012-01-05</th>\n",
              "      <td>0.011041</td>\n",
              "      <td>0.010167</td>\n",
              "      <td>0.000563</td>\n",
              "      <td>-0.013969</td>\n",
              "      <td>-0.013969</td>\n",
              "      <td>-0.004201</td>\n",
              "      <td>-0.021522</td>\n",
              "      <td>0.082555</td>\n",
              "      <td>0.035286</td>\n",
              "      <td>-0.001223</td>\n",
              "      <td>0.006677</td>\n",
              "      <td>0.020672</td>\n",
              "    </tr>\n",
              "    <tr>\n",
              "      <th>2012-01-06</th>\n",
              "      <td>0.010400</td>\n",
              "      <td>0.015415</td>\n",
              "      <td>0.027763</td>\n",
              "      <td>-0.013736</td>\n",
              "      <td>-0.013736</td>\n",
              "      <td>-0.002408</td>\n",
              "      <td>-0.007773</td>\n",
              "      <td>-0.020817</td>\n",
              "      <td>-0.011624</td>\n",
              "      <td>-0.008754</td>\n",
              "      <td>0.003606</td>\n",
              "      <td>-0.009009</td>\n",
              "    </tr>\n",
              "    <tr>\n",
              "      <th>2012-01-09</th>\n",
              "      <td>-0.001587</td>\n",
              "      <td>-0.013250</td>\n",
              "      <td>-0.022428</td>\n",
              "      <td>-0.043324</td>\n",
              "      <td>-0.043324</td>\n",
              "      <td>0.004211</td>\n",
              "      <td>0.012556</td>\n",
              "      <td>0.014458</td>\n",
              "      <td>0.000000</td>\n",
              "      <td>0.001541</td>\n",
              "      <td>-0.001137</td>\n",
              "      <td>-0.001698</td>\n",
              "    </tr>\n",
              "    <tr>\n",
              "      <th>2012-01-10</th>\n",
              "      <td>0.003574</td>\n",
              "      <td>0.003598</td>\n",
              "      <td>0.004359</td>\n",
              "      <td>0.001092</td>\n",
              "      <td>0.001092</td>\n",
              "      <td>-0.004663</td>\n",
              "      <td>0.013487</td>\n",
              "      <td>0.055828</td>\n",
              "      <td>-0.004135</td>\n",
              "      <td>0.004150</td>\n",
              "      <td>-0.001899</td>\n",
              "      <td>0.021024</td>\n",
              "    </tr>\n",
              "  </tbody>\n",
              "</table>\n",
              "</div>"
            ],
            "text/plain": [
              "                AAPL      MSFT      AMZN     GOOGL      GOOG        PG  \\\n",
              "Date                                                                     \n",
              "2012-01-04  0.005360  0.023261 -0.008526  0.004304  0.004304 -0.000449   \n",
              "2012-01-05  0.011041  0.010167  0.000563 -0.013969 -0.013969 -0.004201   \n",
              "2012-01-06  0.010400  0.015415  0.027763 -0.013736 -0.013736 -0.002408   \n",
              "2012-01-09 -0.001587 -0.013250 -0.022428 -0.043324 -0.043324  0.004211   \n",
              "2012-01-10  0.003574  0.003598  0.004359  0.001092  0.001092 -0.004663   \n",
              "\n",
              "                TSLA       BAC      NVDA       JNJ       UNH       JPM  \n",
              "Date                                                                    \n",
              "2012-01-04 -0.013264  0.001723  0.011332 -0.006090  0.014461 -0.000858  \n",
              "2012-01-05 -0.021522  0.082555  0.035286 -0.001223  0.006677  0.020672  \n",
              "2012-01-06 -0.007773 -0.020817 -0.011624 -0.008754  0.003606 -0.009009  \n",
              "2012-01-09  0.012556  0.014458  0.000000  0.001541 -0.001137 -0.001698  \n",
              "2012-01-10  0.013487  0.055828 -0.004135  0.004150 -0.001899  0.021024  "
            ]
          },
          "execution_count": 119,
          "metadata": {},
          "output_type": "execute_result"
        }
      ],
      "source": [
        "Xtrain.head()"
      ]
    },
    {
      "cell_type": "markdown",
      "metadata": {},
      "source": [
        "## Buy & Hold"
      ]
    },
    {
      "cell_type": "code",
      "execution_count": 120,
      "metadata": {},
      "outputs": [
        {
          "data": {
            "text/plain": [
              "(0.007614319076529266, 0.013529851199317393)"
            ]
          },
          "execution_count": 120,
          "metadata": {},
          "output_type": "execute_result"
        }
      ],
      "source": [
        "#std buy-and-hold train and test\n",
        "Ytrain.std(), Ytest.std()"
      ]
    },
    {
      "cell_type": "code",
      "execution_count": 121,
      "metadata": {},
      "outputs": [
        {
          "data": {
            "text/plain": [
              "(0.06192600988326031, 0.038053469009501795)"
            ]
          },
          "execution_count": 121,
          "metadata": {},
          "output_type": "execute_result"
        }
      ],
      "source": [
        "#SR buy-and-hold train and test\n",
        "Ytrain.mean()/Ytrain.std(), Ytest.mean()/Ytest.std()"
      ]
    },
    {
      "cell_type": "code",
      "execution_count": 122,
      "metadata": {},
      "outputs": [
        {
          "data": {
            "text/plain": [
              "(0.7223753783295717, 0.5143429155430788)"
            ]
          },
          "execution_count": 122,
          "metadata": {},
          "output_type": "execute_result"
        }
      ],
      "source": [
        "# Total return buy-and-hold train and test\n",
        "Ytrain.sum(), Ytest.sum()"
      ]
    },
    {
      "cell_type": "markdown",
      "metadata": {},
      "source": [
        "## XGBoost Regressor"
      ]
    },
    {
      "cell_type": "code",
      "execution_count": 123,
      "metadata": {
        "colab": {
          "base_uri": "https://localhost:8080/"
        },
        "id": "JKV62WkI4hM2",
        "outputId": "6a6bf207-39d4-4568-8c3a-34b1a8a1eed4"
      },
      "outputs": [
        {
          "data": {
            "text/plain": [
              "(0.984121113406096, -0.27870966579787937)"
            ]
          },
          "execution_count": 123,
          "metadata": {},
          "output_type": "execute_result"
        }
      ],
      "source": [
        "from xgboost.sklearn import XGBRegressor\n",
        "model = XGBRegressor()\n",
        "model.fit(Xtrain, Ytrain)\n",
        "model.score(Xtrain, Ytrain), model.score(Xtest, Ytest)"
      ]
    },
    {
      "cell_type": "code",
      "execution_count": 124,
      "metadata": {
        "colab": {
          "base_uri": "https://localhost:8080/"
        },
        "id": "dT724GIU828f",
        "outputId": "9ca29365-38bc-4d95-8715-f311eac43ca0"
      },
      "outputs": [
        {
          "data": {
            "text/plain": [
              "(0.9556135770234987, 0.5105105105105106)"
            ]
          },
          "execution_count": 124,
          "metadata": {},
          "output_type": "execute_result"
        }
      ],
      "source": [
        "# Direction\n",
        "Ptrain = model.predict(Xtrain)\n",
        "Ptest = model.predict(Xtest)\n",
        "np.mean(np.sign(Ptrain) == np.sign(Ytrain)), np.mean(np.sign(Ptest) == np.sign(Ytest))"
      ]
    },
    {
      "cell_type": "code",
      "execution_count": 125,
      "metadata": {
        "colab": {
          "base_uri": "https://localhost:8080/"
        },
        "id": "s_yi4ErBuSyt",
        "outputId": "3b5b5738-fea0-4c44-b621-5f4aa881f9e4"
      },
      "outputs": [
        {
          "data": {
            "text/plain": [
              "({-1.0, 1.0}, {-1.0, 1.0})"
            ]
          },
          "execution_count": 125,
          "metadata": {},
          "output_type": "execute_result"
        }
      ],
      "source": [
        "set(np.sign(Ptrain)), set(np.sign(Ptest))"
      ]
    },
    {
      "cell_type": "code",
      "execution_count": 126,
      "metadata": {
        "id": "jbtqTtPBBmBU"
      },
      "outputs": [],
      "source": [
        "train_idx = df.index <= train.index[-1]\n",
        "test_idx = df.index > train.index[-1]\n",
        "\n",
        "train_idx[0] = False\n",
        "test_idx[-1] = False"
      ]
    },
    {
      "cell_type": "code",
      "execution_count": 127,
      "metadata": {
        "id": "R8O8ATPO9UHn"
      },
      "outputs": [],
      "source": [
        "df_returns['Position'] = 0 # create new column\n",
        "df_returns.loc[train_idx,'Position'] = (Ptrain > 0)\n",
        "df_returns.loc[test_idx,'Position'] = (Ptest > 0)"
      ]
    },
    {
      "cell_type": "code",
      "execution_count": 128,
      "metadata": {
        "id": "QhG-T22SK0R4"
      },
      "outputs": [],
      "source": [
        "df_returns['AlgoReturn'] = df_returns['Position'] * df_returns['OEF']"
      ]
    },
    {
      "cell_type": "code",
      "execution_count": 129,
      "metadata": {
        "colab": {
          "base_uri": "https://localhost:8080/"
        },
        "id": "ps6iv9TN0PlS",
        "outputId": "a1a07caf-098a-4d21-825d-e0c805d10a00"
      },
      "outputs": [
        {
          "data": {
            "text/plain": [
              "4.470544875801163"
            ]
          },
          "execution_count": 129,
          "metadata": {},
          "output_type": "execute_result"
        }
      ],
      "source": [
        "# Total algo log return train\n",
        "df_returns.iloc[1:-Ntest]['AlgoReturn'].sum()"
      ]
    },
    {
      "cell_type": "code",
      "execution_count": 130,
      "metadata": {
        "colab": {
          "base_uri": "https://localhost:8080/"
        },
        "id": "QDgFMKbHK-Dt",
        "outputId": "05201248-ba3e-4365-a90a-8ba326b860a3"
      },
      "outputs": [
        {
          "data": {
            "text/plain": [
              "0.11559217822581314"
            ]
          },
          "execution_count": 130,
          "metadata": {},
          "output_type": "execute_result"
        }
      ],
      "source": [
        "# Total algo log return test\n",
        "df_returns.iloc[-Ntest:-1]['AlgoReturn'].sum()"
      ]
    },
    {
      "cell_type": "code",
      "execution_count": 131,
      "metadata": {},
      "outputs": [
        {
          "data": {
            "text/plain": [
              "(0.004572352331086935, 0.6382076491363692)"
            ]
          },
          "execution_count": 131,
          "metadata": {},
          "output_type": "execute_result"
        }
      ],
      "source": [
        "#std and SR algo train\n",
        "df_returns.iloc[1:-Ntest]['AlgoReturn'].std(), df_returns.iloc[1:-Ntest]['AlgoReturn'].mean()/df_returns.iloc[1:-Ntest]['AlgoReturn'].std()"
      ]
    },
    {
      "cell_type": "code",
      "execution_count": 132,
      "metadata": {},
      "outputs": [
        {
          "data": {
            "text/plain": [
              "(0.009704051703708022, 0.011923667520002169)"
            ]
          },
          "execution_count": 132,
          "metadata": {},
          "output_type": "execute_result"
        }
      ],
      "source": [
        "#std and SR algo test\n",
        "df_returns.iloc[-Ntest:-1]['AlgoReturn'].std(), df_returns.iloc[-Ntest:-1]['AlgoReturn'].mean()/df_returns.iloc[-Ntest:-1]['AlgoReturn'].std()"
      ]
    },
    {
      "cell_type": "code",
      "execution_count": 133,
      "metadata": {},
      "outputs": [
        {
          "data": {
            "text/plain": [
              "(9.200228551268258e-07, 0.00023384228259967047)"
            ]
          },
          "execution_count": 133,
          "metadata": {},
          "output_type": "execute_result"
        }
      ],
      "source": [
        "# MSE\n",
        "mean_squared_error(Ytrain, Ptrain), mean_squared_error(Ytest, Ptest)"
      ]
    },
    {
      "cell_type": "code",
      "execution_count": 134,
      "metadata": {},
      "outputs": [
        {
          "data": {
            "text/plain": [
              "(0.0009591782186469967, 0.015291902517334803)"
            ]
          },
          "execution_count": 134,
          "metadata": {},
          "output_type": "execute_result"
        }
      ],
      "source": [
        "# RMSE\n",
        "mean_squared_error(Ytrain, Ptrain, squared=False), mean_squared_error(Ytest, Ptest, squared=False)"
      ]
    },
    {
      "cell_type": "code",
      "execution_count": 135,
      "metadata": {},
      "outputs": [
        {
          "data": {
            "text/plain": [
              "(0.0006792364903412241, 0.009518913725953846)"
            ]
          },
          "execution_count": 135,
          "metadata": {},
          "output_type": "execute_result"
        }
      ],
      "source": [
        "# MAE\n",
        "mean_absolute_error(Ytrain, Ptrain), mean_absolute_error(Ytest, Ptest) "
      ]
    },
    {
      "cell_type": "code",
      "execution_count": 136,
      "metadata": {},
      "outputs": [
        {
          "data": {
            "text/plain": [
              "(0.984121113406096, -0.27870966579787937)"
            ]
          },
          "execution_count": 136,
          "metadata": {},
          "output_type": "execute_result"
        }
      ],
      "source": [
        "# R^2\n",
        "r2_score(Ytrain, Ptrain), r2_score(Ytest, Ptest)"
      ]
    },
    {
      "cell_type": "code",
      "execution_count": 137,
      "metadata": {},
      "outputs": [
        {
          "data": {
            "text/plain": [
              "(20983945435.583603, 67216154634.53976)"
            ]
          },
          "execution_count": 137,
          "metadata": {},
          "output_type": "execute_result"
        }
      ],
      "source": [
        "# MAPE\n",
        "mean_absolute_percentage_error(Ytrain, Ptrain), mean_absolute_percentage_error(Ytest, Ptest)"
      ]
    },
    {
      "cell_type": "code",
      "execution_count": 138,
      "metadata": {},
      "outputs": [
        {
          "data": {
            "text/plain": [
              "0.30983184419542936"
            ]
          },
          "execution_count": 138,
          "metadata": {},
          "output_type": "execute_result"
        }
      ],
      "source": [
        "#sMAPE train\n",
        "def smape(Ytrain, Ptrain):\n",
        "    numerator = np.abs(Ytrain - Ptrain)\n",
        "    denominator = (np.abs(Ytrain) + np.abs(Ptrain)) / 2\n",
        "    ratio = numerator / denominator\n",
        "    return ratio.mean()\n",
        "\n",
        "smape(Ytrain, Ptrain)"
      ]
    },
    {
      "cell_type": "code",
      "execution_count": 139,
      "metadata": {},
      "outputs": [
        {
          "data": {
            "text/plain": [
              "1.532008934206025"
            ]
          },
          "execution_count": 139,
          "metadata": {},
          "output_type": "execute_result"
        }
      ],
      "source": [
        "#sMAPE test\n",
        "def smape(Ytest, Ptest):\n",
        "    numerator = np.abs(Ytest - Ptest)\n",
        "    denominator = (np.abs(Ytest) + np.abs(Ptest)) / 2\n",
        "    ratio = numerator / denominator\n",
        "    return ratio.mean()\n",
        "\n",
        "smape(Ytest, Ptest)"
      ]
    },
    {
      "cell_type": "code",
      "execution_count": 140,
      "metadata": {},
      "outputs": [
        {
          "data": {
            "text/plain": [
              "1394"
            ]
          },
          "execution_count": 140,
          "metadata": {},
          "output_type": "execute_result"
        }
      ],
      "source": [
        "df_returns['Position'].to_csv('XGBRBool.csv', index = True)\n",
        "sum(df_returns['Position'])"
      ]
    },
    {
      "cell_type": "markdown",
      "metadata": {},
      "source": [
        "## LGBM Regressor"
      ]
    },
    {
      "cell_type": "code",
      "execution_count": 141,
      "metadata": {},
      "outputs": [
        {
          "data": {
            "text/plain": [
              "(0.8024223076596085, -0.11617099655500462)"
            ]
          },
          "execution_count": 141,
          "metadata": {},
          "output_type": "execute_result"
        }
      ],
      "source": [
        "from lightgbm import LGBMRegressor\n",
        "model = LGBMRegressor()\n",
        "model.fit(Xtrain, Ytrain)\n",
        "model.score(Xtrain, Ytrain), model.score(Xtest, Ytest)"
      ]
    },
    {
      "cell_type": "code",
      "execution_count": 142,
      "metadata": {},
      "outputs": [
        {
          "data": {
            "text/plain": [
              "(0.8753263707571801, 0.5015015015015015)"
            ]
          },
          "execution_count": 142,
          "metadata": {},
          "output_type": "execute_result"
        }
      ],
      "source": [
        "# Direction\n",
        "Ptrain = model.predict(Xtrain)\n",
        "Ptest = model.predict(Xtest)\n",
        "np.mean(np.sign(Ptrain) == np.sign(Ytrain)), np.mean(np.sign(Ptest) == np.sign(Ytest))"
      ]
    },
    {
      "cell_type": "code",
      "execution_count": 143,
      "metadata": {},
      "outputs": [
        {
          "data": {
            "text/plain": [
              "({-1.0, 1.0}, {-1.0, 1.0})"
            ]
          },
          "execution_count": 143,
          "metadata": {},
          "output_type": "execute_result"
        }
      ],
      "source": [
        "set(np.sign(Ptrain)), set(np.sign(Ptest))"
      ]
    },
    {
      "cell_type": "code",
      "execution_count": 144,
      "metadata": {},
      "outputs": [],
      "source": [
        "train_idx = df.index <= train.index[-1]\n",
        "test_idx = df.index > train.index[-1]\n",
        "\n",
        "train_idx[0] = False\n",
        "test_idx[-1] = False"
      ]
    },
    {
      "cell_type": "code",
      "execution_count": 145,
      "metadata": {},
      "outputs": [],
      "source": [
        "df_returns['Position'] = 0 # create new column\n",
        "df_returns.loc[train_idx,'Position'] = (Ptrain > 0)\n",
        "df_returns.loc[test_idx,'Position'] = (Ptest > 0)"
      ]
    },
    {
      "cell_type": "code",
      "execution_count": 146,
      "metadata": {},
      "outputs": [],
      "source": [
        "df_returns['AlgoReturn'] = df_returns['Position'] * df_returns['OEF']"
      ]
    },
    {
      "cell_type": "code",
      "execution_count": 147,
      "metadata": {},
      "outputs": [
        {
          "data": {
            "text/plain": [
              "4.247848247199831"
            ]
          },
          "execution_count": 147,
          "metadata": {},
          "output_type": "execute_result"
        }
      ],
      "source": [
        "# Total algo log return train\n",
        "df_returns.iloc[1:-Ntest]['AlgoReturn'].sum()"
      ]
    },
    {
      "cell_type": "code",
      "execution_count": 148,
      "metadata": {},
      "outputs": [
        {
          "data": {
            "text/plain": [
              "0.11836055311913629"
            ]
          },
          "execution_count": 148,
          "metadata": {},
          "output_type": "execute_result"
        }
      ],
      "source": [
        "# Total algo log return test\n",
        "df_returns.iloc[-Ntest:-1]['AlgoReturn'].sum()"
      ]
    },
    {
      "cell_type": "code",
      "execution_count": 149,
      "metadata": {},
      "outputs": [
        {
          "data": {
            "text/plain": [
              "(0.004661790604998658, 0.5947815190748617)"
            ]
          },
          "execution_count": 149,
          "metadata": {},
          "output_type": "execute_result"
        }
      ],
      "source": [
        "#std and SR algo train\n",
        "df_returns.iloc[1:-Ntest]['AlgoReturn'].std(), df_returns.iloc[1:-Ntest]['AlgoReturn'].mean()/df_returns.iloc[1:-Ntest]['AlgoReturn'].std()"
      ]
    },
    {
      "cell_type": "code",
      "execution_count": 150,
      "metadata": {},
      "outputs": [
        {
          "data": {
            "text/plain": [
              "(0.010085247819768486, 0.011747756155188593)"
            ]
          },
          "execution_count": 150,
          "metadata": {},
          "output_type": "execute_result"
        }
      ],
      "source": [
        "#std and SR algo test\n",
        "df_returns.iloc[-Ntest:-1]['AlgoReturn'].std(), df_returns.iloc[-Ntest:-1]['AlgoReturn'].mean()/df_returns.iloc[-Ntest:-1]['AlgoReturn'].std()"
      ]
    },
    {
      "cell_type": "code",
      "execution_count": 151,
      "metadata": {},
      "outputs": [
        {
          "data": {
            "text/plain": [
              "(1.144765355816326e-05, 0.0002041182455933885)"
            ]
          },
          "execution_count": 151,
          "metadata": {},
          "output_type": "execute_result"
        }
      ],
      "source": [
        "# MSE\n",
        "mean_squared_error(Ytrain, Ptrain), mean_squared_error(Ytest, Ptest)"
      ]
    },
    {
      "cell_type": "code",
      "execution_count": 152,
      "metadata": {},
      "outputs": [
        {
          "data": {
            "text/plain": [
              "(0.0033834381268412848, 0.01428699568115664)"
            ]
          },
          "execution_count": 152,
          "metadata": {},
          "output_type": "execute_result"
        }
      ],
      "source": [
        "# RMSE\n",
        "mean_squared_error(Ytrain, Ptrain, squared=False), mean_squared_error(Ytest, Ptest, squared=False)"
      ]
    },
    {
      "cell_type": "code",
      "execution_count": 153,
      "metadata": {},
      "outputs": [
        {
          "data": {
            "text/plain": [
              "(0.002419180296357521, 0.009019050912406146)"
            ]
          },
          "execution_count": 153,
          "metadata": {},
          "output_type": "execute_result"
        }
      ],
      "source": [
        "# MAE\n",
        "mean_absolute_error(Ytrain, Ptrain), mean_absolute_error(Ytest, Ptest) "
      ]
    },
    {
      "cell_type": "code",
      "execution_count": 154,
      "metadata": {},
      "outputs": [
        {
          "data": {
            "text/plain": [
              "(0.8024223076596085, -0.11617099655500462)"
            ]
          },
          "execution_count": 154,
          "metadata": {},
          "output_type": "execute_result"
        }
      ],
      "source": [
        "# R^2\n",
        "r2_score(Ytrain, Ptrain), r2_score(Ytest, Ptest)"
      ]
    },
    {
      "cell_type": "code",
      "execution_count": 155,
      "metadata": {},
      "outputs": [
        {
          "data": {
            "text/plain": [
              "(17974776069.33198, 51058719859.89038)"
            ]
          },
          "execution_count": 155,
          "metadata": {},
          "output_type": "execute_result"
        }
      ],
      "source": [
        "# MAPE\n",
        "mean_absolute_percentage_error(Ytrain, Ptrain), mean_absolute_percentage_error(Ytest, Ptest)"
      ]
    },
    {
      "cell_type": "code",
      "execution_count": 156,
      "metadata": {},
      "outputs": [
        {
          "data": {
            "text/plain": [
              "0.7592580262595109"
            ]
          },
          "execution_count": 156,
          "metadata": {},
          "output_type": "execute_result"
        }
      ],
      "source": [
        "#sMAPE train\n",
        "def smape(Ytrain, Ptrain):\n",
        "    numerator = np.abs(Ytrain - Ptrain)\n",
        "    denominator = (np.abs(Ytrain) + np.abs(Ptrain)) / 2\n",
        "    ratio = numerator / denominator\n",
        "    return ratio.mean()\n",
        "\n",
        "smape(Ytrain, Ptrain)"
      ]
    },
    {
      "cell_type": "code",
      "execution_count": 157,
      "metadata": {},
      "outputs": [
        {
          "data": {
            "text/plain": [
              "1.5479624508043606"
            ]
          },
          "execution_count": 157,
          "metadata": {},
          "output_type": "execute_result"
        }
      ],
      "source": [
        "#sMAPE test\n",
        "def smape(Ytest, Ptest):\n",
        "    numerator = np.abs(Ytest - Ptest)\n",
        "    denominator = (np.abs(Ytest) + np.abs(Ptest)) / 2\n",
        "    ratio = numerator / denominator\n",
        "    return ratio.mean()\n",
        "\n",
        "smape(Ytest, Ptest)"
      ]
    },
    {
      "cell_type": "code",
      "execution_count": 158,
      "metadata": {},
      "outputs": [
        {
          "data": {
            "text/plain": [
              "1408"
            ]
          },
          "execution_count": 158,
          "metadata": {},
          "output_type": "execute_result"
        }
      ],
      "source": [
        "df_returns['Position'].to_csv('LGBMRBool.csv', index = True)\n",
        "sum(df_returns['Position'])"
      ]
    },
    {
      "cell_type": "markdown",
      "metadata": {},
      "source": [
        "## XGBoost Classifier"
      ]
    },
    {
      "cell_type": "code",
      "execution_count": 159,
      "metadata": {},
      "outputs": [
        {
          "name": "stderr",
          "output_type": "stream",
          "text": [
            "C:\\Users\\rapha\\anaconda3\\lib\\site-packages\\xgboost\\sklearn.py:1224: UserWarning: The use of label encoder in XGBClassifier is deprecated and will be removed in a future release. To remove this warning, do the following: 1) Pass option use_label_encoder=False when constructing XGBClassifier object; and 2) Encode your labels (y) as integers starting with 0, i.e. 0, 1, 2, ..., [num_class - 1].\n",
            "  warnings.warn(label_encoder_deprecation_msg, UserWarning)\n"
          ]
        },
        {
          "name": "stdout",
          "output_type": "stream",
          "text": [
            "[22:38:23] WARNING: C:/Users/Administrator/workspace/xgboost-win64_release_1.5.1/src/learner.cc:1115: Starting in XGBoost 1.3.0, the default evaluation metric used with the objective 'binary:logistic' was changed from 'error' to 'logloss'. Explicitly set eval_metric if you'd like to restore the old behavior.\n"
          ]
        },
        {
          "data": {
            "text/plain": [
              "(1.0, 0.4974974974974975)"
            ]
          },
          "execution_count": 159,
          "metadata": {},
          "output_type": "execute_result"
        }
      ],
      "source": [
        "from xgboost.sklearn import XGBClassifier\n",
        "model = XGBClassifier()\n",
        "Ctrain = (Ytrain > 0)\n",
        "Ctest = (Ytest > 0)\n",
        "model.fit(Xtrain, Ctrain)\n",
        "model.score(Xtrain, Ctrain), model.score(Xtest, Ctest)"
      ]
    },
    {
      "cell_type": "code",
      "execution_count": 160,
      "metadata": {},
      "outputs": [
        {
          "data": {
            "text/plain": [
              "({False, True}, {False, True})"
            ]
          },
          "execution_count": 160,
          "metadata": {},
          "output_type": "execute_result"
        }
      ],
      "source": [
        "Ptrain = model.predict(Xtrain)\n",
        "Ptest = model.predict(Xtest)\n",
        "df_returns.loc[train_idx,'Position'] = Ptrain\n",
        "df_returns.loc[test_idx,'Position'] = Ptest\n",
        "df_returns['AlgoReturn'] = df_returns['Position'] * df_returns['OEF']\n",
        "set(Ptrain), set(Ptest)"
      ]
    },
    {
      "cell_type": "code",
      "execution_count": 161,
      "metadata": {},
      "outputs": [
        {
          "data": {
            "text/plain": [
              "4.498574828303063"
            ]
          },
          "execution_count": 161,
          "metadata": {},
          "output_type": "execute_result"
        }
      ],
      "source": [
        "# Total algo log return train\n",
        "df_returns.iloc[1:-Ntest]['AlgoReturn'].sum()"
      ]
    },
    {
      "cell_type": "code",
      "execution_count": 162,
      "metadata": {},
      "outputs": [
        {
          "data": {
            "text/plain": [
              "0.10007186685410385"
            ]
          },
          "execution_count": 162,
          "metadata": {},
          "output_type": "execute_result"
        }
      ],
      "source": [
        "# Total algo log return test\n",
        "df_returns.iloc[-Ntest:-1]['AlgoReturn'].sum()"
      ]
    },
    {
      "cell_type": "code",
      "execution_count": 163,
      "metadata": {},
      "outputs": [
        {
          "data": {
            "text/plain": [
              "(0.004559243472961057, 0.6440556560105448)"
            ]
          },
          "execution_count": 163,
          "metadata": {},
          "output_type": "execute_result"
        }
      ],
      "source": [
        "#std and SR algo train\n",
        "df_returns.iloc[1:-Ntest]['AlgoReturn'].std(), df_returns.iloc[1:-Ntest]['AlgoReturn'].mean()/df_returns.iloc[1:-Ntest]['AlgoReturn'].std()"
      ]
    },
    {
      "cell_type": "code",
      "execution_count": 164,
      "metadata": {},
      "outputs": [
        {
          "data": {
            "text/plain": [
              "(0.009228905168443605, 0.01085416277063016)"
            ]
          },
          "execution_count": 164,
          "metadata": {},
          "output_type": "execute_result"
        }
      ],
      "source": [
        "#std and SR algo test\n",
        "df_returns.iloc[-Ntest:-1]['AlgoReturn'].std(), df_returns.iloc[-Ntest:-1]['AlgoReturn'].mean()/df_returns.iloc[-Ntest:-1]['AlgoReturn'].std()"
      ]
    },
    {
      "cell_type": "code",
      "execution_count": 165,
      "metadata": {},
      "outputs": [
        {
          "data": {
            "text/plain": [
              "(0.5353080646586249, 0.5845673792186874)"
            ]
          },
          "execution_count": 165,
          "metadata": {},
          "output_type": "execute_result"
        }
      ],
      "source": [
        "# MSE\n",
        "mean_squared_error(Ytrain, Ptrain), mean_squared_error(Ytest, Ptest)"
      ]
    },
    {
      "cell_type": "code",
      "execution_count": 166,
      "metadata": {},
      "outputs": [
        {
          "data": {
            "text/plain": [
              "(0.7316475002749787, 0.7645700616808687)"
            ]
          },
          "execution_count": 166,
          "metadata": {},
          "output_type": "execute_result"
        }
      ],
      "source": [
        "# RMSE\n",
        "mean_squared_error(Ytrain, Ptrain, squared=False), mean_squared_error(Ytest, Ptest, squared=False)"
      ]
    },
    {
      "cell_type": "code",
      "execution_count": 167,
      "metadata": {},
      "outputs": [
        {
          "data": {
            "text/plain": [
              "(0.5406511910063123, 0.5882874667278121)"
            ]
          },
          "execution_count": 167,
          "metadata": {},
          "output_type": "execute_result"
        }
      ],
      "source": [
        "# MAE\n",
        "mean_absolute_error(Ytrain, Ptrain), mean_absolute_error(Ytest, Ptest) "
      ]
    },
    {
      "cell_type": "code",
      "execution_count": 168,
      "metadata": {},
      "outputs": [
        {
          "data": {
            "text/plain": [
              "(-9238.005318345939, -3195.5645810802707)"
            ]
          },
          "execution_count": 168,
          "metadata": {},
          "output_type": "execute_result"
        }
      ],
      "source": [
        "# R^2\n",
        "r2_score(Ytrain, Ptrain), r2_score(Ytest, Ptest)"
      ]
    },
    {
      "cell_type": "code",
      "execution_count": 169,
      "metadata": {},
      "outputs": [
        {
          "data": {
            "text/plain": [
              "(381.35145625155474, 18032430940827.61)"
            ]
          },
          "execution_count": 169,
          "metadata": {},
          "output_type": "execute_result"
        }
      ],
      "source": [
        "# MAPE\n",
        "mean_absolute_percentage_error(Ytrain, Ptrain), mean_absolute_percentage_error(Ytest, Ptest)"
      ]
    },
    {
      "cell_type": "code",
      "execution_count": 170,
      "metadata": {},
      "outputs": [
        {
          "data": {
            "text/plain": [
              "1.988278467528496"
            ]
          },
          "execution_count": 170,
          "metadata": {},
          "output_type": "execute_result"
        }
      ],
      "source": [
        "#sMAPE train\n",
        "def smape(Ytrain, Ptrain):\n",
        "    numerator = np.abs(Ytrain - Ptrain)\n",
        "    denominator = (np.abs(Ytrain) + np.abs(Ptrain)) / 2\n",
        "    ratio = numerator / denominator\n",
        "    return ratio.mean()\n",
        "\n",
        "smape(Ytrain, Ptrain)"
      ]
    },
    {
      "cell_type": "code",
      "execution_count": 171,
      "metadata": {},
      "outputs": [
        {
          "data": {
            "text/plain": [
              "1.9906257939659986"
            ]
          },
          "execution_count": 171,
          "metadata": {},
          "output_type": "execute_result"
        }
      ],
      "source": [
        "#sMAPE test\n",
        "def smape(Ytest, Ptest):\n",
        "    numerator = np.abs(Ytest - Ptest)\n",
        "    denominator = (np.abs(Ytest) + np.abs(Ptest)) / 2\n",
        "    ratio = numerator / denominator\n",
        "    return ratio.mean()\n",
        "\n",
        "smape(Ytest, Ptest)"
      ]
    },
    {
      "cell_type": "code",
      "execution_count": 172,
      "metadata": {},
      "outputs": [
        {
          "data": {
            "text/plain": [
              "1413"
            ]
          },
          "execution_count": 172,
          "metadata": {},
          "output_type": "execute_result"
        }
      ],
      "source": [
        "df_returns['Position'].to_csv('XGBCBool.csv', index = True)\n",
        "sum(df_returns['Position'])"
      ]
    },
    {
      "cell_type": "markdown",
      "metadata": {},
      "source": [
        "## LGBM Classifier"
      ]
    },
    {
      "cell_type": "code",
      "execution_count": 173,
      "metadata": {},
      "outputs": [
        {
          "data": {
            "text/plain": [
              "(0.9973890339425587, 0.4774774774774775)"
            ]
          },
          "execution_count": 173,
          "metadata": {},
          "output_type": "execute_result"
        }
      ],
      "source": [
        "from lightgbm import LGBMClassifier\n",
        "model = LGBMClassifier()\n",
        "Ctrain = (Ytrain > 0)\n",
        "Ctest = (Ytest > 0)\n",
        "model.fit(Xtrain, Ctrain)\n",
        "model.score(Xtrain, Ctrain), model.score(Xtest, Ctest)"
      ]
    },
    {
      "cell_type": "code",
      "execution_count": 174,
      "metadata": {},
      "outputs": [
        {
          "data": {
            "text/plain": [
              "({False, True}, {False, True})"
            ]
          },
          "execution_count": 174,
          "metadata": {},
          "output_type": "execute_result"
        }
      ],
      "source": [
        "Ptrain = model.predict(Xtrain)\n",
        "Ptest = model.predict(Xtest)\n",
        "df_returns.loc[train_idx,'Position'] = Ptrain\n",
        "df_returns.loc[test_idx,'Position'] = Ptest\n",
        "df_returns['AlgoReturn'] = df_returns['Position'] * df_returns['OEF']\n",
        "set(Ptrain), set(Ptest)"
      ]
    },
    {
      "cell_type": "code",
      "execution_count": 175,
      "metadata": {},
      "outputs": [
        {
          "data": {
            "text/plain": [
              "4.465993113570026"
            ]
          },
          "execution_count": 175,
          "metadata": {},
          "output_type": "execute_result"
        }
      ],
      "source": [
        "# Total algo log return train\n",
        "df_returns.iloc[1:-Ntest]['AlgoReturn'].sum()"
      ]
    },
    {
      "cell_type": "code",
      "execution_count": 176,
      "metadata": {},
      "outputs": [
        {
          "data": {
            "text/plain": [
              "0.0109537217968656"
            ]
          },
          "execution_count": 176,
          "metadata": {},
          "output_type": "execute_result"
        }
      ],
      "source": [
        "# Total algo log return test\n",
        "df_returns.iloc[-Ntest:-1]['AlgoReturn'].sum()"
      ]
    },
    {
      "cell_type": "code",
      "execution_count": 177,
      "metadata": {},
      "outputs": [
        {
          "data": {
            "text/plain": [
              "(0.004603604835978125, 0.6332296563102059)"
            ]
          },
          "execution_count": 177,
          "metadata": {},
          "output_type": "execute_result"
        }
      ],
      "source": [
        "#std and SR algo train\n",
        "df_returns.iloc[1:-Ntest]['AlgoReturn'].std(), df_returns.iloc[1:-Ntest]['AlgoReturn'].mean()/df_returns.iloc[1:-Ntest]['AlgoReturn'].std()"
      ]
    },
    {
      "cell_type": "code",
      "execution_count": 178,
      "metadata": {},
      "outputs": [
        {
          "data": {
            "text/plain": [
              "(0.010027113756346209, 0.0010935037489137236)"
            ]
          },
          "execution_count": 178,
          "metadata": {},
          "output_type": "execute_result"
        }
      ],
      "source": [
        "#std and SR algo test\n",
        "df_returns.iloc[-Ntest:-1]['AlgoReturn'].std(), df_returns.iloc[-Ntest:-1]['AlgoReturn'].mean()/df_returns.iloc[-Ntest:-1]['AlgoReturn'].std()"
      ]
    },
    {
      "cell_type": "code",
      "execution_count": 179,
      "metadata": {},
      "outputs": [
        {
          "data": {
            "text/plain": [
              "(0.5379615655916967, 0.5887497979275108)"
            ]
          },
          "execution_count": 179,
          "metadata": {},
          "output_type": "execute_result"
        }
      ],
      "source": [
        "# MSE\n",
        "mean_squared_error(Ytrain, Ptrain), mean_squared_error(Ytest, Ptest)"
      ]
    },
    {
      "cell_type": "code",
      "execution_count": 180,
      "metadata": {},
      "outputs": [
        {
          "data": {
            "text/plain": [
              "(0.7334586325019952, 0.7673003309835796)"
            ]
          },
          "execution_count": 180,
          "metadata": {},
          "output_type": "execute_result"
        }
      ],
      "source": [
        "# RMSE\n",
        "mean_squared_error(Ytrain, Ptrain, squared=False), mean_squared_error(Ytest, Ptest, squared=False)"
      ]
    },
    {
      "cell_type": "code",
      "execution_count": 181,
      "metadata": {},
      "outputs": [
        {
          "data": {
            "text/plain": [
              "(0.5432621570637535, 0.5920347819388714)"
            ]
          },
          "execution_count": 181,
          "metadata": {},
          "output_type": "execute_result"
        }
      ],
      "source": [
        "# MAE\n",
        "mean_absolute_error(Ytrain, Ptrain), mean_absolute_error(Ytest, Ptest) "
      ]
    },
    {
      "cell_type": "code",
      "execution_count": 182,
      "metadata": {},
      "outputs": [
        {
          "data": {
            "text/plain": [
              "(-9283.802702789455, -3218.4351208728626)"
            ]
          },
          "execution_count": 182,
          "metadata": {},
          "output_type": "execute_result"
        }
      ],
      "source": [
        "# R^2\n",
        "r2_score(Ytrain, Ptrain), r2_score(Ytest, Ptest)"
      ]
    },
    {
      "cell_type": "code",
      "execution_count": 183,
      "metadata": {},
      "outputs": [
        {
          "data": {
            "text/plain": [
              "(382.70719004917527, 13524323205711.727)"
            ]
          },
          "execution_count": 183,
          "metadata": {},
          "output_type": "execute_result"
        }
      ],
      "source": [
        "# MAPE\n",
        "mean_absolute_percentage_error(Ytrain, Ptrain), mean_absolute_percentage_error(Ytest, Ptest)"
      ]
    },
    {
      "cell_type": "code",
      "execution_count": 184,
      "metadata": {},
      "outputs": [
        {
          "data": {
            "text/plain": [
              "1.988278467528496"
            ]
          },
          "execution_count": 184,
          "metadata": {},
          "output_type": "execute_result"
        }
      ],
      "source": [
        "#sMAPE train\n",
        "def smape(Ytrain, Ptrain):\n",
        "    numerator = np.abs(Ytrain - Ptrain)\n",
        "    denominator = (np.abs(Ytrain) + np.abs(Ptrain)) / 2\n",
        "    ratio = numerator / denominator\n",
        "    return ratio.mean()\n",
        "\n",
        "smape(Ytrain, Ptrain)"
      ]
    },
    {
      "cell_type": "code",
      "execution_count": 185,
      "metadata": {},
      "outputs": [
        {
          "data": {
            "text/plain": [
              "1.9901346802846238"
            ]
          },
          "execution_count": 185,
          "metadata": {},
          "output_type": "execute_result"
        }
      ],
      "source": [
        "#sMAPE test\n",
        "def smape(Ytest, Ptest):\n",
        "    numerator = np.abs(Ytest - Ptest)\n",
        "    denominator = (np.abs(Ytest) + np.abs(Ptest)) / 2\n",
        "    ratio = numerator / denominator\n",
        "    return ratio.mean()\n",
        "\n",
        "smape(Ytest, Ptest)"
      ]
    },
    {
      "cell_type": "code",
      "execution_count": 186,
      "metadata": {},
      "outputs": [
        {
          "data": {
            "text/plain": [
              "1421"
            ]
          },
          "execution_count": 186,
          "metadata": {},
          "output_type": "execute_result"
        }
      ],
      "source": [
        "df_returns['Position'].to_csv('LGBMCBool.csv', index = True)\n",
        "sum(df_returns['Position'])"
      ]
    },
    {
      "cell_type": "markdown",
      "metadata": {},
      "source": [
        "## KNN"
      ]
    },
    {
      "cell_type": "code",
      "execution_count": 187,
      "metadata": {},
      "outputs": [
        {
          "data": {
            "text/plain": [
              "(0.664490861618799, 0.5205205205205206)"
            ]
          },
          "execution_count": 187,
          "metadata": {},
          "output_type": "execute_result"
        }
      ],
      "source": [
        "from sklearn.neighbors import KNeighborsClassifier\n",
        "model = KNeighborsClassifier()\n",
        "Ctrain = (Ytrain > 0)\n",
        "Ctest = (Ytest > 0)\n",
        "model.fit(Xtrain, Ctrain)\n",
        "model.score(Xtrain, Ctrain), model.score(Xtest, Ctest)"
      ]
    },
    {
      "cell_type": "code",
      "execution_count": 188,
      "metadata": {},
      "outputs": [
        {
          "data": {
            "text/plain": [
              "({False, True}, {False, True})"
            ]
          },
          "execution_count": 188,
          "metadata": {},
          "output_type": "execute_result"
        }
      ],
      "source": [
        "Ptrain = model.predict(Xtrain)\n",
        "Ptest = model.predict(Xtest)\n",
        "df_returns.loc[train_idx,'Position'] = Ptrain\n",
        "df_returns.loc[test_idx,'Position'] = Ptest\n",
        "df_returns['AlgoReturn'] = df_returns['Position'] * df_returns['OEF']\n",
        "set(Ptrain), set(Ptest)"
      ]
    },
    {
      "cell_type": "code",
      "execution_count": 189,
      "metadata": {},
      "outputs": [
        {
          "data": {
            "text/plain": [
              "1.6883934722935372"
            ]
          },
          "execution_count": 189,
          "metadata": {},
          "output_type": "execute_result"
        }
      ],
      "source": [
        "# Total algo log return train\n",
        "df_returns.iloc[1:-Ntest]['AlgoReturn'].sum()"
      ]
    },
    {
      "cell_type": "code",
      "execution_count": 190,
      "metadata": {},
      "outputs": [
        {
          "data": {
            "text/plain": [
              "0.2906411778454503"
            ]
          },
          "execution_count": 190,
          "metadata": {},
          "output_type": "execute_result"
        }
      ],
      "source": [
        "# Total algo log return test\n",
        "df_returns.iloc[-Ntest:-1]['AlgoReturn'].sum()"
      ]
    },
    {
      "cell_type": "code",
      "execution_count": 191,
      "metadata": {},
      "outputs": [
        {
          "data": {
            "text/plain": [
              "(0.005299364440123782, 0.20796541253071638)"
            ]
          },
          "execution_count": 191,
          "metadata": {},
          "output_type": "execute_result"
        }
      ],
      "source": [
        "#std and SR algo train\n",
        "df_returns.iloc[1:-Ntest]['AlgoReturn'].std(), df_returns.iloc[1:-Ntest]['AlgoReturn'].mean()/df_returns.iloc[1:-Ntest]['AlgoReturn'].std()"
      ]
    },
    {
      "cell_type": "code",
      "execution_count": 192,
      "metadata": {},
      "outputs": [
        {
          "data": {
            "text/plain": [
              "(0.009219295235601036, 0.03155687094518336)"
            ]
          },
          "execution_count": 192,
          "metadata": {},
          "output_type": "execute_result"
        }
      ],
      "source": [
        "#std and SR algo test\n",
        "df_returns.iloc[-Ntest:-1]['AlgoReturn'].std(), df_returns.iloc[-Ntest:-1]['AlgoReturn'].mean()/df_returns.iloc[-Ntest:-1]['AlgoReturn'].std()"
      ]
    },
    {
      "cell_type": "code",
      "execution_count": 193,
      "metadata": {},
      "outputs": [
        {
          "data": {
            "text/plain": [
              "(0.5611699202147731, 0.5491508240415275)"
            ]
          },
          "execution_count": 193,
          "metadata": {},
          "output_type": "execute_result"
        }
      ],
      "source": [
        "# MSE\n",
        "mean_squared_error(Ytrain, Ptrain), mean_squared_error(Ytest, Ptest)"
      ]
    },
    {
      "cell_type": "code",
      "execution_count": 194,
      "metadata": {},
      "outputs": [
        {
          "data": {
            "text/plain": [
              "(0.7491127553411255, 0.7410471132401283)"
            ]
          },
          "execution_count": 194,
          "metadata": {},
          "output_type": "execute_result"
        }
      ],
      "source": [
        "# RMSE\n",
        "mean_squared_error(Ytrain, Ptrain, squared=False), mean_squared_error(Ytest, Ptest, squared=False)"
      ]
    },
    {
      "cell_type": "code",
      "execution_count": 195,
      "metadata": {},
      "outputs": [
        {
          "data": {
            "text/plain": [
              "(0.5646603660144639, 0.5531418051076117)"
            ]
          },
          "execution_count": 195,
          "metadata": {},
          "output_type": "execute_result"
        }
      ],
      "source": [
        "# MAE\n",
        "mean_absolute_error(Ytrain, Ptrain), mean_absolute_error(Ytest, Ptest) "
      ]
    },
    {
      "cell_type": "code",
      "execution_count": 196,
      "metadata": {},
      "outputs": [
        {
          "data": {
            "text/plain": [
              "(-9684.361046571183, -3001.8977603033422)"
            ]
          },
          "execution_count": 196,
          "metadata": {},
          "output_type": "execute_result"
        }
      ],
      "source": [
        "# R^2\n",
        "r2_score(Ytrain, Ptrain), r2_score(Ytest, Ptest)"
      ]
    },
    {
      "cell_type": "code",
      "execution_count": 197,
      "metadata": {},
      "outputs": [
        {
          "data": {
            "text/plain": [
              "(20577805086312.715, 22540538675866.914)"
            ]
          },
          "execution_count": 197,
          "metadata": {},
          "output_type": "execute_result"
        }
      ],
      "source": [
        "# MAPE\n",
        "mean_absolute_percentage_error(Ytrain, Ptrain), mean_absolute_percentage_error(Ytest, Ptest)"
      ]
    },
    {
      "cell_type": "code",
      "execution_count": 198,
      "metadata": {},
      "outputs": [
        {
          "data": {
            "text/plain": [
              "1.991935490279464"
            ]
          },
          "execution_count": 198,
          "metadata": {},
          "output_type": "execute_result"
        }
      ],
      "source": [
        "#sMAPE train\n",
        "def smape(Ytrain, Ptrain):\n",
        "    numerator = np.abs(Ytrain - Ptrain)\n",
        "    denominator = (np.abs(Ytrain) + np.abs(Ptrain)) / 2\n",
        "    ratio = numerator / denominator\n",
        "    return ratio.mean()\n",
        "\n",
        "smape(Ytrain, Ptrain)"
      ]
    },
    {
      "cell_type": "code",
      "execution_count": 199,
      "metadata": {},
      "outputs": [
        {
          "data": {
            "text/plain": [
              "1.990449609272952"
            ]
          },
          "execution_count": 199,
          "metadata": {},
          "output_type": "execute_result"
        }
      ],
      "source": [
        "#sMAPE test\n",
        "def smape(Ytest, Ptest):\n",
        "    numerator = np.abs(Ytest - Ptest)\n",
        "    denominator = (np.abs(Ytest) + np.abs(Ptest)) / 2\n",
        "    ratio = numerator / denominator\n",
        "    return ratio.mean()\n",
        "\n",
        "smape(Ytest, Ptest)"
      ]
    },
    {
      "cell_type": "code",
      "execution_count": 200,
      "metadata": {},
      "outputs": [
        {
          "data": {
            "text/plain": [
              "1412"
            ]
          },
          "execution_count": 200,
          "metadata": {},
          "output_type": "execute_result"
        }
      ],
      "source": [
        "df_returns['Position'].to_csv('KNNBool.csv', index = True)\n",
        "sum(df_returns['Position'])"
      ]
    },
    {
      "cell_type": "markdown",
      "metadata": {},
      "source": [
        "## Naive Bayes Gaussian Classifier"
      ]
    },
    {
      "cell_type": "code",
      "execution_count": 201,
      "metadata": {
        "colab": {
          "base_uri": "https://localhost:8080/"
        },
        "id": "i_XD8BdQNCrN",
        "outputId": "2d3444b3-536b-40fa-9871-9263c73e2f78"
      },
      "outputs": [
        {
          "data": {
            "text/plain": [
              "(0.5600522193211488, 0.5385385385385385)"
            ]
          },
          "execution_count": 201,
          "metadata": {},
          "output_type": "execute_result"
        }
      ],
      "source": [
        "from sklearn.naive_bayes import GaussianNB\n",
        "model = GaussianNB()\n",
        "Ctrain = (Ytrain > 0)\n",
        "Ctest = (Ytest > 0)\n",
        "model.fit(Xtrain, Ctrain)\n",
        "model.score(Xtrain, Ctrain), model.score(Xtest, Ctest)"
      ]
    },
    {
      "cell_type": "code",
      "execution_count": 202,
      "metadata": {
        "id": "0WwsmcBUPSPn"
      },
      "outputs": [
        {
          "data": {
            "text/plain": [
              "({False, True}, {False, True})"
            ]
          },
          "execution_count": 202,
          "metadata": {},
          "output_type": "execute_result"
        }
      ],
      "source": [
        "Ptrain = model.predict(Xtrain)\n",
        "Ptest = model.predict(Xtest)\n",
        "df_returns.loc[train_idx,'Position'] = Ptrain\n",
        "df_returns.loc[test_idx,'Position'] = Ptest\n",
        "df_returns['AlgoReturn'] = df_returns['Position'] * df_returns['OEF']\n",
        "set(Ptrain), set(Ptest)"
      ]
    },
    {
      "cell_type": "code",
      "execution_count": 203,
      "metadata": {
        "colab": {
          "base_uri": "https://localhost:8080/"
        },
        "id": "zcizGyM90l81",
        "outputId": "b54b66d6-aae1-4d7c-ce57-e4a99aafd55a"
      },
      "outputs": [
        {
          "data": {
            "text/plain": [
              "0.7570569666850071"
            ]
          },
          "execution_count": 203,
          "metadata": {},
          "output_type": "execute_result"
        }
      ],
      "source": [
        "# Total algo log return train\n",
        "df_returns.iloc[1:-Ntest]['AlgoReturn'].sum()"
      ]
    },
    {
      "cell_type": "code",
      "execution_count": 204,
      "metadata": {
        "colab": {
          "base_uri": "https://localhost:8080/"
        },
        "id": "VL0fqq4zP5_C",
        "outputId": "c9418bd5-0581-4403-d62d-92407cf24e43"
      },
      "outputs": [
        {
          "data": {
            "text/plain": [
              "0.7279172817414654"
            ]
          },
          "execution_count": 204,
          "metadata": {},
          "output_type": "execute_result"
        }
      ],
      "source": [
        "# Total algo log return test\n",
        "df_returns.iloc[-Ntest:-1]['AlgoReturn'].sum()"
      ]
    },
    {
      "cell_type": "code",
      "execution_count": 205,
      "metadata": {},
      "outputs": [
        {
          "data": {
            "text/plain": [
              "(0.006097252190686221, 0.08104675605280826)"
            ]
          },
          "execution_count": 205,
          "metadata": {},
          "output_type": "execute_result"
        }
      ],
      "source": [
        "#std and SR algo train\n",
        "df_returns.iloc[1:-Ntest]['AlgoReturn'].std(), df_returns.iloc[1:-Ntest]['AlgoReturn'].mean()/df_returns.iloc[1:-Ntest]['AlgoReturn'].std()"
      ]
    },
    {
      "cell_type": "code",
      "execution_count": 206,
      "metadata": {},
      "outputs": [
        {
          "data": {
            "text/plain": [
              "(0.010372186287960534, 0.07024998466474776)"
            ]
          },
          "execution_count": 206,
          "metadata": {},
          "output_type": "execute_result"
        }
      ],
      "source": [
        "#std and SR algo test\n",
        "df_returns.iloc[-Ntest:-1]['AlgoReturn'].std(), df_returns.iloc[-Ntest:-1]['AlgoReturn'].mean()/df_returns.iloc[-Ntest:-1]['AlgoReturn'].std()"
      ]
    },
    {
      "cell_type": "code",
      "execution_count": 207,
      "metadata": {},
      "outputs": [
        {
          "data": {
            "text/plain": [
              "(0.6263544326241837, 0.5943214424521461)"
            ]
          },
          "execution_count": 207,
          "metadata": {},
          "output_type": "execute_result"
        }
      ],
      "source": [
        "# MSE\n",
        "mean_squared_error(Ytrain, Ptrain), mean_squared_error(Ytest, Ptest)"
      ]
    },
    {
      "cell_type": "code",
      "execution_count": 208,
      "metadata": {},
      "outputs": [
        {
          "data": {
            "text/plain": [
              "(0.7914255698574464, 0.7709224620233517)"
            ]
          },
          "execution_count": 208,
          "metadata": {},
          "output_type": "execute_result"
        }
      ],
      "source": [
        "# RMSE\n",
        "mean_squared_error(Ytrain, Ptrain, squared=False), mean_squared_error(Ytest, Ptest, squared=False)"
      ]
    },
    {
      "cell_type": "code",
      "execution_count": 209,
      "metadata": {},
      "outputs": [
        {
          "data": {
            "text/plain": [
              "(0.6287038112501566, 0.5981634648752836)"
            ]
          },
          "execution_count": 209,
          "metadata": {},
          "output_type": "execute_result"
        }
      ],
      "source": [
        "# MAE\n",
        "mean_absolute_error(Ytrain, Ptrain), mean_absolute_error(Ytest, Ptest) "
      ]
    },
    {
      "cell_type": "code",
      "execution_count": 210,
      "metadata": {},
      "outputs": [
        {
          "data": {
            "text/plain": [
              "(-10809.395576376726, -3248.9023042617537)"
            ]
          },
          "execution_count": 210,
          "metadata": {},
          "output_type": "execute_result"
        }
      ],
      "source": [
        "# R^2\n",
        "r2_score(Ytrain, Ptrain), r2_score(Ytest, Ptest)"
      ]
    },
    {
      "cell_type": "code",
      "execution_count": 211,
      "metadata": {},
      "outputs": [
        {
          "data": {
            "text/plain": [
              "(14698432204645.775, 13524323205702.113)"
            ]
          },
          "execution_count": 211,
          "metadata": {},
          "output_type": "execute_result"
        }
      ],
      "source": [
        "# MAPE\n",
        "mean_absolute_percentage_error(Ytrain, Ptrain), mean_absolute_percentage_error(Ytest, Ptest)"
      ]
    },
    {
      "cell_type": "code",
      "execution_count": 212,
      "metadata": {},
      "outputs": [
        {
          "data": {
            "text/plain": [
              "1.9920764795265442"
            ]
          },
          "execution_count": 212,
          "metadata": {},
          "output_type": "execute_result"
        }
      ],
      "source": [
        "#sMAPE train\n",
        "def smape(Ytrain, Ptrain):\n",
        "    numerator = np.abs(Ytrain - Ptrain)\n",
        "    denominator = (np.abs(Ytrain) + np.abs(Ptrain)) / 2\n",
        "    ratio = numerator / denominator\n",
        "    return ratio.mean()\n",
        "\n",
        "smape(Ytrain, Ptrain)"
      ]
    },
    {
      "cell_type": "code",
      "execution_count": 213,
      "metadata": {},
      "outputs": [
        {
          "data": {
            "text/plain": [
              "1.9884630236225973"
            ]
          },
          "execution_count": 213,
          "metadata": {},
          "output_type": "execute_result"
        }
      ],
      "source": [
        "#sMAPE test\n",
        "def smape(Ytest, Ptest):\n",
        "    numerator = np.abs(Ytest - Ptest)\n",
        "    denominator = (np.abs(Ytest) + np.abs(Ptest)) / 2\n",
        "    ratio = numerator / denominator\n",
        "    return ratio.mean()\n",
        "\n",
        "smape(Ytest, Ptest)"
      ]
    },
    {
      "cell_type": "code",
      "execution_count": 214,
      "metadata": {},
      "outputs": [
        {
          "data": {
            "text/plain": [
              "1556"
            ]
          },
          "execution_count": 214,
          "metadata": {},
          "output_type": "execute_result"
        }
      ],
      "source": [
        "df_returns['Position'].to_csv('NBGCBool.csv', index = True)\n",
        "sum(df_returns['Position'])"
      ]
    }
  ],
  "metadata": {
    "colab": {
      "collapsed_sections": [],
      "name": "Regression-Based Strategy 0-1.ipynb",
      "provenance": []
    },
    "kernelspec": {
      "display_name": "Python 3",
      "name": "python3"
    },
    "language_info": {
      "codemirror_mode": {
        "name": "ipython",
        "version": 3
      },
      "file_extension": ".py",
      "mimetype": "text/x-python",
      "name": "python",
      "nbconvert_exporter": "python",
      "pygments_lexer": "ipython3",
      "version": "3.6.5"
    }
  },
  "nbformat": 4,
  "nbformat_minor": 0
}
