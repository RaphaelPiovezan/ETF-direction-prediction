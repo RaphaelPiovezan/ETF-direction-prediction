{
  "cells": [
    {
      "cell_type": "code",
      "execution_count": 1,
      "metadata": {
        "id": "Zh7Nh2hN1GIH"
      },
      "outputs": [],
      "source": [
        "import pandas as pd\n",
        "import numpy as np\n",
        "from sklearn.metrics import mean_absolute_percentage_error, \\\n",
        "  mean_absolute_error, r2_score, mean_squared_error, accuracy_score, precision_score, f1_score, roc_auc_score\n",
        "import matplotlib.pyplot as plt"
      ]
    },
    {
      "cell_type": "code",
      "execution_count": 2,
      "metadata": {
        "id": "-0pkDN1UFW5M"
      },
      "outputs": [],
      "source": [
        "df_returns = pd.DataFrame()"
      ]
    },
    {
      "cell_type": "code",
      "execution_count": 3,
      "metadata": {
        "id": "yBvUzJN1Fc8I"
      },
      "outputs": [],
      "source": [
        "df_returns = pd.read_csv('S&P-returns.csv', index_col=0, parse_dates=True)\n",
        "df = pd.read_csv('S&P100.csv', index_col=0, parse_dates=True)\n",
        "\n",
        "#for name in df.columns:\n",
        "#  df_returns[name] = np.log(df[name]).diff()"
      ]
    },
    {
      "cell_type": "code",
      "execution_count": 4,
      "metadata": {},
      "outputs": [
        {
          "data": {
            "text/plain": [
              "0"
            ]
          },
          "execution_count": 4,
          "metadata": {},
          "output_type": "execute_result"
        }
      ],
      "source": [
        "df.isna().sum().sum()"
      ]
    },
    {
      "cell_type": "code",
      "execution_count": 5,
      "metadata": {
        "colab": {
          "base_uri": "https://localhost:8080/",
          "height": 369
        },
        "id": "IbLSX5pYFpMr",
        "outputId": "ba722998-d423-403b-d6e1-875d1115ad75"
      },
      "outputs": [
        {
          "data": {
            "text/html": [
              "<div>\n",
              "<style scoped>\n",
              "    .dataframe tbody tr th:only-of-type {\n",
              "        vertical-align: middle;\n",
              "    }\n",
              "\n",
              "    .dataframe tbody tr th {\n",
              "        vertical-align: top;\n",
              "    }\n",
              "\n",
              "    .dataframe thead th {\n",
              "        text-align: right;\n",
              "    }\n",
              "</style>\n",
              "<table border=\"1\" class=\"dataframe\">\n",
              "  <thead>\n",
              "    <tr style=\"text-align: right;\">\n",
              "      <th></th>\n",
              "      <th>AAPL</th>\n",
              "      <th>MSFT</th>\n",
              "      <th>AMZN</th>\n",
              "      <th>GOOGL</th>\n",
              "      <th>GOOG</th>\n",
              "      <th>PG</th>\n",
              "      <th>TSLA</th>\n",
              "      <th>BAC</th>\n",
              "      <th>NVDA</th>\n",
              "      <th>JNJ</th>\n",
              "      <th>UNH</th>\n",
              "      <th>JPM</th>\n",
              "      <th>OEF</th>\n",
              "      <th>SPY</th>\n",
              "    </tr>\n",
              "    <tr>\n",
              "      <th>Date</th>\n",
              "      <th></th>\n",
              "      <th></th>\n",
              "      <th></th>\n",
              "      <th></th>\n",
              "      <th></th>\n",
              "      <th></th>\n",
              "      <th></th>\n",
              "      <th></th>\n",
              "      <th></th>\n",
              "      <th></th>\n",
              "      <th></th>\n",
              "      <th></th>\n",
              "      <th></th>\n",
              "      <th></th>\n",
              "    </tr>\n",
              "  </thead>\n",
              "  <tbody>\n",
              "    <tr>\n",
              "      <th>2012-01-03</th>\n",
              "      <td>NaN</td>\n",
              "      <td>NaN</td>\n",
              "      <td>NaN</td>\n",
              "      <td>NaN</td>\n",
              "      <td>NaN</td>\n",
              "      <td>NaN</td>\n",
              "      <td>NaN</td>\n",
              "      <td>NaN</td>\n",
              "      <td>NaN</td>\n",
              "      <td>NaN</td>\n",
              "      <td>NaN</td>\n",
              "      <td>NaN</td>\n",
              "      <td>NaN</td>\n",
              "      <td>NaN</td>\n",
              "    </tr>\n",
              "    <tr>\n",
              "      <th>2012-01-04</th>\n",
              "      <td>0.005360</td>\n",
              "      <td>0.023261</td>\n",
              "      <td>-0.008526</td>\n",
              "      <td>0.004304</td>\n",
              "      <td>0.004304</td>\n",
              "      <td>-0.000449</td>\n",
              "      <td>-0.013264</td>\n",
              "      <td>0.001723</td>\n",
              "      <td>0.011332</td>\n",
              "      <td>-0.006090</td>\n",
              "      <td>0.014461</td>\n",
              "      <td>-0.000858</td>\n",
              "      <td>0.001721</td>\n",
              "      <td>0.001567</td>\n",
              "    </tr>\n",
              "    <tr>\n",
              "      <th>2012-01-05</th>\n",
              "      <td>0.011041</td>\n",
              "      <td>0.010167</td>\n",
              "      <td>0.000563</td>\n",
              "      <td>-0.013969</td>\n",
              "      <td>-0.013969</td>\n",
              "      <td>-0.004201</td>\n",
              "      <td>-0.021522</td>\n",
              "      <td>0.082555</td>\n",
              "      <td>0.035286</td>\n",
              "      <td>-0.001223</td>\n",
              "      <td>0.006677</td>\n",
              "      <td>0.020672</td>\n",
              "      <td>0.002061</td>\n",
              "      <td>0.002659</td>\n",
              "    </tr>\n",
              "    <tr>\n",
              "      <th>2012-01-06</th>\n",
              "      <td>0.010400</td>\n",
              "      <td>0.015415</td>\n",
              "      <td>0.027763</td>\n",
              "      <td>-0.013736</td>\n",
              "      <td>-0.013736</td>\n",
              "      <td>-0.002408</td>\n",
              "      <td>-0.007773</td>\n",
              "      <td>-0.020817</td>\n",
              "      <td>-0.011624</td>\n",
              "      <td>-0.008754</td>\n",
              "      <td>0.003606</td>\n",
              "      <td>-0.009009</td>\n",
              "      <td>-0.002577</td>\n",
              "      <td>-0.002581</td>\n",
              "    </tr>\n",
              "    <tr>\n",
              "      <th>2012-01-09</th>\n",
              "      <td>-0.001587</td>\n",
              "      <td>-0.013250</td>\n",
              "      <td>-0.022428</td>\n",
              "      <td>-0.043324</td>\n",
              "      <td>-0.043324</td>\n",
              "      <td>0.004211</td>\n",
              "      <td>0.012556</td>\n",
              "      <td>0.014458</td>\n",
              "      <td>0.000000</td>\n",
              "      <td>0.001541</td>\n",
              "      <td>-0.001137</td>\n",
              "      <td>-0.001698</td>\n",
              "      <td>0.001891</td>\n",
              "      <td>0.002424</td>\n",
              "    </tr>\n",
              "  </tbody>\n",
              "</table>\n",
              "</div>"
            ],
            "text/plain": [
              "                AAPL      MSFT      AMZN     GOOGL      GOOG        PG  \\\n",
              "Date                                                                     \n",
              "2012-01-03       NaN       NaN       NaN       NaN       NaN       NaN   \n",
              "2012-01-04  0.005360  0.023261 -0.008526  0.004304  0.004304 -0.000449   \n",
              "2012-01-05  0.011041  0.010167  0.000563 -0.013969 -0.013969 -0.004201   \n",
              "2012-01-06  0.010400  0.015415  0.027763 -0.013736 -0.013736 -0.002408   \n",
              "2012-01-09 -0.001587 -0.013250 -0.022428 -0.043324 -0.043324  0.004211   \n",
              "\n",
              "                TSLA       BAC      NVDA       JNJ       UNH       JPM  \\\n",
              "Date                                                                     \n",
              "2012-01-03       NaN       NaN       NaN       NaN       NaN       NaN   \n",
              "2012-01-04 -0.013264  0.001723  0.011332 -0.006090  0.014461 -0.000858   \n",
              "2012-01-05 -0.021522  0.082555  0.035286 -0.001223  0.006677  0.020672   \n",
              "2012-01-06 -0.007773 -0.020817 -0.011624 -0.008754  0.003606 -0.009009   \n",
              "2012-01-09  0.012556  0.014458  0.000000  0.001541 -0.001137 -0.001698   \n",
              "\n",
              "                 OEF       SPY  \n",
              "Date                            \n",
              "2012-01-03       NaN       NaN  \n",
              "2012-01-04  0.001721  0.001567  \n",
              "2012-01-05  0.002061  0.002659  \n",
              "2012-01-06 -0.002577 -0.002581  \n",
              "2012-01-09  0.001891  0.002424  "
            ]
          },
          "execution_count": 5,
          "metadata": {},
          "output_type": "execute_result"
        }
      ],
      "source": [
        "df_returns.head()"
      ]
    },
    {
      "cell_type": "code",
      "execution_count": 6,
      "metadata": {
        "colab": {
          "base_uri": "https://localhost:8080/"
        },
        "id": "L3CLcqhl9p_a",
        "outputId": "cdef34f1-c974-48ef-9a90-3ad4a3e7dc37"
      },
      "outputs": [
        {
          "data": {
            "text/plain": [
              "Date\n",
              "2022-01-19   -0.011130\n",
              "2022-01-20   -0.019826\n",
              "2022-01-21    0.004238\n",
              "2022-01-24   -0.012284\n",
              "2022-01-25         NaN\n",
              "Name: SPY, dtype: float64"
            ]
          },
          "execution_count": 6,
          "metadata": {},
          "output_type": "execute_result"
        }
      ],
      "source": [
        "df_returns['SPY'] = df_returns['SPY'].shift(-1)\n",
        "df_returns['SPY'].tail()"
      ]
    },
    {
      "cell_type": "code",
      "execution_count": 7,
      "metadata": {
        "id": "F5m1g8Z8376j"
      },
      "outputs": [],
      "source": [
        "Ntest = 1000\n",
        "train = df_returns.iloc[1:-Ntest]\n",
        "test = df_returns.iloc[-Ntest:-1]"
      ]
    },
    {
      "cell_type": "code",
      "execution_count": 8,
      "metadata": {
        "colab": {
          "base_uri": "https://localhost:8080/"
        },
        "id": "lChhe3784RHB",
        "outputId": "f017133e-edbe-4763-85a8-88b42a7d0653"
      },
      "outputs": [
        {
          "data": {
            "text/plain": [
              "Index(['AAPL', 'MSFT', 'AMZN', 'GOOGL', 'GOOG', 'PG', 'TSLA', 'BAC', 'NVDA',\n",
              "       'JNJ', 'UNH', 'JPM', 'OEF', 'SPY'],\n",
              "      dtype='object')"
            ]
          },
          "execution_count": 8,
          "metadata": {},
          "output_type": "execute_result"
        }
      ],
      "source": [
        "df_returns.columns"
      ]
    },
    {
      "cell_type": "code",
      "execution_count": 9,
      "metadata": {
        "colab": {
          "base_uri": "https://localhost:8080/"
        },
        "id": "UZIgiaux4HiJ",
        "outputId": "f21ab50e-b5ad-411c-f1e6-7b92ae5b42dc"
      },
      "outputs": [
        {
          "data": {
            "text/plain": [
              "['AAPL',\n",
              " 'MSFT',\n",
              " 'AMZN',\n",
              " 'GOOGL',\n",
              " 'GOOG',\n",
              " 'PG',\n",
              " 'TSLA',\n",
              " 'BAC',\n",
              " 'NVDA',\n",
              " 'JNJ',\n",
              " 'UNH',\n",
              " 'JPM']"
            ]
          },
          "execution_count": 9,
          "metadata": {},
          "output_type": "execute_result"
        }
      ],
      "source": [
        "# x_cols = df.columns.drop('SPY')\n",
        "x_cols = ['AAPL', 'MSFT', 'AMZN', 'GOOGL', \n",
        "         'GOOG', 'PG', 'TSLA', 'BAC', \n",
        "         'NVDA', 'JNJ', 'UNH', 'JPM']\n",
        "x_cols"
      ]
    },
    {
      "cell_type": "code",
      "execution_count": 23,
      "metadata": {},
      "outputs": [
        {
          "data": {
            "image/png": "[encoded data removed]",
            "text/plain": [
              "<Figure size 1440x720 with 1 Axes>"
            ]
          },
          "metadata": {
            "needs_background": "light"
          },
          "output_type": "display_data"
        }
      ],
      "source": [
        "df[['AAPL', 'MSFT', 'AMZN', 'GOOGL', \n",
        "         'GOOG', 'PG', 'TSLA', 'BAC', \n",
        "         'NVDA', 'JNJ', 'UNH', 'JPM', 'SPY']].plot( figsize=(20,10));\n",
        "plt.xlabel(\"Data\", fontsize=22)\n",
        "plt.ylabel(\"Preço em USD\", fontsize=22)\n",
        "plt.yticks(size=18)\n",
        "plt.xticks(size=18)\n",
        "plt.savefig('US-STOCKS.PDF', format='PDF')\n",
        "\n",
        "\n",
        "#plt.plot(df)"
      ]
    },
    {
      "cell_type": "code",
      "execution_count": 11,
      "metadata": {
        "id": "1aZC9Hvd4CsD"
      },
      "outputs": [],
      "source": [
        "Xtrain = train[x_cols]\n",
        "Ytrain = train['SPY']\n",
        "Xtest = test[x_cols]\n",
        "Ytest = test['SPY']"
      ]
    },
    {
      "cell_type": "code",
      "execution_count": 12,
      "metadata": {},
      "outputs": [
        {
          "data": {
            "text/plain": [
              "Date\n",
              "2018-02-06   -0.005440\n",
              "2018-02-07   -0.038230\n",
              "2018-02-08    0.014910\n",
              "2018-02-09    0.014578\n",
              "2018-02-12    0.002484\n",
              "Name: SPY, dtype: float64"
            ]
          },
          "execution_count": 12,
          "metadata": {},
          "output_type": "execute_result"
        }
      ],
      "source": [
        "Ytest.head()"
      ]
    },
    {
      "cell_type": "code",
      "execution_count": 13,
      "metadata": {
        "colab": {
          "base_uri": "https://localhost:8080/",
          "height": 235
        },
        "id": "dRgg9f4Q78lk",
        "outputId": "e30d9c70-afcb-41fc-f878-b4bc4734adf8"
      },
      "outputs": [
        {
          "data": {
            "text/html": [
              "<div>\n",
              "<style scoped>\n",
              "    .dataframe tbody tr th:only-of-type {\n",
              "        vertical-align: middle;\n",
              "    }\n",
              "\n",
              "    .dataframe tbody tr th {\n",
              "        vertical-align: top;\n",
              "    }\n",
              "\n",
              "    .dataframe thead th {\n",
              "        text-align: right;\n",
              "    }\n",
              "</style>\n",
              "<table border=\"1\" class=\"dataframe\">\n",
              "  <thead>\n",
              "    <tr style=\"text-align: right;\">\n",
              "      <th></th>\n",
              "      <th>AAPL</th>\n",
              "      <th>MSFT</th>\n",
              "      <th>AMZN</th>\n",
              "      <th>GOOGL</th>\n",
              "      <th>GOOG</th>\n",
              "      <th>PG</th>\n",
              "      <th>TSLA</th>\n",
              "      <th>BAC</th>\n",
              "      <th>NVDA</th>\n",
              "      <th>JNJ</th>\n",
              "      <th>UNH</th>\n",
              "      <th>JPM</th>\n",
              "    </tr>\n",
              "    <tr>\n",
              "      <th>Date</th>\n",
              "      <th></th>\n",
              "      <th></th>\n",
              "      <th></th>\n",
              "      <th></th>\n",
              "      <th></th>\n",
              "      <th></th>\n",
              "      <th></th>\n",
              "      <th></th>\n",
              "      <th></th>\n",
              "      <th></th>\n",
              "      <th></th>\n",
              "      <th></th>\n",
              "    </tr>\n",
              "  </thead>\n",
              "  <tbody>\n",
              "    <tr>\n",
              "      <th>2012-01-04</th>\n",
              "      <td>0.005360</td>\n",
              "      <td>0.023261</td>\n",
              "      <td>-0.008526</td>\n",
              "      <td>0.004304</td>\n",
              "      <td>0.004304</td>\n",
              "      <td>-0.000449</td>\n",
              "      <td>-0.013264</td>\n",
              "      <td>0.001723</td>\n",
              "      <td>0.011332</td>\n",
              "      <td>-0.006090</td>\n",
              "      <td>0.014461</td>\n",
              "      <td>-0.000858</td>\n",
              "    </tr>\n",
              "    <tr>\n",
              "      <th>2012-01-05</th>\n",
              "      <td>0.011041</td>\n",
              "      <td>0.010167</td>\n",
              "      <td>0.000563</td>\n",
              "      <td>-0.013969</td>\n",
              "      <td>-0.013969</td>\n",
              "      <td>-0.004201</td>\n",
              "      <td>-0.021522</td>\n",
              "      <td>0.082555</td>\n",
              "      <td>0.035286</td>\n",
              "      <td>-0.001223</td>\n",
              "      <td>0.006677</td>\n",
              "      <td>0.020672</td>\n",
              "    </tr>\n",
              "    <tr>\n",
              "      <th>2012-01-06</th>\n",
              "      <td>0.010400</td>\n",
              "      <td>0.015415</td>\n",
              "      <td>0.027763</td>\n",
              "      <td>-0.013736</td>\n",
              "      <td>-0.013736</td>\n",
              "      <td>-0.002408</td>\n",
              "      <td>-0.007773</td>\n",
              "      <td>-0.020817</td>\n",
              "      <td>-0.011624</td>\n",
              "      <td>-0.008754</td>\n",
              "      <td>0.003606</td>\n",
              "      <td>-0.009009</td>\n",
              "    </tr>\n",
              "    <tr>\n",
              "      <th>2012-01-09</th>\n",
              "      <td>-0.001587</td>\n",
              "      <td>-0.013250</td>\n",
              "      <td>-0.022428</td>\n",
              "      <td>-0.043324</td>\n",
              "      <td>-0.043324</td>\n",
              "      <td>0.004211</td>\n",
              "      <td>0.012556</td>\n",
              "      <td>0.014458</td>\n",
              "      <td>0.000000</td>\n",
              "      <td>0.001541</td>\n",
              "      <td>-0.001137</td>\n",
              "      <td>-0.001698</td>\n",
              "    </tr>\n",
              "    <tr>\n",
              "      <th>2012-01-10</th>\n",
              "      <td>0.003574</td>\n",
              "      <td>0.003598</td>\n",
              "      <td>0.004359</td>\n",
              "      <td>0.001092</td>\n",
              "      <td>0.001092</td>\n",
              "      <td>-0.004663</td>\n",
              "      <td>0.013487</td>\n",
              "      <td>0.055828</td>\n",
              "      <td>-0.004135</td>\n",
              "      <td>0.004150</td>\n",
              "      <td>-0.001899</td>\n",
              "      <td>0.021024</td>\n",
              "    </tr>\n",
              "  </tbody>\n",
              "</table>\n",
              "</div>"
            ],
            "text/plain": [
              "                AAPL      MSFT      AMZN     GOOGL      GOOG        PG  \\\n",
              "Date                                                                     \n",
              "2012-01-04  0.005360  0.023261 -0.008526  0.004304  0.004304 -0.000449   \n",
              "2012-01-05  0.011041  0.010167  0.000563 -0.013969 -0.013969 -0.004201   \n",
              "2012-01-06  0.010400  0.015415  0.027763 -0.013736 -0.013736 -0.002408   \n",
              "2012-01-09 -0.001587 -0.013250 -0.022428 -0.043324 -0.043324  0.004211   \n",
              "2012-01-10  0.003574  0.003598  0.004359  0.001092  0.001092 -0.004663   \n",
              "\n",
              "                TSLA       BAC      NVDA       JNJ       UNH       JPM  \n",
              "Date                                                                    \n",
              "2012-01-04 -0.013264  0.001723  0.011332 -0.006090  0.014461 -0.000858  \n",
              "2012-01-05 -0.021522  0.082555  0.035286 -0.001223  0.006677  0.020672  \n",
              "2012-01-06 -0.007773 -0.020817 -0.011624 -0.008754  0.003606 -0.009009  \n",
              "2012-01-09  0.012556  0.014458  0.000000  0.001541 -0.001137 -0.001698  \n",
              "2012-01-10  0.013487  0.055828 -0.004135  0.004150 -0.001899  0.021024  "
            ]
          },
          "execution_count": 13,
          "metadata": {},
          "output_type": "execute_result"
        }
      ],
      "source": [
        "Xtrain.head()"
      ]
    },
    {
      "cell_type": "markdown",
      "metadata": {},
      "source": [
        "## Buy & Hold"
      ]
    },
    {
      "cell_type": "code",
      "execution_count": 14,
      "metadata": {},
      "outputs": [
        {
          "data": {
            "text/plain": [
              "(0.007692028195000439, 0.01323862118085596)"
            ]
          },
          "execution_count": 14,
          "metadata": {},
          "output_type": "execute_result"
        }
      ],
      "source": [
        "#std buy-and-hold train and test\n",
        "Ytrain.std(), Ytest.std()"
      ]
    },
    {
      "cell_type": "code",
      "execution_count": 15,
      "metadata": {},
      "outputs": [
        {
          "data": {
            "text/plain": [
              "(0.06326366009989662, 0.03621311865338717)"
            ]
          },
          "execution_count": 15,
          "metadata": {},
          "output_type": "execute_result"
        }
      ],
      "source": [
        "#SR buy-and-hold train and test\n",
        "Ytrain.mean()/Ytrain.std(), Ytest.mean()/Ytest.std()"
      ]
    },
    {
      "cell_type": "code",
      "execution_count": 16,
      "metadata": {},
      "outputs": [
        {
          "data": {
            "text/plain": [
              "(0.7455108132416282, 0.47893234786995187)"
            ]
          },
          "execution_count": 16,
          "metadata": {},
          "output_type": "execute_result"
        }
      ],
      "source": [
        "# Total return buy-and-hold train and test\n",
        "Ytrain.sum(), Ytest.sum()"
      ]
    },
    {
      "cell_type": "markdown",
      "metadata": {},
      "source": [
        "## Linear Regressor"
      ]
    },
    {
      "cell_type": "code",
      "execution_count": 17,
      "metadata": {
        "colab": {
          "base_uri": "https://localhost:8080/"
        },
        "id": "JKV62WkI4hM2",
        "outputId": "6a6bf207-39d4-4568-8c3a-34b1a8a1eed4"
      },
      "outputs": [
        {
          "data": {
            "text/plain": [
              "(0.006267084783852628, 0.009760076879109514)"
            ]
          },
          "execution_count": 17,
          "metadata": {},
          "output_type": "execute_result"
        }
      ],
      "source": [
        "from sklearn.linear_model import LinearRegression\n",
        "model = LinearRegression()\n",
        "model.fit(Xtrain, Ytrain)\n",
        "model.score(Xtrain, Ytrain), model.score(Xtest, Ytest)"
      ]
    },
    {
      "cell_type": "code",
      "execution_count": 18,
      "metadata": {
        "colab": {
          "base_uri": "https://localhost:8080/"
        },
        "id": "dT724GIU828f",
        "outputId": "9ca29365-38bc-4d95-8715-f311eac43ca0"
      },
      "outputs": [
        {
          "data": {
            "text/plain": [
              "(0.5528720626631853, 0.5485485485485485)"
            ]
          },
          "execution_count": 18,
          "metadata": {},
          "output_type": "execute_result"
        }
      ],
      "source": [
        "# Direction\n",
        "Ptrain = model.predict(Xtrain)\n",
        "Ptest = model.predict(Xtest)\n",
        "np.mean(np.sign(Ptrain) == np.sign(Ytrain)), np.mean(np.sign(Ptest) == np.sign(Ytest))"
      ]
    },
    {
      "cell_type": "code",
      "execution_count": 19,
      "metadata": {
        "colab": {
          "base_uri": "https://localhost:8080/"
        },
        "id": "s_yi4ErBuSyt",
        "outputId": "3b5b5738-fea0-4c44-b621-5f4aa881f9e4"
      },
      "outputs": [
        {
          "data": {
            "text/plain": [
              "({-1.0, 1.0}, {-1.0, 1.0})"
            ]
          },
          "execution_count": 19,
          "metadata": {},
          "output_type": "execute_result"
        }
      ],
      "source": [
        "set(np.sign(Ptrain)), set(np.sign(Ptest))"
      ]
    },
    {
      "cell_type": "code",
      "execution_count": 20,
      "metadata": {
        "id": "jbtqTtPBBmBU"
      },
      "outputs": [],
      "source": [
        "train_idx = df.index <= train.index[-1]\n",
        "test_idx = df.index > train.index[-1]\n",
        "\n",
        "train_idx[0] = False\n",
        "test_idx[-1] = False"
      ]
    },
    {
      "cell_type": "code",
      "execution_count": 21,
      "metadata": {
        "id": "R8O8ATPO9UHn"
      },
      "outputs": [],
      "source": [
        "df_returns['Position'] = 0 # create new column\n",
        "df_returns.loc[train_idx,'Position'] = (Ptrain > 0)\n",
        "df_returns.loc[test_idx,'Position'] = (Ptest > 0)"
      ]
    },
    {
      "cell_type": "code",
      "execution_count": 22,
      "metadata": {
        "id": "QhG-T22SK0R4"
      },
      "outputs": [],
      "source": [
        "df_returns['AlgoReturn'] = df_returns['Position'] * df_returns['SPY']"
      ]
    },
    {
      "cell_type": "code",
      "execution_count": 23,
      "metadata": {
        "colab": {
          "base_uri": "https://localhost:8080/"
        },
        "id": "ps6iv9TN0PlS",
        "outputId": "a1a07caf-098a-4d21-825d-e0c805d10a00"
      },
      "outputs": [
        {
          "data": {
            "text/plain": [
              "0.9840930446548901"
            ]
          },
          "execution_count": 23,
          "metadata": {},
          "output_type": "execute_result"
        }
      ],
      "source": [
        "# Total algo log return train\n",
        "df_returns.iloc[1:-Ntest]['AlgoReturn'].sum()"
      ]
    },
    {
      "cell_type": "code",
      "execution_count": 24,
      "metadata": {
        "colab": {
          "base_uri": "https://localhost:8080/"
        },
        "id": "QDgFMKbHK-Dt",
        "outputId": "05201248-ba3e-4365-a90a-8ba326b860a3"
      },
      "outputs": [
        {
          "data": {
            "text/plain": [
              "0.7590193192588224"
            ]
          },
          "execution_count": 24,
          "metadata": {},
          "output_type": "execute_result"
        }
      ],
      "source": [
        "# Total algo log return test\n",
        "df_returns.iloc[-Ntest:-1]['AlgoReturn'].sum()"
      ]
    },
    {
      "cell_type": "code",
      "execution_count": 25,
      "metadata": {},
      "outputs": [
        {
          "data": {
            "text/plain": [
              "(0.7909546580724807, 0.5661764582256384)"
            ]
          },
          "execution_count": 25,
          "metadata": {},
          "output_type": "execute_result"
        }
      ],
      "source": [
        "\n",
        "simple1= (np.exp(Ytrain))-1\n",
        "simple2= (np.exp(Ytest))-1\n",
        "simple1.sum(), simple2.sum()"
      ]
    },
    {
      "cell_type": "code",
      "execution_count": 26,
      "metadata": {},
      "outputs": [
        {
          "data": {
            "text/plain": [
              "(0.006926181705238696, 0.09274350740085686)"
            ]
          },
          "execution_count": 26,
          "metadata": {},
          "output_type": "execute_result"
        }
      ],
      "source": [
        "#std and SR algo train\n",
        "df_returns.iloc[1:-Ntest]['AlgoReturn'].std(), df_returns.iloc[1:-Ntest]['AlgoReturn'].mean()/df_returns.iloc[1:-Ntest]['AlgoReturn'].std()"
      ]
    },
    {
      "cell_type": "code",
      "execution_count": 27,
      "metadata": {},
      "outputs": [
        {
          "data": {
            "text/plain": [
              "(0.01067217355340008, 0.07119253585555861)"
            ]
          },
          "execution_count": 27,
          "metadata": {},
          "output_type": "execute_result"
        }
      ],
      "source": [
        "#std and SR algo test\n",
        "df_returns.iloc[-Ntest:-1]['AlgoReturn'].std(), df_returns.iloc[-Ntest:-1]['AlgoReturn'].mean()/df_returns.iloc[-Ntest:-1]['AlgoReturn'].std()"
      ]
    },
    {
      "cell_type": "code",
      "execution_count": 28,
      "metadata": {},
      "outputs": [
        {
          "data": {
            "text/plain": [
              "(5.875811237047622e-05, 0.0001733768047970702)"
            ]
          },
          "execution_count": 28,
          "metadata": {},
          "output_type": "execute_result"
        }
      ],
      "source": [
        "# MSE\n",
        "mean_squared_error(Ytrain, Ptrain), mean_squared_error(Ytest, Ptest)"
      ]
    },
    {
      "cell_type": "code",
      "execution_count": 29,
      "metadata": {},
      "outputs": [
        {
          "data": {
            "text/plain": [
              "(0.007665384032811156, 0.013167262615937687)"
            ]
          },
          "execution_count": 29,
          "metadata": {},
          "output_type": "execute_result"
        }
      ],
      "source": [
        "# RMSE\n",
        "mean_squared_error(Ytrain, Ptrain, squared=False), mean_squared_error(Ytest, Ptest, squared=False)"
      ]
    },
    {
      "cell_type": "code",
      "execution_count": 30,
      "metadata": {},
      "outputs": [
        {
          "data": {
            "text/plain": [
              "(0.005450251799644015, 0.008204863853401315)"
            ]
          },
          "execution_count": 30,
          "metadata": {},
          "output_type": "execute_result"
        }
      ],
      "source": [
        "# MAE\n",
        "mean_absolute_error(Ytrain, Ptrain), mean_absolute_error(Ytest, Ptest) "
      ]
    },
    {
      "cell_type": "code",
      "execution_count": 31,
      "metadata": {},
      "outputs": [
        {
          "data": {
            "text/plain": [
              "(0.006267084783852628, 0.009760076879109514)"
            ]
          },
          "execution_count": 31,
          "metadata": {},
          "output_type": "execute_result"
        }
      ],
      "source": [
        "# R^2\n",
        "r2_score(Ytrain, Ptrain), r2_score(Ytest, Ptest)"
      ]
    },
    {
      "cell_type": "code",
      "execution_count": 32,
      "metadata": {},
      "outputs": [
        {
          "data": {
            "text/plain": [
              "(8595542702.889093, 5529372638.32821)"
            ]
          },
          "execution_count": 32,
          "metadata": {},
          "output_type": "execute_result"
        }
      ],
      "source": [
        "# MAPE\n",
        "mean_absolute_percentage_error(Ytrain, Ptrain), mean_absolute_percentage_error(Ytest, Ptest)"
      ]
    },
    {
      "cell_type": "code",
      "execution_count": 33,
      "metadata": {},
      "outputs": [
        {
          "data": {
            "text/plain": [
              "1.6629769572344901"
            ]
          },
          "execution_count": 33,
          "metadata": {},
          "output_type": "execute_result"
        }
      ],
      "source": [
        "#sMAPE train\n",
        "def smape(Ytrain, Ptrain):\n",
        "    numerator = np.abs(Ytrain - Ptrain)\n",
        "    denominator = (np.abs(Ytrain) + np.abs(Ptrain)) / 2\n",
        "    ratio = numerator / denominator\n",
        "    return ratio.mean()\n",
        "\n",
        "smape(Ytrain, Ptrain)"
      ]
    },
    {
      "cell_type": "code",
      "execution_count": 34,
      "metadata": {},
      "outputs": [
        {
          "data": {
            "text/plain": [
              "1.7103788457736973"
            ]
          },
          "execution_count": 34,
          "metadata": {},
          "output_type": "execute_result"
        }
      ],
      "source": [
        "#sMAPE test\n",
        "def smape(Ytest, Ptest):\n",
        "    numerator = np.abs(Ytest - Ptest)\n",
        "    denominator = (np.abs(Ytest) + np.abs(Ptest)) / 2\n",
        "    ratio = numerator / denominator\n",
        "    return ratio.mean()\n",
        "\n",
        "smape(Ytest, Ptest)"
      ]
    },
    {
      "cell_type": "code",
      "execution_count": 35,
      "metadata": {},
      "outputs": [
        {
          "data": {
            "text/plain": [
              "2055"
            ]
          },
          "execution_count": 35,
          "metadata": {},
          "output_type": "execute_result"
        }
      ],
      "source": [
        "df_returns['Position'].to_csv('LinearRegressorBool.csv', index = True)\n",
        "df_returns['AlgoReturn'].to_csv('LinearRegressorAlgoReturn.csv', index = True)\n",
        "sum(df_returns['Position'])"
      ]
    },
    {
      "cell_type": "markdown",
      "metadata": {},
      "source": [
        "## Ridge Regressor"
      ]
    },
    {
      "cell_type": "code",
      "execution_count": 36,
      "metadata": {},
      "outputs": [
        {
          "data": {
            "text/plain": [
              "(0.0017770166576079882, 0.00584546754597659)"
            ]
          },
          "execution_count": 36,
          "metadata": {},
          "output_type": "execute_result"
        }
      ],
      "source": [
        "from sklearn.linear_model import Ridge\n",
        "model = Ridge()\n",
        "model.fit(Xtrain, Ytrain)\n",
        "model.score(Xtrain, Ytrain), model.score(Xtest, Ytest)"
      ]
    },
    {
      "cell_type": "code",
      "execution_count": 37,
      "metadata": {},
      "outputs": [
        {
          "data": {
            "text/plain": [
              "(0.5476501305483029, 0.5645645645645646)"
            ]
          },
          "execution_count": 37,
          "metadata": {},
          "output_type": "execute_result"
        }
      ],
      "source": [
        "# Direction\n",
        "Ptrain = model.predict(Xtrain)\n",
        "Ptest = model.predict(Xtest)\n",
        "np.mean(np.sign(Ptrain) == np.sign(Ytrain)), np.mean(np.sign(Ptest) == np.sign(Ytest))"
      ]
    },
    {
      "cell_type": "code",
      "execution_count": 38,
      "metadata": {},
      "outputs": [
        {
          "data": {
            "text/plain": [
              "({-1.0, 1.0}, {-1.0, 1.0})"
            ]
          },
          "execution_count": 38,
          "metadata": {},
          "output_type": "execute_result"
        }
      ],
      "source": [
        "set(np.sign(Ptrain)), set(np.sign(Ptest))"
      ]
    },
    {
      "cell_type": "code",
      "execution_count": 39,
      "metadata": {},
      "outputs": [],
      "source": [
        "train_idx = df.index <= train.index[-1]\n",
        "test_idx = df.index > train.index[-1]\n",
        "\n",
        "train_idx[0] = False\n",
        "test_idx[-1] = False"
      ]
    },
    {
      "cell_type": "code",
      "execution_count": 40,
      "metadata": {},
      "outputs": [],
      "source": [
        "df_returns['Position'] = 0 # create new column\n",
        "df_returns.loc[train_idx,'Position'] = (Ptrain > 0)\n",
        "df_returns.loc[test_idx,'Position'] = (Ptest > 0)"
      ]
    },
    {
      "cell_type": "code",
      "execution_count": 41,
      "metadata": {},
      "outputs": [],
      "source": [
        "df_returns['AlgoReturn'] = df_returns['Position'] * df_returns['SPY']"
      ]
    },
    {
      "cell_type": "code",
      "execution_count": 42,
      "metadata": {},
      "outputs": [
        {
          "data": {
            "text/plain": [
              "0.7377383250573484"
            ]
          },
          "execution_count": 42,
          "metadata": {},
          "output_type": "execute_result"
        }
      ],
      "source": [
        "# Total algo log return train\n",
        "df_returns.iloc[1:-Ntest]['AlgoReturn'].sum()"
      ]
    },
    {
      "cell_type": "code",
      "execution_count": 43,
      "metadata": {},
      "outputs": [
        {
          "data": {
            "text/plain": [
              "0.635904325022068"
            ]
          },
          "execution_count": 43,
          "metadata": {},
          "output_type": "execute_result"
        }
      ],
      "source": [
        "# Total algo log return test\n",
        "df_returns.iloc[-Ntest:-1]['AlgoReturn'].sum()"
      ]
    },
    {
      "cell_type": "code",
      "execution_count": 44,
      "metadata": {},
      "outputs": [
        {
          "data": {
            "text/plain": [
              "(0.00768978244450525, 0.06262237390651655)"
            ]
          },
          "execution_count": 44,
          "metadata": {},
          "output_type": "execute_result"
        }
      ],
      "source": [
        "#std and SR algo train\n",
        "df_returns.iloc[1:-Ntest]['AlgoReturn'].std(), df_returns.iloc[1:-Ntest]['AlgoReturn'].mean()/df_returns.iloc[1:-Ntest]['AlgoReturn'].std()"
      ]
    },
    {
      "cell_type": "code",
      "execution_count": 45,
      "metadata": {},
      "outputs": [
        {
          "data": {
            "text/plain": [
              "(0.0123272254899105, 0.05163699377519681)"
            ]
          },
          "execution_count": 45,
          "metadata": {},
          "output_type": "execute_result"
        }
      ],
      "source": [
        "#std and SR algo test\n",
        "df_returns.iloc[-Ntest:-1]['AlgoReturn'].std(), df_returns.iloc[-Ntest:-1]['AlgoReturn'].mean()/df_returns.iloc[-Ntest:-1]['AlgoReturn'].std()"
      ]
    },
    {
      "cell_type": "code",
      "execution_count": 46,
      "metadata": {},
      "outputs": [
        {
          "data": {
            "text/plain": [
              "(5.902360415752807e-05, 0.00017406219673326716)"
            ]
          },
          "execution_count": 46,
          "metadata": {},
          "output_type": "execute_result"
        }
      ],
      "source": [
        "# MSE\n",
        "mean_squared_error(Ytrain, Ptrain), mean_squared_error(Ytest, Ptest)"
      ]
    },
    {
      "cell_type": "code",
      "execution_count": 47,
      "metadata": {},
      "outputs": [
        {
          "data": {
            "text/plain": [
              "(0.007682682094003895, 0.013193263308721885)"
            ]
          },
          "execution_count": 47,
          "metadata": {},
          "output_type": "execute_result"
        }
      ],
      "source": [
        "# RMSE\n",
        "mean_squared_error(Ytrain, Ptrain, squared=False), mean_squared_error(Ytest, Ptest, squared=False)"
      ]
    },
    {
      "cell_type": "code",
      "execution_count": 48,
      "metadata": {},
      "outputs": [
        {
          "data": {
            "text/plain": [
              "(0.005451900051327739, 0.00818197837581859)"
            ]
          },
          "execution_count": 48,
          "metadata": {},
          "output_type": "execute_result"
        }
      ],
      "source": [
        "# MAE\n",
        "mean_absolute_error(Ytrain, Ptrain), mean_absolute_error(Ytest, Ptest) "
      ]
    },
    {
      "cell_type": "code",
      "execution_count": 49,
      "metadata": {},
      "outputs": [
        {
          "data": {
            "text/plain": [
              "(0.0017770166576079882, 0.00584546754597659)"
            ]
          },
          "execution_count": 49,
          "metadata": {},
          "output_type": "execute_result"
        }
      ],
      "source": [
        "# R^2\n",
        "r2_score(Ytrain, Ptrain), r2_score(Ytest, Ptest)"
      ]
    },
    {
      "cell_type": "code",
      "execution_count": 50,
      "metadata": {},
      "outputs": [
        {
          "data": {
            "text/plain": [
              "(9193621211.009024, 4477636672.668833)"
            ]
          },
          "execution_count": 50,
          "metadata": {},
          "output_type": "execute_result"
        }
      ],
      "source": [
        "# MAPE\n",
        "mean_absolute_percentage_error(Ytrain, Ptrain), mean_absolute_percentage_error(Ytest, Ptest)"
      ]
    },
    {
      "cell_type": "code",
      "execution_count": 51,
      "metadata": {},
      "outputs": [
        {
          "data": {
            "text/plain": [
              "1.6745157135848834"
            ]
          },
          "execution_count": 51,
          "metadata": {},
          "output_type": "execute_result"
        }
      ],
      "source": [
        "#sMAPE train\n",
        "def smape(Ytrain, Ptrain):\n",
        "    numerator = np.abs(Ytrain - Ptrain)\n",
        "    denominator = (np.abs(Ytrain) + np.abs(Ptrain)) / 2\n",
        "    ratio = numerator / denominator\n",
        "    return ratio.mean()\n",
        "\n",
        "smape(Ytrain, Ptrain)"
      ]
    },
    {
      "cell_type": "code",
      "execution_count": 52,
      "metadata": {},
      "outputs": [
        {
          "data": {
            "text/plain": [
              "1.724227405384933"
            ]
          },
          "execution_count": 52,
          "metadata": {},
          "output_type": "execute_result"
        }
      ],
      "source": [
        "#sMAPE test\n",
        "def smape(Ytest, Ptest):\n",
        "    numerator = np.abs(Ytest - Ptest)\n",
        "    denominator = (np.abs(Ytest) + np.abs(Ptest)) / 2\n",
        "    ratio = numerator / denominator\n",
        "    return ratio.mean()\n",
        "\n",
        "smape(Ytest, Ptest)"
      ]
    },
    {
      "cell_type": "code",
      "execution_count": 53,
      "metadata": {},
      "outputs": [
        {
          "data": {
            "text/plain": [
              "2518"
            ]
          },
          "execution_count": 53,
          "metadata": {},
          "output_type": "execute_result"
        }
      ],
      "source": [
        "df_returns['Position'].to_csv('RidgeRegressorBool.csv', index = True)\n",
        "df_returns['AlgoReturn'].to_csv('RidgeRegressorAlgoReturn.csv', index = True)\n",
        "sum(df_returns['Position'])"
      ]
    },
    {
      "cell_type": "markdown",
      "metadata": {},
      "source": [
        "## Logistic Regressor"
      ]
    },
    {
      "cell_type": "code",
      "execution_count": 54,
      "metadata": {
        "colab": {
          "base_uri": "https://localhost:8080/"
        },
        "id": "3GFP14U0sFRH",
        "outputId": "312f72f6-3f3c-4088-968b-82d1ec41024f"
      },
      "outputs": [
        {
          "data": {
            "text/plain": [
              "(0.5469973890339426, 0.5565565565565566)"
            ]
          },
          "execution_count": 54,
          "metadata": {},
          "output_type": "execute_result"
        }
      ],
      "source": [
        "from sklearn.linear_model import LogisticRegression\n",
        "model = LogisticRegression(C=10)\n",
        "Ctrain = (Ytrain > 0)\n",
        "Ctest = (Ytest > 0)\n",
        "model.fit(Xtrain, Ctrain)\n",
        "model.score(Xtrain, Ctrain), model.score(Xtest, Ctest)"
      ]
    },
    {
      "cell_type": "code",
      "execution_count": 55,
      "metadata": {
        "colab": {
          "base_uri": "https://localhost:8080/"
        },
        "id": "V30Ml3Sitfce",
        "outputId": "05f2da70-1510-4cc4-ab00-f8df298cfcc3"
      },
      "outputs": [
        {
          "data": {
            "text/plain": [
              "({False, True}, {False, True})"
            ]
          },
          "execution_count": 55,
          "metadata": {},
          "output_type": "execute_result"
        }
      ],
      "source": [
        "Ptrain = model.predict(Xtrain)\n",
        "Ptest = model.predict(Xtest)\n",
        "set(Ptrain), set(Ptest)"
      ]
    },
    {
      "cell_type": "code",
      "execution_count": 56,
      "metadata": {
        "id": "-KIcWA4dsQ-e"
      },
      "outputs": [],
      "source": [
        "df_returns.loc[train_idx,'Position'] = Ptrain\n",
        "df_returns.loc[test_idx,'Position'] = Ptest\n",
        "df_returns['AlgoReturn'] = df_returns['Position'] * df_returns['SPY']"
      ]
    },
    {
      "cell_type": "code",
      "execution_count": 57,
      "metadata": {
        "colab": {
          "base_uri": "https://localhost:8080/"
        },
        "id": "Nc0lrxf70bCk",
        "outputId": "97c69d96-69d4-4bfd-802a-f1844812a680"
      },
      "outputs": [
        {
          "data": {
            "text/plain": [
              "0.7219760265002408"
            ]
          },
          "execution_count": 57,
          "metadata": {},
          "output_type": "execute_result"
        }
      ],
      "source": [
        "# Total algo log return train\n",
        "df_returns.iloc[1:-Ntest]['AlgoReturn'].sum()"
      ]
    },
    {
      "cell_type": "code",
      "execution_count": 58,
      "metadata": {
        "colab": {
          "base_uri": "https://localhost:8080/"
        },
        "id": "zC4zaA7MsUmN",
        "outputId": "c92e6316-a122-45ca-da94-098d9c0cdacc"
      },
      "outputs": [
        {
          "data": {
            "text/plain": [
              "0.6847233952902085"
            ]
          },
          "execution_count": 58,
          "metadata": {},
          "output_type": "execute_result"
        }
      ],
      "source": [
        "# Total algo log return test\n",
        "df_returns.iloc[-Ntest:-1]['AlgoReturn'].sum()"
      ]
    },
    {
      "cell_type": "code",
      "execution_count": 59,
      "metadata": {},
      "outputs": [
        {
          "data": {
            "text/plain": [
              "(0.0075123765611252785, 0.06273164304732594)"
            ]
          },
          "execution_count": 59,
          "metadata": {},
          "output_type": "execute_result"
        }
      ],
      "source": [
        "#std and SR algo train\n",
        "df_returns.iloc[1:-Ntest]['AlgoReturn'].std(), df_returns.iloc[1:-Ntest]['AlgoReturn'].mean()/df_returns.iloc[1:-Ntest]['AlgoReturn'].std()"
      ]
    },
    {
      "cell_type": "code",
      "execution_count": 60,
      "metadata": {},
      "outputs": [
        {
          "data": {
            "text/plain": [
              "(0.011736583601778407, 0.05839934578495611)"
            ]
          },
          "execution_count": 60,
          "metadata": {},
          "output_type": "execute_result"
        }
      ],
      "source": [
        "#std and SR algo test\n",
        "df_returns.iloc[-Ntest:-1]['AlgoReturn'].std(), df_returns.iloc[-Ntest:-1]['AlgoReturn'].mean()/df_returns.iloc[-Ntest:-1]['AlgoReturn'].std()"
      ]
    },
    {
      "cell_type": "code",
      "execution_count": 61,
      "metadata": {},
      "outputs": [
        {
          "data": {
            "text/plain": [
              "(0.5469973890339426, 0.5565565565565566)"
            ]
          },
          "execution_count": 61,
          "metadata": {},
          "output_type": "execute_result"
        }
      ],
      "source": [
        "accuracy_score(Ctrain,Ptrain), accuracy_score(Ctest,Ptest)"
      ]
    },
    {
      "cell_type": "code",
      "execution_count": 62,
      "metadata": {},
      "outputs": [
        {
          "data": {
            "text/plain": [
              "(0.5495923913043478, 0.5646036916395223)"
            ]
          },
          "execution_count": 62,
          "metadata": {},
          "output_type": "execute_result"
        }
      ],
      "source": [
        "precision_score(Ctrain,Ptrain), precision_score(Ctest,Ptest)"
      ]
    },
    {
      "cell_type": "code",
      "execution_count": 63,
      "metadata": {},
      "outputs": [
        {
          "data": {
            "text/plain": [
              "(0.6998269896193771, 0.701281186783547)"
            ]
          },
          "execution_count": 63,
          "metadata": {},
          "output_type": "execute_result"
        }
      ],
      "source": [
        "f1_score(Ctrain,Ptrain), f1_score(Ctest,Ptest)"
      ]
    },
    {
      "cell_type": "code",
      "execution_count": 64,
      "metadata": {},
      "outputs": [
        {
          "data": {
            "text/plain": [
              "(0.5025013762730526, 0.5038233833074097)"
            ]
          },
          "execution_count": 64,
          "metadata": {},
          "output_type": "execute_result"
        }
      ],
      "source": [
        "roc_auc_score(Ctrain,Ptrain), roc_auc_score(Ctest,Ptest)"
      ]
    },
    {
      "cell_type": "code",
      "execution_count": 65,
      "metadata": {},
      "outputs": [
        {
          "data": {
            "text/plain": [
              "(0.9599523471701682, 0.9207264198036116)"
            ]
          },
          "execution_count": 65,
          "metadata": {},
          "output_type": "execute_result"
        }
      ],
      "source": [
        "# MSE\n",
        "mean_squared_error(Ytrain, Ptrain), mean_squared_error(Ytest, Ptest)"
      ]
    },
    {
      "cell_type": "code",
      "execution_count": 66,
      "metadata": {},
      "outputs": [
        {
          "data": {
            "text/plain": [
              "(0.9797715790785974, 0.9595449024426171)"
            ]
          },
          "execution_count": 66,
          "metadata": {},
          "output_type": "execute_result"
        }
      ],
      "source": [
        "# RMSE\n",
        "mean_squared_error(Ytrain, Ptrain, squared=False), mean_squared_error(Ytest, Ptest, squared=False)"
      ]
    },
    {
      "cell_type": "code",
      "execution_count": 67,
      "metadata": {},
      "outputs": [
        {
          "data": {
            "text/plain": [
              "(0.9605936679058937, 0.9222914650082572)"
            ]
          },
          "execution_count": 67,
          "metadata": {},
          "output_type": "execute_result"
        }
      ],
      "source": [
        "# MAE\n",
        "mean_absolute_error(Ytrain, Ptrain), mean_absolute_error(Ytest, Ptest) "
      ]
    },
    {
      "cell_type": "code",
      "execution_count": 68,
      "metadata": {},
      "outputs": [
        {
          "data": {
            "text/plain": [
              "(-16233.970899121532, -5257.719932166544)"
            ]
          },
          "execution_count": 68,
          "metadata": {},
          "output_type": "execute_result"
        }
      ],
      "source": [
        "# R^2\n",
        "r2_score(Ytrain, Ptrain), r2_score(Ytest, Ptest)"
      ]
    },
    {
      "cell_type": "code",
      "execution_count": 69,
      "metadata": {},
      "outputs": [
        {
          "data": {
            "text/plain": [
              "(14698432205075.572, 9016215470796.574)"
            ]
          },
          "execution_count": 69,
          "metadata": {},
          "output_type": "execute_result"
        }
      ],
      "source": [
        "# MAPE\n",
        "mean_absolute_percentage_error(Ytrain, Ptrain), mean_absolute_percentage_error(Ytest, Ptest)"
      ]
    },
    {
      "cell_type": "code",
      "execution_count": 70,
      "metadata": {},
      "outputs": [
        {
          "data": {
            "text/plain": [
              "1.9886407340713905"
            ]
          },
          "execution_count": 70,
          "metadata": {},
          "output_type": "execute_result"
        }
      ],
      "source": [
        "#sMAPE train\n",
        "def smape(Ytrain, Ptrain):\n",
        "    numerator = np.abs(Ytrain - Ptrain)\n",
        "    denominator = (np.abs(Ytrain) + np.abs(Ptrain)) / 2\n",
        "    ratio = numerator / denominator\n",
        "    return ratio.mean()\n",
        "\n",
        "smape(Ytrain, Ptrain)"
      ]
    },
    {
      "cell_type": "code",
      "execution_count": 71,
      "metadata": {},
      "outputs": [
        {
          "data": {
            "text/plain": [
              "1.9845301121035241"
            ]
          },
          "execution_count": 71,
          "metadata": {},
          "output_type": "execute_result"
        }
      ],
      "source": [
        "#sMAPE test\n",
        "def smape(Ytest, Ptest):\n",
        "    numerator = np.abs(Ytest - Ptest)\n",
        "    denominator = (np.abs(Ytest) + np.abs(Ptest)) / 2\n",
        "    ratio = numerator / denominator\n",
        "    return ratio.mean()\n",
        "\n",
        "smape(Ytest, Ptest)"
      ]
    },
    {
      "cell_type": "code",
      "execution_count": 72,
      "metadata": {},
      "outputs": [
        {
          "data": {
            "text/plain": [
              "2393"
            ]
          },
          "execution_count": 72,
          "metadata": {},
          "output_type": "execute_result"
        }
      ],
      "source": [
        "df_returns['Position'].to_csv('LogisticRegressorBool.csv', index = True)\n",
        "df_returns['AlgoReturn'].to_csv('LogisticRegressorAlgoReturn.csv', index = True)\n",
        "sum(df_returns['Position'])"
      ]
    },
    {
      "cell_type": "markdown",
      "metadata": {},
      "source": [
        "## Linear Support Vector Machine using SVC"
      ]
    },
    {
      "cell_type": "code",
      "execution_count": 73,
      "metadata": {},
      "outputs": [
        {
          "data": {
            "text/plain": [
              "(0.7604438642297651, 0.5135135135135135)"
            ]
          },
          "execution_count": 73,
          "metadata": {},
          "output_type": "execute_result"
        }
      ],
      "source": [
        "from sklearn.svm import SVC\n",
        "model = SVC(C=10)\n",
        "Ctrain = (Ytrain > 0)\n",
        "Ctest = (Ytest > 0)\n",
        "model.fit(Xtrain, Ctrain)\n",
        "model.score(Xtrain, Ctrain), model.score(Xtest, Ctest)"
      ]
    },
    {
      "cell_type": "code",
      "execution_count": 74,
      "metadata": {},
      "outputs": [
        {
          "data": {
            "text/plain": [
              "({False, True}, {False, True})"
            ]
          },
          "execution_count": 74,
          "metadata": {},
          "output_type": "execute_result"
        }
      ],
      "source": [
        "Ptrain = model.predict(Xtrain)\n",
        "Ptest = model.predict(Xtest)\n",
        "set(Ptrain), set(Ptest)"
      ]
    },
    {
      "cell_type": "code",
      "execution_count": 75,
      "metadata": {},
      "outputs": [],
      "source": [
        "df_returns.loc[train_idx,'Position'] = Ptrain\n",
        "df_returns.loc[test_idx,'Position'] = Ptest\n",
        "df_returns['AlgoReturn'] = df_returns['Position'] * df_returns['SPY']"
      ]
    },
    {
      "cell_type": "code",
      "execution_count": 76,
      "metadata": {},
      "outputs": [
        {
          "data": {
            "text/plain": [
              "2.6827373615542047"
            ]
          },
          "execution_count": 76,
          "metadata": {},
          "output_type": "execute_result"
        }
      ],
      "source": [
        "# Total algo log return train\n",
        "df_returns.iloc[1:-Ntest]['AlgoReturn'].sum()"
      ]
    },
    {
      "cell_type": "code",
      "execution_count": 77,
      "metadata": {},
      "outputs": [
        {
          "data": {
            "text/plain": [
              "0.2815870256701407"
            ]
          },
          "execution_count": 77,
          "metadata": {},
          "output_type": "execute_result"
        }
      ],
      "source": [
        "# Total algo log return test\n",
        "df_returns.iloc[-Ntest:-1]['AlgoReturn'].sum()"
      ]
    },
    {
      "cell_type": "code",
      "execution_count": 78,
      "metadata": {},
      "outputs": [
        {
          "data": {
            "text/plain": [
              "(0.0058538826449018545, 0.2991406138858874)"
            ]
          },
          "execution_count": 78,
          "metadata": {},
          "output_type": "execute_result"
        }
      ],
      "source": [
        "#std and SR algo train\n",
        "df_returns.iloc[1:-Ntest]['AlgoReturn'].std(), df_returns.iloc[1:-Ntest]['AlgoReturn'].mean()/df_returns.iloc[1:-Ntest]['AlgoReturn'].std()"
      ]
    },
    {
      "cell_type": "code",
      "execution_count": 79,
      "metadata": {},
      "outputs": [
        {
          "data": {
            "text/plain": [
              "(0.011587887070075693, 0.02432444265810956)"
            ]
          },
          "execution_count": 79,
          "metadata": {},
          "output_type": "execute_result"
        }
      ],
      "source": [
        "#std and SR algo test\n",
        "df_returns.iloc[-Ntest:-1]['AlgoReturn'].std(), df_returns.iloc[-Ntest:-1]['AlgoReturn'].mean()/df_returns.iloc[-Ntest:-1]['AlgoReturn'].std()"
      ]
    },
    {
      "cell_type": "code",
      "execution_count": 80,
      "metadata": {},
      "outputs": [
        {
          "data": {
            "text/plain": [
              "(0.7604438642297651, 0.5135135135135135)"
            ]
          },
          "execution_count": 80,
          "metadata": {},
          "output_type": "execute_result"
        }
      ],
      "source": [
        "accuracy_score(Ctrain,Ptrain), accuracy_score(Ctest,Ptest)"
      ]
    },
    {
      "cell_type": "code",
      "execution_count": 81,
      "metadata": {},
      "outputs": [
        {
          "data": {
            "text/plain": [
              "(0.7237464522232734, 0.5570570570570571)"
            ]
          },
          "execution_count": 81,
          "metadata": {},
          "output_type": "execute_result"
        }
      ],
      "source": [
        "precision_score(Ctrain,Ptrain), precision_score(Ctest,Ptest)"
      ]
    },
    {
      "cell_type": "code",
      "execution_count": 82,
      "metadata": {},
      "outputs": [
        {
          "data": {
            "text/plain": [
              "(0.8065366367949394, 0.6042345276872964)"
            ]
          },
          "execution_count": 82,
          "metadata": {},
          "output_type": "execute_result"
        }
      ],
      "source": [
        "f1_score(Ctrain,Ptrain), f1_score(Ctest,Ptest)"
      ]
    },
    {
      "cell_type": "code",
      "execution_count": 83,
      "metadata": {},
      "outputs": [
        {
          "data": {
            "text/plain": [
              "(0.7443744838976052, 0.49254257025823106)"
            ]
          },
          "execution_count": 83,
          "metadata": {},
          "output_type": "execute_result"
        }
      ],
      "source": [
        "roc_auc_score(Ctrain,Ptrain), roc_auc_score(Ctest,Ptest)"
      ]
    },
    {
      "cell_type": "code",
      "execution_count": 84,
      "metadata": {},
      "outputs": [
        {
          "data": {
            "text/plain": [
              "(0.6865048780643535, 0.6662782443674153)"
            ]
          },
          "execution_count": 84,
          "metadata": {},
          "output_type": "execute_result"
        }
      ],
      "source": [
        "# MSE\n",
        "mean_squared_error(Ytrain, Ptrain), mean_squared_error(Ytest, Ptest)"
      ]
    },
    {
      "cell_type": "code",
      "execution_count": 85,
      "metadata": {},
      "outputs": [
        {
          "data": {
            "text/plain": [
              "(0.8285558991790195, 0.8162586871619899)"
            ]
          },
          "execution_count": 85,
          "metadata": {},
          "output_type": "execute_result"
        }
      ],
      "source": [
        "# RMSE\n",
        "mean_squared_error(Ytrain, Ptrain, squared=False), mean_squared_error(Ytest, Ptest, squared=False)"
      ]
    },
    {
      "cell_type": "code",
      "execution_count": 86,
      "metadata": {},
      "outputs": [
        {
          "data": {
            "text/plain": [
              "(0.6899910576615584, 0.6689881911256259)"
            ]
          },
          "execution_count": 86,
          "metadata": {},
          "output_type": "execute_result"
        }
      ],
      "source": [
        "# MAE\n",
        "mean_absolute_error(Ytrain, Ptrain), mean_absolute_error(Ytest, Ptest) "
      ]
    },
    {
      "cell_type": "code",
      "execution_count": 87,
      "metadata": {},
      "outputs": [
        {
          "data": {
            "text/plain": [
              "(-11609.354149698269, -3804.4416693844883)"
            ]
          },
          "execution_count": 87,
          "metadata": {},
          "output_type": "execute_result"
        }
      ],
      "source": [
        "# R^2\n",
        "r2_score(Ytrain, Ptrain), r2_score(Ytest, Ptest)"
      ]
    },
    {
      "cell_type": "code",
      "execution_count": 88,
      "metadata": {},
      "outputs": [
        {
          "data": {
            "text/plain": [
              "(2939686441481.3296, 400.6229288433742)"
            ]
          },
          "execution_count": 88,
          "metadata": {},
          "output_type": "execute_result"
        }
      ],
      "source": [
        "# MAPE\n",
        "mean_absolute_percentage_error(Ytrain, Ptrain), mean_absolute_percentage_error(Ytest, Ptest)"
      ]
    },
    {
      "cell_type": "code",
      "execution_count": 89,
      "metadata": {},
      "outputs": [
        {
          "data": {
            "text/plain": [
              "1.9891790472422806"
            ]
          },
          "execution_count": 89,
          "metadata": {},
          "output_type": "execute_result"
        }
      ],
      "source": [
        "#sMAPE train\n",
        "def smape(Ytrain, Ptrain):\n",
        "    numerator = np.abs(Ytrain - Ptrain)\n",
        "    denominator = (np.abs(Ytrain) + np.abs(Ptrain)) / 2\n",
        "    ratio = numerator / denominator\n",
        "    return ratio.mean()\n",
        "\n",
        "smape(Ytrain, Ptrain)"
      ]
    },
    {
      "cell_type": "code",
      "execution_count": 90,
      "metadata": {},
      "outputs": [
        {
          "data": {
            "text/plain": [
              "1.9883638882632249"
            ]
          },
          "execution_count": 90,
          "metadata": {},
          "output_type": "execute_result"
        }
      ],
      "source": [
        "#sMAPE test\n",
        "def smape(Ytest, Ptest):\n",
        "    numerator = np.abs(Ytest - Ptest)\n",
        "    denominator = (np.abs(Ytest) + np.abs(Ptest)) / 2\n",
        "    ratio = numerator / denominator\n",
        "    return ratio.mean()\n",
        "\n",
        "smape(Ytest, Ptest)"
      ]
    },
    {
      "cell_type": "code",
      "execution_count": 91,
      "metadata": {},
      "outputs": [
        {
          "data": {
            "text/plain": [
              "1723"
            ]
          },
          "execution_count": 91,
          "metadata": {},
          "output_type": "execute_result"
        }
      ],
      "source": [
        "df_returns['Position'].to_csv('SVCBool.csv', index = True)\n",
        "df_returns['AlgoReturn'].to_csv('SVCAlgoReturn.csv', index = True)\n",
        "sum(df_returns['Position'])"
      ]
    },
    {
      "cell_type": "markdown",
      "metadata": {},
      "source": [
        "## Linear Support Vector Machine using LinearSVC"
      ]
    },
    {
      "cell_type": "code",
      "execution_count": 92,
      "metadata": {},
      "outputs": [
        {
          "data": {
            "text/plain": [
              "(0.5620104438642297, 0.5475475475475475)"
            ]
          },
          "execution_count": 92,
          "metadata": {},
          "output_type": "execute_result"
        }
      ],
      "source": [
        "from sklearn.svm import LinearSVC\n",
        "model = LinearSVC(C=10)\n",
        "Ctrain = (Ytrain > 0)\n",
        "Ctest = (Ytest > 0)\n",
        "model.fit(Xtrain, Ctrain)\n",
        "model.score(Xtrain, Ctrain), model.score(Xtest, Ctest)"
      ]
    },
    {
      "cell_type": "code",
      "execution_count": 93,
      "metadata": {},
      "outputs": [
        {
          "data": {
            "text/plain": [
              "({False, True}, {False, True})"
            ]
          },
          "execution_count": 93,
          "metadata": {},
          "output_type": "execute_result"
        }
      ],
      "source": [
        "Ptrain = model.predict(Xtrain)\n",
        "Ptest = model.predict(Xtest)\n",
        "set(Ptrain), set(Ptest)"
      ]
    },
    {
      "cell_type": "code",
      "execution_count": 94,
      "metadata": {},
      "outputs": [],
      "source": [
        "df_returns.loc[train_idx,'Position'] = Ptrain\n",
        "df_returns.loc[test_idx,'Position'] = Ptest\n",
        "df_returns['AlgoReturn'] = df_returns['Position'] * df_returns['SPY']"
      ]
    },
    {
      "cell_type": "code",
      "execution_count": 95,
      "metadata": {},
      "outputs": [
        {
          "data": {
            "text/plain": [
              "0.8690316850515885"
            ]
          },
          "execution_count": 95,
          "metadata": {},
          "output_type": "execute_result"
        }
      ],
      "source": [
        "# Total algo log return train\n",
        "df_returns.iloc[1:-Ntest]['AlgoReturn'].sum()"
      ]
    },
    {
      "cell_type": "code",
      "execution_count": 96,
      "metadata": {},
      "outputs": [
        {
          "data": {
            "text/plain": [
              "0.7063371212167056"
            ]
          },
          "execution_count": 96,
          "metadata": {},
          "output_type": "execute_result"
        }
      ],
      "source": [
        "# Total algo log return test\n",
        "df_returns.iloc[-Ntest:-1]['AlgoReturn'].sum()"
      ]
    },
    {
      "cell_type": "code",
      "execution_count": 97,
      "metadata": {},
      "outputs": [
        {
          "data": {
            "text/plain": [
              "(0.007262646783517196, 0.07810555504572621)"
            ]
          },
          "execution_count": 97,
          "metadata": {},
          "output_type": "execute_result"
        }
      ],
      "source": [
        "#std and SR algo train\n",
        "df_returns.iloc[1:-Ntest]['AlgoReturn'].std(), df_returns.iloc[1:-Ntest]['AlgoReturn'].mean()/df_returns.iloc[1:-Ntest]['AlgoReturn'].std()"
      ]
    },
    {
      "cell_type": "code",
      "execution_count": 98,
      "metadata": {},
      "outputs": [
        {
          "data": {
            "text/plain": [
              "(0.01143873939988424, 0.06181137104926466)"
            ]
          },
          "execution_count": 98,
          "metadata": {},
          "output_type": "execute_result"
        }
      ],
      "source": [
        "#std and SR algo test\n",
        "df_returns.iloc[-Ntest:-1]['AlgoReturn'].std(), df_returns.iloc[-Ntest:-1]['AlgoReturn'].mean()/df_returns.iloc[-Ntest:-1]['AlgoReturn'].std()"
      ]
    },
    {
      "cell_type": "code",
      "execution_count": 99,
      "metadata": {},
      "outputs": [
        {
          "data": {
            "text/plain": [
              "(0.5620104438642297, 0.5475475475475475)"
            ]
          },
          "execution_count": 99,
          "metadata": {},
          "output_type": "execute_result"
        }
      ],
      "source": [
        "accuracy_score(Ctrain,Ptrain), accuracy_score(Ctest,Ptest)"
      ]
    },
    {
      "cell_type": "code",
      "execution_count": 100,
      "metadata": {},
      "outputs": [
        {
          "data": {
            "text/plain": [
              "(0.5612762871646121, 0.5630733944954128)"
            ]
          },
          "execution_count": 100,
          "metadata": {},
          "output_type": "execute_result"
        }
      ],
      "source": [
        "precision_score(Ctrain,Ptrain), precision_score(Ctest,Ptest)"
      ]
    },
    {
      "cell_type": "code",
      "execution_count": 101,
      "metadata": {},
      "outputs": [
        {
          "data": {
            "text/plain": [
              "(0.6976115367282559, 0.6847977684797769)"
            ]
          },
          "execution_count": 101,
          "metadata": {},
          "output_type": "execute_result"
        }
      ],
      "source": [
        "f1_score(Ctrain,Ptrain), f1_score(Ctest,Ptest)"
      ]
    },
    {
      "cell_type": "code",
      "execution_count": 102,
      "metadata": {},
      "outputs": [
        {
          "data": {
            "text/plain": [
              "(0.5235755573905863, 0.5009059667581456)"
            ]
          },
          "execution_count": 102,
          "metadata": {},
          "output_type": "execute_result"
        }
      ],
      "source": [
        "roc_auc_score(Ctrain,Ptrain), roc_auc_score(Ctest,Ptest)"
      ]
    },
    {
      "cell_type": "code",
      "execution_count": 103,
      "metadata": {},
      "outputs": [
        {
          "data": {
            "text/plain": [
              "(0.8990554076681428, 0.8716341000319869)"
            ]
          },
          "execution_count": 103,
          "metadata": {},
          "output_type": "execute_result"
        }
      ],
      "source": [
        "# MSE\n",
        "mean_squared_error(Ytrain, Ptrain), mean_squared_error(Ytest, Ptest)"
      ]
    },
    {
      "cell_type": "code",
      "execution_count": 104,
      "metadata": {},
      "outputs": [
        {
          "data": {
            "text/plain": [
              "(0.9481853234827793, 0.9336134639303286)"
            ]
          },
          "execution_count": 104,
          "metadata": {},
          "output_type": "execute_result"
        }
      ],
      "source": [
        "# RMSE\n",
        "mean_squared_error(Ytrain, Ptrain, squared=False), mean_squared_error(Ytest, Ptest, squared=False)"
      ]
    },
    {
      "cell_type": "code",
      "execution_count": 105,
      "metadata": {},
      "outputs": [
        {
          "data": {
            "text/plain": [
              "(0.9001286498513122, 0.8736187793099421)"
            ]
          },
          "execution_count": 105,
          "metadata": {},
          "output_type": "execute_result"
        }
      ],
      "source": [
        "# MAE\n",
        "mean_absolute_error(Ytrain, Ptrain), mean_absolute_error(Ytest, Ptest) "
      ]
    },
    {
      "cell_type": "code",
      "execution_count": 106,
      "metadata": {},
      "outputs": [
        {
          "data": {
            "text/plain": [
              "(-15204.065567283546, -4977.329628438319)"
            ]
          },
          "execution_count": 106,
          "metadata": {},
          "output_type": "execute_result"
        }
      ],
      "source": [
        "# R^2\n",
        "r2_score(Ytrain, Ptrain), r2_score(Ytest, Ptest)"
      ]
    },
    {
      "cell_type": "code",
      "execution_count": 107,
      "metadata": {},
      "outputs": [
        {
          "data": {
            "text/plain": [
              "(14698432205014.62, 9016215470765.979)"
            ]
          },
          "execution_count": 107,
          "metadata": {},
          "output_type": "execute_result"
        }
      ],
      "source": [
        "# MAPE\n",
        "mean_absolute_percentage_error(Ytrain, Ptrain), mean_absolute_percentage_error(Ytest, Ptest)"
      ]
    },
    {
      "cell_type": "code",
      "execution_count": 108,
      "metadata": {},
      "outputs": [
        {
          "data": {
            "text/plain": [
              "1.9891164788475748"
            ]
          },
          "execution_count": 108,
          "metadata": {},
          "output_type": "execute_result"
        }
      ],
      "source": [
        "#sMAPE train\n",
        "def smape(Ytrain, Ptrain):\n",
        "    numerator = np.abs(Ytrain - Ptrain)\n",
        "    denominator = (np.abs(Ytrain) + np.abs(Ptrain)) / 2\n",
        "    ratio = numerator / denominator\n",
        "    return ratio.mean()\n",
        "\n",
        "smape(Ytrain, Ptrain)"
      ]
    },
    {
      "cell_type": "code",
      "execution_count": 109,
      "metadata": {},
      "outputs": [
        {
          "data": {
            "text/plain": [
              "1.9852735122511007"
            ]
          },
          "execution_count": 109,
          "metadata": {},
          "output_type": "execute_result"
        }
      ],
      "source": [
        "#sMAPE test\n",
        "def smape(Ytest, Ptest):\n",
        "    numerator = np.abs(Ytest - Ptest)\n",
        "    denominator = (np.abs(Ytest) + np.abs(Ptest)) / 2\n",
        "    ratio = numerator / denominator\n",
        "    return ratio.mean()\n",
        "\n",
        "smape(Ytest, Ptest)"
      ]
    },
    {
      "cell_type": "code",
      "execution_count": 110,
      "metadata": {},
      "outputs": [
        {
          "data": {
            "text/plain": [
              "2251"
            ]
          },
          "execution_count": 110,
          "metadata": {},
          "output_type": "execute_result"
        }
      ],
      "source": [
        "df_returns['Position'].to_csv('LinearSVCBool.csv', index = True)\n",
        "df_returns['AlgoReturn'].to_csv('LinearSVCAlgoReturn.csv', index = True)\n",
        "sum(df_returns['Position'])"
      ]
    },
    {
      "cell_type": "markdown",
      "metadata": {},
      "source": [
        "## Random Forest Classifier"
      ]
    },
    {
      "cell_type": "code",
      "execution_count": 111,
      "metadata": {
        "colab": {
          "base_uri": "https://localhost:8080/"
        },
        "id": "i_XD8BdQNCrN",
        "outputId": "2d3444b3-536b-40fa-9871-9263c73e2f78"
      },
      "outputs": [
        {
          "data": {
            "text/plain": [
              "(1.0, 0.5075075075075075)"
            ]
          },
          "execution_count": 111,
          "metadata": {},
          "output_type": "execute_result"
        }
      ],
      "source": [
        "from sklearn.ensemble import RandomForestClassifier\n",
        "model = RandomForestClassifier(random_state=4)\n",
        "model.fit(Xtrain, Ctrain)\n",
        "model.score(Xtrain, Ctrain), model.score(Xtest, Ctest)"
      ]
    },
    {
      "cell_type": "code",
      "execution_count": 112,
      "metadata": {
        "id": "0WwsmcBUPSPn"
      },
      "outputs": [],
      "source": [
        "Ptrain = model.predict(Xtrain)\n",
        "Ptest = model.predict(Xtest)"
      ]
    },
    {
      "cell_type": "code",
      "execution_count": 113,
      "metadata": {
        "id": "UJheBsskP1MI"
      },
      "outputs": [],
      "source": [
        "df_returns.loc[train_idx,'Position'] = Ptrain\n",
        "df_returns.loc[test_idx,'Position'] = Ptest"
      ]
    },
    {
      "cell_type": "code",
      "execution_count": 114,
      "metadata": {
        "id": "_dJN9b88P4pp"
      },
      "outputs": [],
      "source": [
        "df_returns['AlgoReturn'] = df_returns['Position'] * df_returns['SPY']"
      ]
    },
    {
      "cell_type": "code",
      "execution_count": 115,
      "metadata": {
        "colab": {
          "base_uri": "https://localhost:8080/"
        },
        "id": "zcizGyM90l81",
        "outputId": "b54b66d6-aae1-4d7c-ce57-e4a99aafd55a"
      },
      "outputs": [
        {
          "data": {
            "text/plain": [
              "4.57496036184191"
            ]
          },
          "execution_count": 115,
          "metadata": {},
          "output_type": "execute_result"
        }
      ],
      "source": [
        "# Total algo log return train\n",
        "df_returns.iloc[1:-Ntest]['AlgoReturn'].sum()"
      ]
    },
    {
      "cell_type": "code",
      "execution_count": 116,
      "metadata": {
        "colab": {
          "base_uri": "https://localhost:8080/"
        },
        "id": "VL0fqq4zP5_C",
        "outputId": "c9418bd5-0581-4403-d62d-92407cf24e43"
      },
      "outputs": [
        {
          "data": {
            "text/plain": [
              "0.20121962344981448"
            ]
          },
          "execution_count": 116,
          "metadata": {},
          "output_type": "execute_result"
        }
      ],
      "source": [
        "# Total algo log return test\n",
        "df_returns.iloc[-Ntest:-1]['AlgoReturn'].sum()"
      ]
    },
    {
      "cell_type": "code",
      "execution_count": 117,
      "metadata": {},
      "outputs": [
        {
          "data": {
            "text/plain": [
              "(0.0045681386530458815, 0.6537162686023011)"
            ]
          },
          "execution_count": 117,
          "metadata": {},
          "output_type": "execute_result"
        }
      ],
      "source": [
        "#std and SR algo train\n",
        "df_returns.iloc[1:-Ntest]['AlgoReturn'].std(), df_returns.iloc[1:-Ntest]['AlgoReturn'].mean()/df_returns.iloc[1:-Ntest]['AlgoReturn'].std()"
      ]
    },
    {
      "cell_type": "code",
      "execution_count": 118,
      "metadata": {},
      "outputs": [
        {
          "data": {
            "text/plain": [
              "(0.009643621875961699, 0.02088645190417343)"
            ]
          },
          "execution_count": 118,
          "metadata": {},
          "output_type": "execute_result"
        }
      ],
      "source": [
        "#std and SR algo test\n",
        "df_returns.iloc[-Ntest:-1]['AlgoReturn'].std(), df_returns.iloc[-Ntest:-1]['AlgoReturn'].mean()/df_returns.iloc[-Ntest:-1]['AlgoReturn'].std()"
      ]
    },
    {
      "cell_type": "code",
      "execution_count": 119,
      "metadata": {},
      "outputs": [
        {
          "data": {
            "text/plain": [
              "(1.0, 0.5075075075075075)"
            ]
          },
          "execution_count": 119,
          "metadata": {},
          "output_type": "execute_result"
        }
      ],
      "source": [
        "accuracy_score(Ctrain,Ptrain), accuracy_score(Ctest,Ptest)"
      ]
    },
    {
      "cell_type": "code",
      "execution_count": 120,
      "metadata": {},
      "outputs": [
        {
          "data": {
            "text/plain": [
              "(1.0, 0.5577557755775577)"
            ]
          },
          "execution_count": 120,
          "metadata": {},
          "output_type": "execute_result"
        }
      ],
      "source": [
        "precision_score(Ctrain,Ptrain), precision_score(Ctest,Ptest)"
      ]
    },
    {
      "cell_type": "code",
      "execution_count": 121,
      "metadata": {},
      "outputs": [
        {
          "data": {
            "text/plain": [
              "(1.0, 0.5787671232876712)"
            ]
          },
          "execution_count": 121,
          "metadata": {},
          "output_type": "execute_result"
        }
      ],
      "source": [
        "f1_score(Ctrain,Ptrain), f1_score(Ctest,Ptest)"
      ]
    },
    {
      "cell_type": "code",
      "execution_count": 122,
      "metadata": {},
      "outputs": [
        {
          "data": {
            "text/plain": [
              "(1.0, 0.49407558816583463)"
            ]
          },
          "execution_count": 122,
          "metadata": {},
          "output_type": "execute_result"
        }
      ],
      "source": [
        "roc_auc_score(Ctrain,Ptrain), roc_auc_score(Ctest,Ptest)"
      ]
    },
    {
      "cell_type": "code",
      "execution_count": 123,
      "metadata": {},
      "outputs": [
        {
          "data": {
            "text/plain": [
              "(0.542389704434735, 0.6063790800074961)"
            ]
          },
          "execution_count": 123,
          "metadata": {},
          "output_type": "execute_result"
        }
      ],
      "source": [
        "# MSE\n",
        "mean_squared_error(Ytrain, Ptrain), mean_squared_error(Ytest, Ptest)"
      ]
    },
    {
      "cell_type": "code",
      "execution_count": 124,
      "metadata": {},
      "outputs": [
        {
          "data": {
            "text/plain": [
              "(0.7364711158183564, 0.7787034608934881)"
            ]
          },
          "execution_count": 124,
          "metadata": {},
          "output_type": "execute_result"
        }
      ],
      "source": [
        "# RMSE\n",
        "mean_squared_error(Ytrain, Ptrain, squared=False), mean_squared_error(Ytest, Ptest, squared=False)"
      ]
    },
    {
      "cell_type": "code",
      "execution_count": 125,
      "metadata": {},
      "outputs": [
        {
          "data": {
            "text/plain": [
              "(0.5478162462054559, 0.6098853951762092)"
            ]
          },
          "execution_count": 125,
          "metadata": {},
          "output_type": "execute_result"
        }
      ],
      "source": [
        "# MAE\n",
        "mean_absolute_error(Ytrain, Ptrain), mean_absolute_error(Ytest, Ptest) "
      ]
    },
    {
      "cell_type": "code",
      "execution_count": 126,
      "metadata": {},
      "outputs": [
        {
          "data": {
            "text/plain": [
              "(-9172.039779984092, -3462.3281785966224)"
            ]
          },
          "execution_count": 126,
          "metadata": {},
          "output_type": "execute_result"
        }
      ],
      "source": [
        "# R^2\n",
        "r2_score(Ytrain, Ptrain), r2_score(Ytest, Ptest)"
      ]
    },
    {
      "cell_type": "code",
      "execution_count": 127,
      "metadata": {},
      "outputs": [
        {
          "data": {
            "text/plain": [
              "(528.804084883318, 389.1057034172121)"
            ]
          },
          "execution_count": 127,
          "metadata": {},
          "output_type": "execute_result"
        }
      ],
      "source": [
        "# MAPE\n",
        "mean_absolute_percentage_error(Ytrain, Ptrain), mean_absolute_percentage_error(Ytest, Ptest)"
      ]
    },
    {
      "cell_type": "code",
      "execution_count": 128,
      "metadata": {},
      "outputs": [
        {
          "data": {
            "text/plain": [
              "1.9881180951400796"
            ]
          },
          "execution_count": 128,
          "metadata": {},
          "output_type": "execute_result"
        }
      ],
      "source": [
        "#sMAPE train\n",
        "def smape(Ytrain, Ptrain):\n",
        "    numerator = np.abs(Ytrain - Ptrain)\n",
        "    denominator = (np.abs(Ytrain) + np.abs(Ptrain)) / 2\n",
        "    ratio = numerator / denominator\n",
        "    return ratio.mean()\n",
        "\n",
        "smape(Ytrain, Ptrain)"
      ]
    },
    {
      "cell_type": "code",
      "execution_count": 129,
      "metadata": {},
      "outputs": [
        {
          "data": {
            "text/plain": [
              "1.990195178631987"
            ]
          },
          "execution_count": 129,
          "metadata": {},
          "output_type": "execute_result"
        }
      ],
      "source": [
        "#sMAPE test\n",
        "def smape(Ytest, Ptest):\n",
        "    numerator = np.abs(Ytest - Ptest)\n",
        "    denominator = (np.abs(Ytest) + np.abs(Ptest)) / 2\n",
        "    ratio = numerator / denominator\n",
        "    return ratio.mean()\n",
        "\n",
        "smape(Ytest, Ptest)"
      ]
    },
    {
      "cell_type": "code",
      "execution_count": 130,
      "metadata": {},
      "outputs": [
        {
          "data": {
            "text/plain": [
              "1446"
            ]
          },
          "execution_count": 130,
          "metadata": {},
          "output_type": "execute_result"
        }
      ],
      "source": [
        "df_returns['Position'].to_csv('RandomForestBool.csv', index = True)\n",
        "df_returns['AlgoReturn'].to_csv('RandomForestAlgoReturn.csv', index = True)\n",
        "sum(df_returns['Position'])"
      ]
    },
    {
      "cell_type": "code",
      "execution_count": 131,
      "metadata": {},
      "outputs": [
        {
          "data": {
            "image/png": "[encoded data removed]",
            "text/plain": [
              "<Figure size 1440x720 with 1 Axes>"
            ]
          },
          "metadata": {
            "needs_background": "light"
          },
          "output_type": "display_data"
        }
      ],
      "source": [
        "df[['SPY', 'OEF']].plot(figsize=(20,10));"
      ]
    }
  ],
  "metadata": {
    "colab": {
      "collapsed_sections": [],
      "name": "Regression-Based Strategy 0-1.ipynb",
      "provenance": []
    },
    "kernelspec": {
      "display_name": "Python 3",
      "name": "python3"
    },
    "language_info": {
      "codemirror_mode": {
        "name": "ipython",
        "version": 3
      },
      "file_extension": ".py",
      "mimetype": "text/x-python",
      "name": "python",
      "nbconvert_exporter": "python",
      "pygments_lexer": "ipython3",
      "version": "3.6.5"
    }
  },
  "nbformat": 4,
  "nbformat_minor": 0
}
