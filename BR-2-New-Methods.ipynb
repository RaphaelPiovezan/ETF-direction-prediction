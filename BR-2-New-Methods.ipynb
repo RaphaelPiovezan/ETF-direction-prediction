{
  "cells": [
    {
      "cell_type": "code",
      "execution_count": 69,
      "metadata": {
        "id": "Zh7Nh2hN1GIH"
      },
      "outputs": [],
      "source": [
        "import pandas as pd\n",
        "import numpy as np\n",
        "from sklearn.metrics import mean_absolute_percentage_error, \\\n",
        "  mean_absolute_error, r2_score, mean_squared_error\n",
        "import matplotlib.pyplot as plt"
      ]
    },
    {
      "cell_type": "code",
      "execution_count": 70,
      "metadata": {
        "id": "-0pkDN1UFW5M"
      },
      "outputs": [],
      "source": [
        "df_returns = pd.DataFrame()"
      ]
    },
    {
      "cell_type": "code",
      "execution_count": 71,
      "metadata": {
        "id": "yBvUzJN1Fc8I"
      },
      "outputs": [],
      "source": [
        "df_returns = pd.read_csv('IBRX-returns.csv', index_col=0, parse_dates=True)\n",
        "df = pd.read_csv('IBRX100.csv', index_col=0, parse_dates=True)\n",
        "\n",
        "#for name in df.columns:\n",
        "#  df_returns[name] = np.log(df[name]).diff()"
      ]
    },
    {
      "cell_type": "code",
      "execution_count": 72,
      "metadata": {},
      "outputs": [
        {
          "data": {
            "text/plain": [
              "0"
            ]
          },
          "execution_count": 72,
          "metadata": {},
          "output_type": "execute_result"
        }
      ],
      "source": [
        "df.isna().sum().sum()"
      ]
    },
    {
      "cell_type": "code",
      "execution_count": 73,
      "metadata": {
        "colab": {
          "base_uri": "https://localhost:8080/",
          "height": 369
        },
        "id": "IbLSX5pYFpMr",
        "outputId": "ba722998-d423-403b-d6e1-875d1115ad75"
      },
      "outputs": [
        {
          "data": {
            "text/html": [
              "<div>\n",
              "<style scoped>\n",
              "    .dataframe tbody tr th:only-of-type {\n",
              "        vertical-align: middle;\n",
              "    }\n",
              "\n",
              "    .dataframe tbody tr th {\n",
              "        vertical-align: top;\n",
              "    }\n",
              "\n",
              "    .dataframe thead th {\n",
              "        text-align: right;\n",
              "    }\n",
              "</style>\n",
              "<table border=\"1\" class=\"dataframe\">\n",
              "  <thead>\n",
              "    <tr style=\"text-align: right;\">\n",
              "      <th></th>\n",
              "      <th>VALE3.SA</th>\n",
              "      <th>PETR4.SA</th>\n",
              "      <th>PETR3.SA</th>\n",
              "      <th>ITUB4.SA</th>\n",
              "      <th>BBDC4.SA</th>\n",
              "      <th>B3SA3.SA</th>\n",
              "      <th>ABEV3.SA</th>\n",
              "      <th>JBSS3.SA</th>\n",
              "      <th>WEGE3.SA</th>\n",
              "      <th>SUZB3.SA</th>\n",
              "      <th>ITSA4.SA</th>\n",
              "      <th>BBAS3.SA</th>\n",
              "      <th>BRAX11.SA</th>\n",
              "      <th>BOVA11.SA</th>\n",
              "    </tr>\n",
              "    <tr>\n",
              "      <th>Date</th>\n",
              "      <th></th>\n",
              "      <th></th>\n",
              "      <th></th>\n",
              "      <th></th>\n",
              "      <th></th>\n",
              "      <th></th>\n",
              "      <th></th>\n",
              "      <th></th>\n",
              "      <th></th>\n",
              "      <th></th>\n",
              "      <th></th>\n",
              "      <th></th>\n",
              "      <th></th>\n",
              "      <th></th>\n",
              "    </tr>\n",
              "  </thead>\n",
              "  <tbody>\n",
              "    <tr>\n",
              "      <th>2012-01-02</th>\n",
              "      <td>NaN</td>\n",
              "      <td>NaN</td>\n",
              "      <td>NaN</td>\n",
              "      <td>NaN</td>\n",
              "      <td>NaN</td>\n",
              "      <td>NaN</td>\n",
              "      <td>NaN</td>\n",
              "      <td>NaN</td>\n",
              "      <td>NaN</td>\n",
              "      <td>NaN</td>\n",
              "      <td>NaN</td>\n",
              "      <td>NaN</td>\n",
              "      <td>NaN</td>\n",
              "      <td>NaN</td>\n",
              "    </tr>\n",
              "    <tr>\n",
              "      <th>2012-01-03</th>\n",
              "      <td>0.043537</td>\n",
              "      <td>0.030814</td>\n",
              "      <td>0.034304</td>\n",
              "      <td>0.024671</td>\n",
              "      <td>0.020945</td>\n",
              "      <td>0.017285</td>\n",
              "      <td>-0.011462</td>\n",
              "      <td>0.029801</td>\n",
              "      <td>0.023306</td>\n",
              "      <td>0.0</td>\n",
              "      <td>0.029193</td>\n",
              "      <td>-0.004539</td>\n",
              "      <td>0.021995</td>\n",
              "      <td>0.023738</td>\n",
              "    </tr>\n",
              "    <tr>\n",
              "      <th>2012-01-04</th>\n",
              "      <td>0.006765</td>\n",
              "      <td>0.007114</td>\n",
              "      <td>0.006225</td>\n",
              "      <td>0.001146</td>\n",
              "      <td>0.001593</td>\n",
              "      <td>0.017983</td>\n",
              "      <td>-0.023517</td>\n",
              "      <td>0.018820</td>\n",
              "      <td>0.005222</td>\n",
              "      <td>0.0</td>\n",
              "      <td>0.001742</td>\n",
              "      <td>-0.004975</td>\n",
              "      <td>0.000000</td>\n",
              "      <td>0.000000</td>\n",
              "    </tr>\n",
              "    <tr>\n",
              "      <th>2012-01-05</th>\n",
              "      <td>-0.027102</td>\n",
              "      <td>-0.011587</td>\n",
              "      <td>-0.006225</td>\n",
              "      <td>-0.007473</td>\n",
              "      <td>-0.006388</td>\n",
              "      <td>-0.010951</td>\n",
              "      <td>-0.019997</td>\n",
              "      <td>0.016807</td>\n",
              "      <td>0.006231</td>\n",
              "      <td>0.0</td>\n",
              "      <td>-0.004361</td>\n",
              "      <td>-0.010445</td>\n",
              "      <td>-0.009189</td>\n",
              "      <td>-0.013620</td>\n",
              "    </tr>\n",
              "    <tr>\n",
              "      <th>2012-01-06</th>\n",
              "      <td>-0.008637</td>\n",
              "      <td>0.000896</td>\n",
              "      <td>-0.000833</td>\n",
              "      <td>0.007473</td>\n",
              "      <td>0.012419</td>\n",
              "      <td>0.014903</td>\n",
              "      <td>-0.002528</td>\n",
              "      <td>0.011599</td>\n",
              "      <td>-0.011453</td>\n",
              "      <td>0.0</td>\n",
              "      <td>0.005231</td>\n",
              "      <td>-0.025522</td>\n",
              "      <td>-0.000250</td>\n",
              "      <td>0.002427</td>\n",
              "    </tr>\n",
              "  </tbody>\n",
              "</table>\n",
              "</div>"
            ],
            "text/plain": [
              "            VALE3.SA  PETR4.SA  PETR3.SA  ITUB4.SA  BBDC4.SA  B3SA3.SA  \\\n",
              "Date                                                                     \n",
              "2012-01-02       NaN       NaN       NaN       NaN       NaN       NaN   \n",
              "2012-01-03  0.043537  0.030814  0.034304  0.024671  0.020945  0.017285   \n",
              "2012-01-04  0.006765  0.007114  0.006225  0.001146  0.001593  0.017983   \n",
              "2012-01-05 -0.027102 -0.011587 -0.006225 -0.007473 -0.006388 -0.010951   \n",
              "2012-01-06 -0.008637  0.000896 -0.000833  0.007473  0.012419  0.014903   \n",
              "\n",
              "            ABEV3.SA  JBSS3.SA  WEGE3.SA  SUZB3.SA  ITSA4.SA  BBAS3.SA  \\\n",
              "Date                                                                     \n",
              "2012-01-02       NaN       NaN       NaN       NaN       NaN       NaN   \n",
              "2012-01-03 -0.011462  0.029801  0.023306       0.0  0.029193 -0.004539   \n",
              "2012-01-04 -0.023517  0.018820  0.005222       0.0  0.001742 -0.004975   \n",
              "2012-01-05 -0.019997  0.016807  0.006231       0.0 -0.004361 -0.010445   \n",
              "2012-01-06 -0.002528  0.011599 -0.011453       0.0  0.005231 -0.025522   \n",
              "\n",
              "            BRAX11.SA  BOVA11.SA  \n",
              "Date                              \n",
              "2012-01-02        NaN        NaN  \n",
              "2012-01-03   0.021995   0.023738  \n",
              "2012-01-04   0.000000   0.000000  \n",
              "2012-01-05  -0.009189  -0.013620  \n",
              "2012-01-06  -0.000250   0.002427  "
            ]
          },
          "execution_count": 73,
          "metadata": {},
          "output_type": "execute_result"
        }
      ],
      "source": [
        "df_returns.head()"
      ]
    },
    {
      "cell_type": "code",
      "execution_count": 74,
      "metadata": {
        "colab": {
          "base_uri": "https://localhost:8080/"
        },
        "id": "L3CLcqhl9p_a",
        "outputId": "cdef34f1-c974-48ef-9a90-3ad4a3e7dc37"
      },
      "outputs": [
        {
          "data": {
            "text/plain": [
              "Date\n",
              "2022-01-19    0.008136\n",
              "2022-01-20   -0.001908\n",
              "2022-01-21   -0.005939\n",
              "2022-01-24    0.021388\n",
              "2022-01-25         NaN\n",
              "Name: BOVA11.SA, dtype: float64"
            ]
          },
          "execution_count": 74,
          "metadata": {},
          "output_type": "execute_result"
        }
      ],
      "source": [
        "df_returns['BOVA11.SA'] = df_returns['BOVA11.SA'].shift(-1)\n",
        "df_returns['BOVA11.SA'].tail()"
      ]
    },
    {
      "cell_type": "code",
      "execution_count": 75,
      "metadata": {
        "id": "F5m1g8Z8376j"
      },
      "outputs": [],
      "source": [
        "Ntest = 1000\n",
        "train = df_returns.iloc[1:-Ntest]\n",
        "test = df_returns.iloc[-Ntest:-1]"
      ]
    },
    {
      "cell_type": "code",
      "execution_count": 76,
      "metadata": {
        "colab": {
          "base_uri": "https://localhost:8080/"
        },
        "id": "lChhe3784RHB",
        "outputId": "f017133e-edbe-4763-85a8-88b42a7d0653"
      },
      "outputs": [
        {
          "data": {
            "text/plain": [
              "Index(['VALE3.SA', 'PETR4.SA', 'PETR3.SA', 'ITUB4.SA', 'BBDC4.SA', 'B3SA3.SA',\n",
              "       'ABEV3.SA', 'JBSS3.SA', 'WEGE3.SA', 'SUZB3.SA', 'ITSA4.SA', 'BBAS3.SA',\n",
              "       'BRAX11.SA', 'BOVA11.SA'],\n",
              "      dtype='object')"
            ]
          },
          "execution_count": 76,
          "metadata": {},
          "output_type": "execute_result"
        }
      ],
      "source": [
        "df_returns.columns"
      ]
    },
    {
      "cell_type": "code",
      "execution_count": 77,
      "metadata": {
        "colab": {
          "base_uri": "https://localhost:8080/"
        },
        "id": "UZIgiaux4HiJ",
        "outputId": "f21ab50e-b5ad-411c-f1e6-7b92ae5b42dc"
      },
      "outputs": [
        {
          "data": {
            "text/plain": [
              "['VALE3.SA',\n",
              " 'PETR4.SA',\n",
              " 'PETR3.SA',\n",
              " 'ITUB4.SA',\n",
              " 'BBDC4.SA',\n",
              " 'B3SA3.SA',\n",
              " 'ABEV3.SA',\n",
              " 'JBSS3.SA',\n",
              " 'WEGE3.SA',\n",
              " 'SUZB3.SA',\n",
              " 'ITSA4.SA',\n",
              " 'BBAS3.SA']"
            ]
          },
          "execution_count": 77,
          "metadata": {},
          "output_type": "execute_result"
        }
      ],
      "source": [
        "# x_cols = df.columns.drop('SPY')\n",
        "x_cols = ['VALE3.SA', 'PETR4.SA', 'PETR3.SA', 'ITUB4.SA', 'BBDC4.SA', 'B3SA3.SA',\n",
        "          'ABEV3.SA', 'JBSS3.SA', 'WEGE3.SA', 'SUZB3.SA', 'ITSA4.SA', 'BBAS3.SA']\n",
        "x_cols"
      ]
    },
    {
      "cell_type": "code",
      "execution_count": 78,
      "metadata": {
        "id": "1aZC9Hvd4CsD"
      },
      "outputs": [],
      "source": [
        "Xtrain = train[x_cols]\n",
        "Ytrain = train['BOVA11.SA']\n",
        "Xtest = test[x_cols]\n",
        "Ytest = test['BOVA11.SA']"
      ]
    },
    {
      "cell_type": "code",
      "execution_count": 79,
      "metadata": {},
      "outputs": [
        {
          "data": {
            "text/plain": [
              "Date\n",
              "2018-01-10    0.013924\n",
              "2018-01-11    0.000130\n",
              "2018-01-12    0.005204\n",
              "2018-01-15   -0.000130\n",
              "2018-01-16    0.017367\n",
              "Name: BOVA11.SA, dtype: float64"
            ]
          },
          "execution_count": 79,
          "metadata": {},
          "output_type": "execute_result"
        }
      ],
      "source": [
        "Ytest.head()"
      ]
    },
    {
      "cell_type": "code",
      "execution_count": 80,
      "metadata": {
        "colab": {
          "base_uri": "https://localhost:8080/",
          "height": 235
        },
        "id": "dRgg9f4Q78lk",
        "outputId": "e30d9c70-afcb-41fc-f878-b4bc4734adf8"
      },
      "outputs": [
        {
          "data": {
            "text/html": [
              "<div>\n",
              "<style scoped>\n",
              "    .dataframe tbody tr th:only-of-type {\n",
              "        vertical-align: middle;\n",
              "    }\n",
              "\n",
              "    .dataframe tbody tr th {\n",
              "        vertical-align: top;\n",
              "    }\n",
              "\n",
              "    .dataframe thead th {\n",
              "        text-align: right;\n",
              "    }\n",
              "</style>\n",
              "<table border=\"1\" class=\"dataframe\">\n",
              "  <thead>\n",
              "    <tr style=\"text-align: right;\">\n",
              "      <th></th>\n",
              "      <th>VALE3.SA</th>\n",
              "      <th>PETR4.SA</th>\n",
              "      <th>PETR3.SA</th>\n",
              "      <th>ITUB4.SA</th>\n",
              "      <th>BBDC4.SA</th>\n",
              "      <th>B3SA3.SA</th>\n",
              "      <th>ABEV3.SA</th>\n",
              "      <th>JBSS3.SA</th>\n",
              "      <th>WEGE3.SA</th>\n",
              "      <th>SUZB3.SA</th>\n",
              "      <th>ITSA4.SA</th>\n",
              "      <th>BBAS3.SA</th>\n",
              "    </tr>\n",
              "    <tr>\n",
              "      <th>Date</th>\n",
              "      <th></th>\n",
              "      <th></th>\n",
              "      <th></th>\n",
              "      <th></th>\n",
              "      <th></th>\n",
              "      <th></th>\n",
              "      <th></th>\n",
              "      <th></th>\n",
              "      <th></th>\n",
              "      <th></th>\n",
              "      <th></th>\n",
              "      <th></th>\n",
              "    </tr>\n",
              "  </thead>\n",
              "  <tbody>\n",
              "    <tr>\n",
              "      <th>2012-01-03</th>\n",
              "      <td>0.043537</td>\n",
              "      <td>0.030814</td>\n",
              "      <td>0.034304</td>\n",
              "      <td>0.024671</td>\n",
              "      <td>0.020945</td>\n",
              "      <td>0.017285</td>\n",
              "      <td>-0.011462</td>\n",
              "      <td>0.029801</td>\n",
              "      <td>0.023306</td>\n",
              "      <td>0.0</td>\n",
              "      <td>0.029193</td>\n",
              "      <td>-0.004539</td>\n",
              "    </tr>\n",
              "    <tr>\n",
              "      <th>2012-01-04</th>\n",
              "      <td>0.006765</td>\n",
              "      <td>0.007114</td>\n",
              "      <td>0.006225</td>\n",
              "      <td>0.001146</td>\n",
              "      <td>0.001593</td>\n",
              "      <td>0.017983</td>\n",
              "      <td>-0.023517</td>\n",
              "      <td>0.018820</td>\n",
              "      <td>0.005222</td>\n",
              "      <td>0.0</td>\n",
              "      <td>0.001742</td>\n",
              "      <td>-0.004975</td>\n",
              "    </tr>\n",
              "    <tr>\n",
              "      <th>2012-01-05</th>\n",
              "      <td>-0.027102</td>\n",
              "      <td>-0.011587</td>\n",
              "      <td>-0.006225</td>\n",
              "      <td>-0.007473</td>\n",
              "      <td>-0.006388</td>\n",
              "      <td>-0.010951</td>\n",
              "      <td>-0.019997</td>\n",
              "      <td>0.016807</td>\n",
              "      <td>0.006231</td>\n",
              "      <td>0.0</td>\n",
              "      <td>-0.004361</td>\n",
              "      <td>-0.010445</td>\n",
              "    </tr>\n",
              "    <tr>\n",
              "      <th>2012-01-06</th>\n",
              "      <td>-0.008637</td>\n",
              "      <td>0.000896</td>\n",
              "      <td>-0.000833</td>\n",
              "      <td>0.007473</td>\n",
              "      <td>0.012419</td>\n",
              "      <td>0.014903</td>\n",
              "      <td>-0.002528</td>\n",
              "      <td>0.011599</td>\n",
              "      <td>-0.011453</td>\n",
              "      <td>0.0</td>\n",
              "      <td>0.005231</td>\n",
              "      <td>-0.025522</td>\n",
              "    </tr>\n",
              "    <tr>\n",
              "      <th>2012-01-09</th>\n",
              "      <td>-0.001206</td>\n",
              "      <td>0.013345</td>\n",
              "      <td>0.019803</td>\n",
              "      <td>0.006280</td>\n",
              "      <td>0.002528</td>\n",
              "      <td>0.015656</td>\n",
              "      <td>-0.001949</td>\n",
              "      <td>-0.033504</td>\n",
              "      <td>0.000000</td>\n",
              "      <td>0.0</td>\n",
              "      <td>0.006932</td>\n",
              "      <td>0.008153</td>\n",
              "    </tr>\n",
              "  </tbody>\n",
              "</table>\n",
              "</div>"
            ],
            "text/plain": [
              "            VALE3.SA  PETR4.SA  PETR3.SA  ITUB4.SA  BBDC4.SA  B3SA3.SA  \\\n",
              "Date                                                                     \n",
              "2012-01-03  0.043537  0.030814  0.034304  0.024671  0.020945  0.017285   \n",
              "2012-01-04  0.006765  0.007114  0.006225  0.001146  0.001593  0.017983   \n",
              "2012-01-05 -0.027102 -0.011587 -0.006225 -0.007473 -0.006388 -0.010951   \n",
              "2012-01-06 -0.008637  0.000896 -0.000833  0.007473  0.012419  0.014903   \n",
              "2012-01-09 -0.001206  0.013345  0.019803  0.006280  0.002528  0.015656   \n",
              "\n",
              "            ABEV3.SA  JBSS3.SA  WEGE3.SA  SUZB3.SA  ITSA4.SA  BBAS3.SA  \n",
              "Date                                                                    \n",
              "2012-01-03 -0.011462  0.029801  0.023306       0.0  0.029193 -0.004539  \n",
              "2012-01-04 -0.023517  0.018820  0.005222       0.0  0.001742 -0.004975  \n",
              "2012-01-05 -0.019997  0.016807  0.006231       0.0 -0.004361 -0.010445  \n",
              "2012-01-06 -0.002528  0.011599 -0.011453       0.0  0.005231 -0.025522  \n",
              "2012-01-09 -0.001949 -0.033504  0.000000       0.0  0.006932  0.008153  "
            ]
          },
          "execution_count": 80,
          "metadata": {},
          "output_type": "execute_result"
        }
      ],
      "source": [
        "Xtrain.head()"
      ]
    },
    {
      "cell_type": "markdown",
      "metadata": {},
      "source": [
        "## Buy & Hold"
      ]
    },
    {
      "cell_type": "code",
      "execution_count": 81,
      "metadata": {},
      "outputs": [
        {
          "data": {
            "text/plain": [
              "(0.014595554557542332, 0.01811346510486715)"
            ]
          },
          "execution_count": 81,
          "metadata": {},
          "output_type": "execute_result"
        }
      ],
      "source": [
        "#std buy-and-hold train and test\n",
        "Ytrain.std(), Ytest.std()"
      ]
    },
    {
      "cell_type": "code",
      "execution_count": 82,
      "metadata": {},
      "outputs": [
        {
          "data": {
            "text/plain": [
              "(0.011830254737761498, 0.01884965966243372)"
            ]
          },
          "execution_count": 82,
          "metadata": {},
          "output_type": "execute_result"
        }
      ],
      "source": [
        "#SR buy-and-hold train and test\n",
        "Ytrain.mean()/Ytrain.std(), Ytest.mean()/Ytest.std()"
      ]
    },
    {
      "cell_type": "code",
      "execution_count": 83,
      "metadata": {},
      "outputs": [
        {
          "data": {
            "text/plain": [
              "(0.25814034703965927, 0.3410912198815809)"
            ]
          },
          "execution_count": 83,
          "metadata": {},
          "output_type": "execute_result"
        }
      ],
      "source": [
        "# Total return buy-and-hold train and test\n",
        "Ytrain.sum(), Ytest.sum()"
      ]
    },
    {
      "cell_type": "markdown",
      "metadata": {},
      "source": [
        "## XGBoost Regressor"
      ]
    },
    {
      "cell_type": "code",
      "execution_count": 84,
      "metadata": {
        "colab": {
          "base_uri": "https://localhost:8080/"
        },
        "id": "JKV62WkI4hM2",
        "outputId": "6a6bf207-39d4-4568-8c3a-34b1a8a1eed4"
      },
      "outputs": [
        {
          "data": {
            "text/plain": [
              "(0.9754967674930669, -0.33975278393401354)"
            ]
          },
          "execution_count": 84,
          "metadata": {},
          "output_type": "execute_result"
        }
      ],
      "source": [
        "from xgboost.sklearn import XGBRegressor\n",
        "model = XGBRegressor()\n",
        "model.fit(Xtrain, Ytrain)\n",
        "model.score(Xtrain, Ytrain), model.score(Xtest, Ytest)"
      ]
    },
    {
      "cell_type": "code",
      "execution_count": 85,
      "metadata": {
        "colab": {
          "base_uri": "https://localhost:8080/"
        },
        "id": "dT724GIU828f",
        "outputId": "9ca29365-38bc-4d95-8715-f311eac43ca0"
      },
      "outputs": [
        {
          "data": {
            "text/plain": [
              "(0.9351170568561873, 0.4974974974974975)"
            ]
          },
          "execution_count": 85,
          "metadata": {},
          "output_type": "execute_result"
        }
      ],
      "source": [
        "# Direction\n",
        "Ptrain = model.predict(Xtrain)\n",
        "Ptest = model.predict(Xtest)\n",
        "np.mean(np.sign(Ptrain) == np.sign(Ytrain)), np.mean(np.sign(Ptest) == np.sign(Ytest))"
      ]
    },
    {
      "cell_type": "code",
      "execution_count": 86,
      "metadata": {
        "colab": {
          "base_uri": "https://localhost:8080/"
        },
        "id": "s_yi4ErBuSyt",
        "outputId": "3b5b5738-fea0-4c44-b621-5f4aa881f9e4"
      },
      "outputs": [
        {
          "data": {
            "text/plain": [
              "({-1.0, 1.0}, {-1.0, 1.0})"
            ]
          },
          "execution_count": 86,
          "metadata": {},
          "output_type": "execute_result"
        }
      ],
      "source": [
        "set(np.sign(Ptrain)), set(np.sign(Ptest))"
      ]
    },
    {
      "cell_type": "code",
      "execution_count": 87,
      "metadata": {
        "id": "jbtqTtPBBmBU"
      },
      "outputs": [],
      "source": [
        "train_idx = df.index <= train.index[-1]\n",
        "test_idx = df.index > train.index[-1]\n",
        "\n",
        "train_idx[0] = False\n",
        "test_idx[-1] = False"
      ]
    },
    {
      "cell_type": "code",
      "execution_count": 88,
      "metadata": {
        "id": "R8O8ATPO9UHn"
      },
      "outputs": [],
      "source": [
        "df_returns['Position'] = 0 # create new column\n",
        "df_returns.loc[train_idx,'Position'] = (Ptrain > 0)\n",
        "df_returns.loc[test_idx,'Position'] = (Ptest > 0)"
      ]
    },
    {
      "cell_type": "code",
      "execution_count": 89,
      "metadata": {
        "id": "QhG-T22SK0R4"
      },
      "outputs": [],
      "source": [
        "df_returns['AlgoReturn'] = df_returns['Position'] * df_returns['BOVA11.SA']"
      ]
    },
    {
      "cell_type": "code",
      "execution_count": 90,
      "metadata": {
        "colab": {
          "base_uri": "https://localhost:8080/"
        },
        "id": "ps6iv9TN0PlS",
        "outputId": "a1a07caf-098a-4d21-825d-e0c805d10a00"
      },
      "outputs": [
        {
          "data": {
            "text/plain": [
              "8.193485808643503"
            ]
          },
          "execution_count": 90,
          "metadata": {},
          "output_type": "execute_result"
        }
      ],
      "source": [
        "# Total algo log return train\n",
        "df_returns.iloc[1:-Ntest]['AlgoReturn'].sum()"
      ]
    },
    {
      "cell_type": "code",
      "execution_count": 91,
      "metadata": {
        "colab": {
          "base_uri": "https://localhost:8080/"
        },
        "id": "QDgFMKbHK-Dt",
        "outputId": "05201248-ba3e-4365-a90a-8ba326b860a3"
      },
      "outputs": [
        {
          "data": {
            "text/plain": [
              "0.26749686703545184"
            ]
          },
          "execution_count": 91,
          "metadata": {},
          "output_type": "execute_result"
        }
      ],
      "source": [
        "# Total algo log return test\n",
        "df_returns.iloc[-Ntest:-1]['AlgoReturn'].sum()"
      ]
    },
    {
      "cell_type": "code",
      "execution_count": 92,
      "metadata": {},
      "outputs": [
        {
          "data": {
            "text/plain": [
              "(0.008873423254762225, 0.6176412819259426)"
            ]
          },
          "execution_count": 92,
          "metadata": {},
          "output_type": "execute_result"
        }
      ],
      "source": [
        "#std and SR algo train\n",
        "df_returns.iloc[1:-Ntest]['AlgoReturn'].std(), df_returns.iloc[1:-Ntest]['AlgoReturn'].mean()/df_returns.iloc[1:-Ntest]['AlgoReturn'].std()"
      ]
    },
    {
      "cell_type": "code",
      "execution_count": 93,
      "metadata": {},
      "outputs": [
        {
          "data": {
            "text/plain": [
              "(0.013408548105474824, 0.019969696164030496)"
            ]
          },
          "execution_count": 93,
          "metadata": {},
          "output_type": "execute_result"
        }
      ],
      "source": [
        "#std and SR algo test\n",
        "df_returns.iloc[-Ntest:-1]['AlgoReturn'].std(), df_returns.iloc[-Ntest:-1]['AlgoReturn'].mean()/df_returns.iloc[-Ntest:-1]['AlgoReturn'].std()"
      ]
    },
    {
      "cell_type": "code",
      "execution_count": 94,
      "metadata": {},
      "outputs": [
        {
          "data": {
            "text/plain": [
              "(5.216437245078913e-06, 0.00043912968755164855)"
            ]
          },
          "execution_count": 94,
          "metadata": {},
          "output_type": "execute_result"
        }
      ],
      "source": [
        "# MSE\n",
        "mean_squared_error(Ytrain, Ptrain), mean_squared_error(Ytest, Ptest)"
      ]
    },
    {
      "cell_type": "code",
      "execution_count": 95,
      "metadata": {},
      "outputs": [
        {
          "data": {
            "text/plain": [
              "(0.002283952110942546, 0.020955421435791946)"
            ]
          },
          "execution_count": 95,
          "metadata": {},
          "output_type": "execute_result"
        }
      ],
      "source": [
        "# RMSE\n",
        "mean_squared_error(Ytrain, Ptrain, squared=False), mean_squared_error(Ytest, Ptest, squared=False)"
      ]
    },
    {
      "cell_type": "code",
      "execution_count": 96,
      "metadata": {},
      "outputs": [
        {
          "data": {
            "text/plain": [
              "(0.0015250622983159366, 0.014147395639639626)"
            ]
          },
          "execution_count": 96,
          "metadata": {},
          "output_type": "execute_result"
        }
      ],
      "source": [
        "# MAE\n",
        "mean_absolute_error(Ytrain, Ptrain), mean_absolute_error(Ytest, Ptest) "
      ]
    },
    {
      "cell_type": "code",
      "execution_count": 97,
      "metadata": {},
      "outputs": [
        {
          "data": {
            "text/plain": [
              "(0.9754967674930669, -0.33975278393401354)"
            ]
          },
          "execution_count": 97,
          "metadata": {},
          "output_type": "execute_result"
        }
      ],
      "source": [
        "# R^2\n",
        "r2_score(Ytrain, Ptrain), r2_score(Ytest, Ptest)"
      ]
    },
    {
      "cell_type": "code",
      "execution_count": 98,
      "metadata": {},
      "outputs": [
        {
          "data": {
            "text/plain": [
              "(113375202202.2522, 64242548968.50831)"
            ]
          },
          "execution_count": 98,
          "metadata": {},
          "output_type": "execute_result"
        }
      ],
      "source": [
        "# MAPE\n",
        "mean_absolute_percentage_error(Ytrain, Ptrain), mean_absolute_percentage_error(Ytest, Ptest)"
      ]
    },
    {
      "cell_type": "code",
      "execution_count": 99,
      "metadata": {},
      "outputs": [
        {
          "data": {
            "text/plain": [
              "0.33815518366321834"
            ]
          },
          "execution_count": 99,
          "metadata": {},
          "output_type": "execute_result"
        }
      ],
      "source": [
        "#sMAPE train\n",
        "def smape(Ytrain, Ptrain):\n",
        "    numerator = np.abs(Ytrain - Ptrain)\n",
        "    denominator = (np.abs(Ytrain) + np.abs(Ptrain)) / 2\n",
        "    ratio = numerator / denominator\n",
        "    return ratio.mean()\n",
        "\n",
        "smape(Ytrain, Ptrain)"
      ]
    },
    {
      "cell_type": "code",
      "execution_count": 100,
      "metadata": {},
      "outputs": [
        {
          "data": {
            "text/plain": [
              "1.4821197122831042"
            ]
          },
          "execution_count": 100,
          "metadata": {},
          "output_type": "execute_result"
        }
      ],
      "source": [
        "#sMAPE test\n",
        "def smape(Ytest, Ptest):\n",
        "    numerator = np.abs(Ytest - Ptest)\n",
        "    denominator = (np.abs(Ytest) + np.abs(Ptest)) / 2\n",
        "    ratio = numerator / denominator\n",
        "    return ratio.mean()\n",
        "\n",
        "smape(Ytest, Ptest)"
      ]
    },
    {
      "cell_type": "code",
      "execution_count": 101,
      "metadata": {},
      "outputs": [
        {
          "data": {
            "text/plain": [
              "1238"
            ]
          },
          "execution_count": 101,
          "metadata": {},
          "output_type": "execute_result"
        }
      ],
      "source": [
        "df_returns['Position'].to_csv('XGBRBool.csv', index = True)\n",
        "sum(df_returns['Position'])"
      ]
    },
    {
      "cell_type": "markdown",
      "metadata": {},
      "source": [
        "## LGBM Regressor"
      ]
    },
    {
      "cell_type": "code",
      "execution_count": 102,
      "metadata": {},
      "outputs": [
        {
          "data": {
            "text/plain": [
              "(0.7984442605322056, -0.11833021419685186)"
            ]
          },
          "execution_count": 102,
          "metadata": {},
          "output_type": "execute_result"
        }
      ],
      "source": [
        "from lightgbm import LGBMRegressor\n",
        "model = LGBMRegressor()\n",
        "model.fit(Xtrain, Ytrain)\n",
        "model.score(Xtrain, Ytrain), model.score(Xtest, Ytest)"
      ]
    },
    {
      "cell_type": "code",
      "execution_count": 103,
      "metadata": {},
      "outputs": [
        {
          "data": {
            "text/plain": [
              "(0.8561872909698997, 0.4824824824824825)"
            ]
          },
          "execution_count": 103,
          "metadata": {},
          "output_type": "execute_result"
        }
      ],
      "source": [
        "# Direction\n",
        "Ptrain = model.predict(Xtrain)\n",
        "Ptest = model.predict(Xtest)\n",
        "np.mean(np.sign(Ptrain) == np.sign(Ytrain)), np.mean(np.sign(Ptest) == np.sign(Ytest))"
      ]
    },
    {
      "cell_type": "code",
      "execution_count": 104,
      "metadata": {},
      "outputs": [
        {
          "data": {
            "text/plain": [
              "({-1.0, 1.0}, {-1.0, 1.0})"
            ]
          },
          "execution_count": 104,
          "metadata": {},
          "output_type": "execute_result"
        }
      ],
      "source": [
        "set(np.sign(Ptrain)), set(np.sign(Ptest))"
      ]
    },
    {
      "cell_type": "code",
      "execution_count": 105,
      "metadata": {},
      "outputs": [],
      "source": [
        "train_idx = df.index <= train.index[-1]\n",
        "test_idx = df.index > train.index[-1]\n",
        "\n",
        "train_idx[0] = False\n",
        "test_idx[-1] = False"
      ]
    },
    {
      "cell_type": "code",
      "execution_count": 106,
      "metadata": {},
      "outputs": [],
      "source": [
        "df_returns['Position'] = 0 # create new column\n",
        "df_returns.loc[train_idx,'Position'] = (Ptrain > 0)\n",
        "df_returns.loc[test_idx,'Position'] = (Ptest > 0)"
      ]
    },
    {
      "cell_type": "code",
      "execution_count": 107,
      "metadata": {},
      "outputs": [],
      "source": [
        "df_returns['AlgoReturn'] = df_returns['Position'] * df_returns['BOVA11.SA']"
      ]
    },
    {
      "cell_type": "code",
      "execution_count": 108,
      "metadata": {},
      "outputs": [
        {
          "data": {
            "text/plain": [
              "7.768042705590982"
            ]
          },
          "execution_count": 108,
          "metadata": {},
          "output_type": "execute_result"
        }
      ],
      "source": [
        "# Total algo log return train\n",
        "df_returns.iloc[1:-Ntest]['AlgoReturn'].sum()"
      ]
    },
    {
      "cell_type": "code",
      "execution_count": 109,
      "metadata": {},
      "outputs": [
        {
          "data": {
            "text/plain": [
              "-0.20618508661885837"
            ]
          },
          "execution_count": 109,
          "metadata": {},
          "output_type": "execute_result"
        }
      ],
      "source": [
        "# Total algo log return test\n",
        "df_returns.iloc[-Ntest:-1]['AlgoReturn'].sum()"
      ]
    },
    {
      "cell_type": "code",
      "execution_count": 110,
      "metadata": {},
      "outputs": [
        {
          "data": {
            "text/plain": [
              "(0.009076243809117738, 0.5724851928797359)"
            ]
          },
          "execution_count": 110,
          "metadata": {},
          "output_type": "execute_result"
        }
      ],
      "source": [
        "#std and SR algo train\n",
        "df_returns.iloc[1:-Ntest]['AlgoReturn'].std(), df_returns.iloc[1:-Ntest]['AlgoReturn'].mean()/df_returns.iloc[1:-Ntest]['AlgoReturn'].std()"
      ]
    },
    {
      "cell_type": "code",
      "execution_count": 111,
      "metadata": {},
      "outputs": [
        {
          "data": {
            "text/plain": [
              "(0.01515243111112356, -0.013621014118681007)"
            ]
          },
          "execution_count": 111,
          "metadata": {},
          "output_type": "execute_result"
        }
      ],
      "source": [
        "#std and SR algo test\n",
        "df_returns.iloc[-Ntest:-1]['AlgoReturn'].std(), df_returns.iloc[-Ntest:-1]['AlgoReturn'].mean()/df_returns.iloc[-Ntest:-1]['AlgoReturn'].std()"
      ]
    },
    {
      "cell_type": "code",
      "execution_count": 112,
      "metadata": {},
      "outputs": [
        {
          "data": {
            "text/plain": [
              "(4.2908741367969805e-05, 0.0003665541907648086)"
            ]
          },
          "execution_count": 112,
          "metadata": {},
          "output_type": "execute_result"
        }
      ],
      "source": [
        "# MSE\n",
        "mean_squared_error(Ytrain, Ptrain), mean_squared_error(Ytest, Ptest)"
      ]
    },
    {
      "cell_type": "code",
      "execution_count": 113,
      "metadata": {},
      "outputs": [
        {
          "data": {
            "text/plain": [
              "(0.006550476422976409, 0.019145604998662448)"
            ]
          },
          "execution_count": 113,
          "metadata": {},
          "output_type": "execute_result"
        }
      ],
      "source": [
        "# RMSE\n",
        "mean_squared_error(Ytrain, Ptrain, squared=False), mean_squared_error(Ytest, Ptest, squared=False)"
      ]
    },
    {
      "cell_type": "code",
      "execution_count": 114,
      "metadata": {},
      "outputs": [
        {
          "data": {
            "text/plain": [
              "(0.0048980466216210295, 0.012831085039564616)"
            ]
          },
          "execution_count": 114,
          "metadata": {},
          "output_type": "execute_result"
        }
      ],
      "source": [
        "# MAE\n",
        "mean_absolute_error(Ytrain, Ptrain), mean_absolute_error(Ytest, Ptest) "
      ]
    },
    {
      "cell_type": "code",
      "execution_count": 115,
      "metadata": {},
      "outputs": [
        {
          "data": {
            "text/plain": [
              "(0.7984442605322056, -0.11833021419685186)"
            ]
          },
          "execution_count": 115,
          "metadata": {},
          "output_type": "execute_result"
        }
      ],
      "source": [
        "# R^2\n",
        "r2_score(Ytrain, Ptrain), r2_score(Ytest, Ptest)"
      ]
    },
    {
      "cell_type": "code",
      "execution_count": 116,
      "metadata": {},
      "outputs": [
        {
          "data": {
            "text/plain": [
              "(293918420570.1888, 30806525617.649574)"
            ]
          },
          "execution_count": 116,
          "metadata": {},
          "output_type": "execute_result"
        }
      ],
      "source": [
        "# MAPE\n",
        "mean_absolute_percentage_error(Ytrain, Ptrain), mean_absolute_percentage_error(Ytest, Ptest)"
      ]
    },
    {
      "cell_type": "code",
      "execution_count": 117,
      "metadata": {},
      "outputs": [
        {
          "data": {
            "text/plain": [
              "0.7787665101024225"
            ]
          },
          "execution_count": 117,
          "metadata": {},
          "output_type": "execute_result"
        }
      ],
      "source": [
        "#sMAPE train\n",
        "def smape(Ytrain, Ptrain):\n",
        "    numerator = np.abs(Ytrain - Ptrain)\n",
        "    denominator = (np.abs(Ytrain) + np.abs(Ptrain)) / 2\n",
        "    ratio = numerator / denominator\n",
        "    return ratio.mean()\n",
        "\n",
        "smape(Ytrain, Ptrain)"
      ]
    },
    {
      "cell_type": "code",
      "execution_count": 118,
      "metadata": {},
      "outputs": [
        {
          "data": {
            "text/plain": [
              "1.5264196957178189"
            ]
          },
          "execution_count": 118,
          "metadata": {},
          "output_type": "execute_result"
        }
      ],
      "source": [
        "#sMAPE test\n",
        "def smape(Ytest, Ptest):\n",
        "    numerator = np.abs(Ytest - Ptest)\n",
        "    denominator = (np.abs(Ytest) + np.abs(Ptest)) / 2\n",
        "    ratio = numerator / denominator\n",
        "    return ratio.mean()\n",
        "\n",
        "smape(Ytest, Ptest)"
      ]
    },
    {
      "cell_type": "code",
      "execution_count": 119,
      "metadata": {},
      "outputs": [
        {
          "data": {
            "text/plain": [
              "1317"
            ]
          },
          "execution_count": 119,
          "metadata": {},
          "output_type": "execute_result"
        }
      ],
      "source": [
        "df_returns['Position'].to_csv('LGBMRBool.csv', index = True)\n",
        "sum(df_returns['Position'])"
      ]
    },
    {
      "cell_type": "code",
      "execution_count": 120,
      "metadata": {},
      "outputs": [],
      "source": [
        "from sklearn.metrics import accuracy_score, precision_score, f1_score, roc_auc_score"
      ]
    },
    {
      "cell_type": "markdown",
      "metadata": {},
      "source": [
        "## XGBoost Classifier"
      ]
    },
    {
      "cell_type": "code",
      "execution_count": 121,
      "metadata": {},
      "outputs": [
        {
          "name": "stderr",
          "output_type": "stream",
          "text": [
            "C:\\Users\\rapha\\anaconda3\\lib\\site-packages\\xgboost\\sklearn.py:1224: UserWarning: The use of label encoder in XGBClassifier is deprecated and will be removed in a future release. To remove this warning, do the following: 1) Pass option use_label_encoder=False when constructing XGBClassifier object; and 2) Encode your labels (y) as integers starting with 0, i.e. 0, 1, 2, ..., [num_class - 1].\n",
            "  warnings.warn(label_encoder_deprecation_msg, UserWarning)\n"
          ]
        },
        {
          "name": "stdout",
          "output_type": "stream",
          "text": [
            "[15:36:56] WARNING: C:/Users/Administrator/workspace/xgboost-win64_release_1.5.1/src/learner.cc:1115: Starting in XGBoost 1.3.0, the default evaluation metric used with the objective 'binary:logistic' was changed from 'error' to 'logloss'. Explicitly set eval_metric if you'd like to restore the old behavior.\n"
          ]
        },
        {
          "data": {
            "text/plain": [
              "(0.9979933110367893, 0.5115115115115115)"
            ]
          },
          "execution_count": 121,
          "metadata": {},
          "output_type": "execute_result"
        }
      ],
      "source": [
        "from xgboost.sklearn import XGBClassifier\n",
        "model = XGBClassifier()\n",
        "Ctrain = (Ytrain > 0)\n",
        "Ctest = (Ytest > 0)\n",
        "model.fit(Xtrain, Ctrain)\n",
        "model.score(Xtrain, Ctrain), model.score(Xtest, Ctest)"
      ]
    },
    {
      "cell_type": "code",
      "execution_count": 122,
      "metadata": {},
      "outputs": [
        {
          "data": {
            "text/plain": [
              "({False, True}, {False, True})"
            ]
          },
          "execution_count": 122,
          "metadata": {},
          "output_type": "execute_result"
        }
      ],
      "source": [
        "Ptrain = model.predict(Xtrain)\n",
        "Ptest = model.predict(Xtest)\n",
        "df_returns.loc[train_idx,'Position'] = Ptrain\n",
        "df_returns.loc[test_idx,'Position'] = Ptest\n",
        "df_returns['AlgoReturn'] = df_returns['Position'] * df_returns['BOVA11.SA']\n",
        "set(Ptrain), set(Ptest)"
      ]
    },
    {
      "cell_type": "code",
      "execution_count": 123,
      "metadata": {},
      "outputs": [
        {
          "data": {
            "text/plain": [
              "8.249759159316792"
            ]
          },
          "execution_count": 123,
          "metadata": {},
          "output_type": "execute_result"
        }
      ],
      "source": [
        "# Total algo log return train\n",
        "df_returns.iloc[1:-Ntest]['AlgoReturn'].sum()"
      ]
    },
    {
      "cell_type": "code",
      "execution_count": 124,
      "metadata": {},
      "outputs": [
        {
          "data": {
            "text/plain": [
              "0.35779729352519934"
            ]
          },
          "execution_count": 124,
          "metadata": {},
          "output_type": "execute_result"
        }
      ],
      "source": [
        "# Total algo log return test\n",
        "df_returns.iloc[-Ntest:-1]['AlgoReturn'].sum()"
      ]
    },
    {
      "cell_type": "code",
      "execution_count": 125,
      "metadata": {},
      "outputs": [
        {
          "data": {
            "text/plain": [
              "(0.008852812348104557, 0.623331133022825)"
            ]
          },
          "execution_count": 125,
          "metadata": {},
          "output_type": "execute_result"
        }
      ],
      "source": [
        "#std and SR algo train\n",
        "df_returns.iloc[1:-Ntest]['AlgoReturn'].std(), df_returns.iloc[1:-Ntest]['AlgoReturn'].mean()/df_returns.iloc[1:-Ntest]['AlgoReturn'].std()"
      ]
    },
    {
      "cell_type": "code",
      "execution_count": 126,
      "metadata": {},
      "outputs": [
        {
          "data": {
            "text/plain": [
              "(0.013366762843565656, 0.026794479199320757)"
            ]
          },
          "execution_count": 126,
          "metadata": {},
          "output_type": "execute_result"
        }
      ],
      "source": [
        "#std and SR algo test\n",
        "df_returns.iloc[-Ntest:-1]['AlgoReturn'].std(), df_returns.iloc[-Ntest:-1]['AlgoReturn'].mean()/df_returns.iloc[-Ntest:-1]['AlgoReturn'].std()"
      ]
    },
    {
      "cell_type": "code",
      "execution_count": 127,
      "metadata": {},
      "outputs": [
        {
          "data": {
            "text/plain": [
              "(0.9979933110367893, 0.5115115115115115)"
            ]
          },
          "execution_count": 127,
          "metadata": {},
          "output_type": "execute_result"
        }
      ],
      "source": [
        "accuracy_score(Ctrain,Ptrain), accuracy_score(Ctest,Ptest)"
      ]
    },
    {
      "cell_type": "code",
      "execution_count": 128,
      "metadata": {},
      "outputs": [
        {
          "data": {
            "text/plain": [
              "(0.9959946595460614, 0.5354330708661418)"
            ]
          },
          "execution_count": 128,
          "metadata": {},
          "output_type": "execute_result"
        }
      ],
      "source": [
        "precision_score(Ctrain,Ptrain), precision_score(Ctest,Ptest)"
      ]
    },
    {
      "cell_type": "code",
      "execution_count": 129,
      "metadata": {},
      "outputs": [
        {
          "data": {
            "text/plain": [
              "(0.9979933110367892, 0.5271317829457365)"
            ]
          },
          "execution_count": 129,
          "metadata": {},
          "output_type": "execute_result"
        }
      ],
      "source": [
        "f1_score(Ctrain,Ptrain), f1_score(Ctest,Ptest)"
      ]
    },
    {
      "cell_type": "code",
      "execution_count": 130,
      "metadata": {},
      "outputs": [
        {
          "data": {
            "text/plain": [
              "(0.9979973297730307, 0.5111209321012454)"
            ]
          },
          "execution_count": 130,
          "metadata": {},
          "output_type": "execute_result"
        }
      ],
      "source": [
        "roc_auc_score(Ctrain,Ptrain), roc_auc_score(Ctest,Ptest)"
      ]
    },
    {
      "cell_type": "code",
      "execution_count": 131,
      "metadata": {},
      "outputs": [
        {
          "data": {
            "text/plain": [
              "(0.49017979491118485, 0.5081200833788774)"
            ]
          },
          "execution_count": 131,
          "metadata": {},
          "output_type": "execute_result"
        }
      ],
      "source": [
        "# MSE\n",
        "mean_squared_error(Ytrain, Ptrain), mean_squared_error(Ytest, Ptest)"
      ]
    },
    {
      "cell_type": "code",
      "execution_count": 132,
      "metadata": {},
      "outputs": [
        {
          "data": {
            "text/plain": [
              "(0.7001284131580326, 0.7128254227921991)"
            ]
          },
          "execution_count": 132,
          "metadata": {},
          "output_type": "execute_result"
        }
      ],
      "source": [
        "# RMSE\n",
        "mean_squared_error(Ytrain, Ptrain, squared=False), mean_squared_error(Ytest, Ptest, squared=False)"
      ]
    },
    {
      "cell_type": "code",
      "execution_count": 133,
      "metadata": {},
      "outputs": [
        {
          "data": {
            "text/plain": [
              "(0.5008306753531507, 0.5138989645235252)"
            ]
          },
          "execution_count": 133,
          "metadata": {},
          "output_type": "execute_result"
        }
      ],
      "source": [
        "# MAE\n",
        "mean_absolute_error(Ytrain, Ptrain), mean_absolute_error(Ytest, Ptest) "
      ]
    },
    {
      "cell_type": "code",
      "execution_count": 134,
      "metadata": {},
      "outputs": [
        {
          "data": {
            "text/plain": [
              "(-2301.5273612254227, -1549.2374710194617)"
            ]
          },
          "execution_count": 134,
          "metadata": {},
          "output_type": "execute_result"
        }
      ],
      "source": [
        "# R^2\n",
        "r2_score(Ytrain, Ptrain), r2_score(Ytest, Ptest)"
      ]
    },
    {
      "cell_type": "code",
      "execution_count": 135,
      "metadata": {},
      "outputs": [
        {
          "data": {
            "text/plain": [
              "(162.7301970221022, 18032430940589.723)"
            ]
          },
          "execution_count": 135,
          "metadata": {},
          "output_type": "execute_result"
        }
      ],
      "source": [
        "# MAPE\n",
        "mean_absolute_percentage_error(Ytrain, Ptrain), mean_absolute_percentage_error(Ytest, Ptest)"
      ]
    },
    {
      "cell_type": "code",
      "execution_count": 136,
      "metadata": {},
      "outputs": [
        {
          "data": {
            "text/plain": [
              "1.977596807899588"
            ]
          },
          "execution_count": 136,
          "metadata": {},
          "output_type": "execute_result"
        }
      ],
      "source": [
        "#sMAPE train\n",
        "def smape(Ytrain, Ptrain):\n",
        "    numerator = np.abs(Ytrain - Ptrain)\n",
        "    denominator = (np.abs(Ytrain) + np.abs(Ptrain)) / 2\n",
        "    ratio = numerator / denominator\n",
        "    return ratio.mean()\n",
        "\n",
        "smape(Ytrain, Ptrain)"
      ]
    },
    {
      "cell_type": "code",
      "execution_count": 137,
      "metadata": {},
      "outputs": [
        {
          "data": {
            "text/plain": [
              "1.9871206457174806"
            ]
          },
          "execution_count": 137,
          "metadata": {},
          "output_type": "execute_result"
        }
      ],
      "source": [
        "#sMAPE test\n",
        "def smape(Ytest, Ptest):\n",
        "    numerator = np.abs(Ytest - Ptest)\n",
        "    denominator = (np.abs(Ytest) + np.abs(Ptest)) / 2\n",
        "    ratio = numerator / denominator\n",
        "    return ratio.mean()\n",
        "\n",
        "smape(Ytest, Ptest)"
      ]
    },
    {
      "cell_type": "code",
      "execution_count": 138,
      "metadata": {},
      "outputs": [
        {
          "data": {
            "text/plain": [
              "1257"
            ]
          },
          "execution_count": 138,
          "metadata": {},
          "output_type": "execute_result"
        }
      ],
      "source": [
        "df_returns['Position'].to_csv('XGBCBool.csv', index = True)\n",
        "sum(df_returns['Position'])"
      ]
    },
    {
      "cell_type": "markdown",
      "metadata": {},
      "source": [
        "## LGBM Classifier"
      ]
    },
    {
      "cell_type": "code",
      "execution_count": 139,
      "metadata": {},
      "outputs": [
        {
          "data": {
            "text/plain": [
              "(0.9979933110367893, 0.5115115115115115)"
            ]
          },
          "execution_count": 139,
          "metadata": {},
          "output_type": "execute_result"
        }
      ],
      "source": [
        "from lightgbm import LGBMClassifier\n",
        "model = LGBMClassifier()\n",
        "Ctrain = (Ytrain > 0)\n",
        "Ctest = (Ytest > 0)\n",
        "model.fit(Xtrain, Ctrain)\n",
        "model.score(Xtrain, Ctrain), model.score(Xtest, Ctest)"
      ]
    },
    {
      "cell_type": "code",
      "execution_count": 140,
      "metadata": {},
      "outputs": [
        {
          "data": {
            "text/plain": [
              "({False, True}, {False, True})"
            ]
          },
          "execution_count": 140,
          "metadata": {},
          "output_type": "execute_result"
        }
      ],
      "source": [
        "Ptrain = model.predict(Xtrain)\n",
        "Ptest = model.predict(Xtest)\n",
        "df_returns.loc[train_idx,'Position'] = Ptrain\n",
        "df_returns.loc[test_idx,'Position'] = Ptest\n",
        "df_returns['AlgoReturn'] = df_returns['Position'] * df_returns['BOVA11.SA']\n",
        "set(Ptrain), set(Ptest)"
      ]
    },
    {
      "cell_type": "code",
      "execution_count": 141,
      "metadata": {},
      "outputs": [
        {
          "data": {
            "text/plain": [
              "8.249759159316792"
            ]
          },
          "execution_count": 141,
          "metadata": {},
          "output_type": "execute_result"
        }
      ],
      "source": [
        "# Total algo log return train\n",
        "df_returns.iloc[1:-Ntest]['AlgoReturn'].sum()"
      ]
    },
    {
      "cell_type": "code",
      "execution_count": 142,
      "metadata": {},
      "outputs": [
        {
          "data": {
            "text/plain": [
              "0.22964037162149342"
            ]
          },
          "execution_count": 142,
          "metadata": {},
          "output_type": "execute_result"
        }
      ],
      "source": [
        "# Total algo log return test\n",
        "df_returns.iloc[-Ntest:-1]['AlgoReturn'].sum()"
      ]
    },
    {
      "cell_type": "code",
      "execution_count": 143,
      "metadata": {},
      "outputs": [
        {
          "data": {
            "text/plain": [
              "(0.008852812348104557, 0.623331133022825)"
            ]
          },
          "execution_count": 143,
          "metadata": {},
          "output_type": "execute_result"
        }
      ],
      "source": [
        "#std and SR algo train\n",
        "df_returns.iloc[1:-Ntest]['AlgoReturn'].std(), df_returns.iloc[1:-Ntest]['AlgoReturn'].mean()/df_returns.iloc[1:-Ntest]['AlgoReturn'].std()"
      ]
    },
    {
      "cell_type": "code",
      "execution_count": 144,
      "metadata": {},
      "outputs": [
        {
          "data": {
            "text/plain": [
              "(0.012763970319667736, 0.01800930557705501)"
            ]
          },
          "execution_count": 144,
          "metadata": {},
          "output_type": "execute_result"
        }
      ],
      "source": [
        "#std and SR algo test\n",
        "df_returns.iloc[-Ntest:-1]['AlgoReturn'].std(), df_returns.iloc[-Ntest:-1]['AlgoReturn'].mean()/df_returns.iloc[-Ntest:-1]['AlgoReturn'].std()"
      ]
    },
    {
      "cell_type": "code",
      "execution_count": 145,
      "metadata": {},
      "outputs": [
        {
          "data": {
            "text/plain": [
              "(0.9979933110367893, 0.5115115115115115)"
            ]
          },
          "execution_count": 145,
          "metadata": {},
          "output_type": "execute_result"
        }
      ],
      "source": [
        "accuracy_score(Ctrain,Ptrain), accuracy_score(Ctest,Ptest)"
      ]
    },
    {
      "cell_type": "code",
      "execution_count": 146,
      "metadata": {},
      "outputs": [
        {
          "data": {
            "text/plain": [
              "(0.9959946595460614, 0.5384615384615384)"
            ]
          },
          "execution_count": 146,
          "metadata": {},
          "output_type": "execute_result"
        }
      ],
      "source": [
        "precision_score(Ctrain,Ptrain), precision_score(Ctest,Ptest)"
      ]
    },
    {
      "cell_type": "code",
      "execution_count": 147,
      "metadata": {},
      "outputs": [
        {
          "data": {
            "text/plain": [
              "(0.9979933110367892, 0.5080645161290324)"
            ]
          },
          "execution_count": 147,
          "metadata": {},
          "output_type": "execute_result"
        }
      ],
      "source": [
        "f1_score(Ctrain,Ptrain), f1_score(Ctest,Ptest)"
      ]
    },
    {
      "cell_type": "code",
      "execution_count": 148,
      "metadata": {},
      "outputs": [
        {
          "data": {
            "text/plain": [
              "(0.9979973297730307, 0.513089594214544)"
            ]
          },
          "execution_count": 148,
          "metadata": {},
          "output_type": "execute_result"
        }
      ],
      "source": [
        "roc_auc_score(Ctrain,Ptrain), roc_auc_score(Ctest,Ptest)"
      ]
    },
    {
      "cell_type": "code",
      "execution_count": 149,
      "metadata": {},
      "outputs": [
        {
          "data": {
            "text/plain": [
              "(0.49017979491118485, 0.4683366137530591)"
            ]
          },
          "execution_count": 149,
          "metadata": {},
          "output_type": "execute_result"
        }
      ],
      "source": [
        "# MSE\n",
        "mean_squared_error(Ytrain, Ptrain), mean_squared_error(Ytest, Ptest)"
      ]
    },
    {
      "cell_type": "code",
      "execution_count": 150,
      "metadata": {},
      "outputs": [
        {
          "data": {
            "text/plain": [
              "(0.7001284131580326, 0.6843512356626962)"
            ]
          },
          "execution_count": 150,
          "metadata": {},
          "output_type": "execute_result"
        }
      ],
      "source": [
        "# RMSE\n",
        "mean_squared_error(Ytrain, Ptrain, squared=False), mean_squared_error(Ytest, Ptest, squared=False)"
      ]
    },
    {
      "cell_type": "code",
      "execution_count": 151,
      "metadata": {},
      "outputs": [
        {
          "data": {
            "text/plain": [
              "(0.5008306753531507, 0.47450656408576614)"
            ]
          },
          "execution_count": 151,
          "metadata": {},
          "output_type": "execute_result"
        }
      ],
      "source": [
        "# MAE\n",
        "mean_absolute_error(Ytrain, Ptrain), mean_absolute_error(Ytest, Ptest) "
      ]
    },
    {
      "cell_type": "code",
      "execution_count": 152,
      "metadata": {},
      "outputs": [
        {
          "data": {
            "text/plain": [
              "(-2301.5273612254227, -1427.860994555489)"
            ]
          },
          "execution_count": 152,
          "metadata": {},
          "output_type": "execute_result"
        }
      ],
      "source": [
        "# R^2\n",
        "r2_score(Ytrain, Ptrain), r2_score(Ytest, Ptest)"
      ]
    },
    {
      "cell_type": "code",
      "execution_count": 153,
      "metadata": {},
      "outputs": [
        {
          "data": {
            "text/plain": [
              "(162.7301970221022, 9016215470392.55)"
            ]
          },
          "execution_count": 153,
          "metadata": {},
          "output_type": "execute_result"
        }
      ],
      "source": [
        "# MAPE\n",
        "mean_absolute_percentage_error(Ytrain, Ptrain), mean_absolute_percentage_error(Ytest, Ptest)"
      ]
    },
    {
      "cell_type": "code",
      "execution_count": 154,
      "metadata": {},
      "outputs": [
        {
          "data": {
            "text/plain": [
              "1.977596807899588"
            ]
          },
          "execution_count": 154,
          "metadata": {},
          "output_type": "execute_result"
        }
      ],
      "source": [
        "#sMAPE train\n",
        "def smape(Ytrain, Ptrain):\n",
        "    numerator = np.abs(Ytrain - Ptrain)\n",
        "    denominator = (np.abs(Ytrain) + np.abs(Ptrain)) / 2\n",
        "    ratio = numerator / denominator\n",
        "    return ratio.mean()\n",
        "\n",
        "smape(Ytrain, Ptrain)"
      ]
    },
    {
      "cell_type": "code",
      "execution_count": 155,
      "metadata": {},
      "outputs": [
        {
          "data": {
            "text/plain": [
              "1.98835997700613"
            ]
          },
          "execution_count": 155,
          "metadata": {},
          "output_type": "execute_result"
        }
      ],
      "source": [
        "#sMAPE test\n",
        "def smape(Ytest, Ptest):\n",
        "    numerator = np.abs(Ytest - Ptest)\n",
        "    denominator = (np.abs(Ytest) + np.abs(Ptest)) / 2\n",
        "    ratio = numerator / denominator\n",
        "    return ratio.mean()\n",
        "\n",
        "smape(Ytest, Ptest)"
      ]
    },
    {
      "cell_type": "code",
      "execution_count": 156,
      "metadata": {},
      "outputs": [
        {
          "data": {
            "text/plain": [
              "1217"
            ]
          },
          "execution_count": 156,
          "metadata": {},
          "output_type": "execute_result"
        }
      ],
      "source": [
        "df_returns['Position'].to_csv('LGBMCBool.csv', index = True)\n",
        "sum(df_returns['Position'])"
      ]
    },
    {
      "cell_type": "markdown",
      "metadata": {},
      "source": [
        "## KNN"
      ]
    },
    {
      "cell_type": "code",
      "execution_count": 157,
      "metadata": {},
      "outputs": [
        {
          "data": {
            "text/plain": [
              "(0.6996655518394649, 0.5445445445445446)"
            ]
          },
          "execution_count": 157,
          "metadata": {},
          "output_type": "execute_result"
        }
      ],
      "source": [
        "from sklearn.neighbors import KNeighborsClassifier\n",
        "model = KNeighborsClassifier()\n",
        "Ctrain = (Ytrain > 0)\n",
        "Ctest = (Ytest > 0)\n",
        "model.fit(Xtrain, Ctrain)\n",
        "model.score(Xtrain, Ctrain), model.score(Xtest, Ctest)"
      ]
    },
    {
      "cell_type": "code",
      "execution_count": 158,
      "metadata": {},
      "outputs": [
        {
          "data": {
            "text/plain": [
              "({False, True}, {False, True})"
            ]
          },
          "execution_count": 158,
          "metadata": {},
          "output_type": "execute_result"
        }
      ],
      "source": [
        "Ptrain = model.predict(Xtrain)\n",
        "Ptest = model.predict(Xtest)\n",
        "df_returns.loc[train_idx,'Position'] = Ptrain\n",
        "df_returns.loc[test_idx,'Position'] = Ptest\n",
        "df_returns['AlgoReturn'] = df_returns['Position'] * df_returns['BOVA11.SA']\n",
        "set(Ptrain), set(Ptest)"
      ]
    },
    {
      "cell_type": "code",
      "execution_count": 159,
      "metadata": {},
      "outputs": [
        {
          "data": {
            "text/plain": [
              "3.425973711426373"
            ]
          },
          "execution_count": 159,
          "metadata": {},
          "output_type": "execute_result"
        }
      ],
      "source": [
        "# Total algo log return train\n",
        "df_returns.iloc[1:-Ntest]['AlgoReturn'].sum()"
      ]
    },
    {
      "cell_type": "code",
      "execution_count": 160,
      "metadata": {},
      "outputs": [
        {
          "data": {
            "text/plain": [
              "0.8850797877417707"
            ]
          },
          "execution_count": 160,
          "metadata": {},
          "output_type": "execute_result"
        }
      ],
      "source": [
        "# Total algo log return test\n",
        "df_returns.iloc[-Ntest:-1]['AlgoReturn'].sum()"
      ]
    },
    {
      "cell_type": "code",
      "execution_count": 161,
      "metadata": {},
      "outputs": [
        {
          "data": {
            "text/plain": [
              "(0.009926402462153218, 0.23086120277651345)"
            ]
          },
          "execution_count": 161,
          "metadata": {},
          "output_type": "execute_result"
        }
      ],
      "source": [
        "#std and SR algo train\n",
        "df_returns.iloc[1:-Ntest]['AlgoReturn'].std(), df_returns.iloc[1:-Ntest]['AlgoReturn'].mean()/df_returns.iloc[1:-Ntest]['AlgoReturn'].std()"
      ]
    },
    {
      "cell_type": "code",
      "execution_count": 162,
      "metadata": {},
      "outputs": [
        {
          "data": {
            "text/plain": [
              "(0.011691737095646547, 0.07577708481190172)"
            ]
          },
          "execution_count": 162,
          "metadata": {},
          "output_type": "execute_result"
        }
      ],
      "source": [
        "#std and SR algo test\n",
        "df_returns.iloc[-Ntest:-1]['AlgoReturn'].std(), df_returns.iloc[-Ntest:-1]['AlgoReturn'].mean()/df_returns.iloc[-Ntest:-1]['AlgoReturn'].std()"
      ]
    },
    {
      "cell_type": "code",
      "execution_count": 163,
      "metadata": {},
      "outputs": [
        {
          "data": {
            "text/plain": [
              "(0.6996655518394649, 0.5445445445445446)"
            ]
          },
          "execution_count": 163,
          "metadata": {},
          "output_type": "execute_result"
        }
      ],
      "source": [
        "accuracy_score(Ctrain,Ptrain), accuracy_score(Ctest,Ptest)"
      ]
    },
    {
      "cell_type": "code",
      "execution_count": 164,
      "metadata": {},
      "outputs": [
        {
          "data": {
            "text/plain": [
              "(0.7088607594936709, 0.5726315789473684)"
            ]
          },
          "execution_count": 164,
          "metadata": {},
          "output_type": "execute_result"
        }
      ],
      "source": [
        "precision_score(Ctrain,Ptrain), precision_score(Ctest,Ptest)"
      ]
    },
    {
      "cell_type": "code",
      "execution_count": 165,
      "metadata": {},
      "outputs": [
        {
          "data": {
            "text/plain": [
              "(0.6918325326012353, 0.5445445445445445)"
            ]
          },
          "execution_count": 165,
          "metadata": {},
          "output_type": "execute_result"
        }
      ],
      "source": [
        "f1_score(Ctrain,Ptrain), f1_score(Ctest,Ptest)"
      ]
    },
    {
      "cell_type": "code",
      "execution_count": 166,
      "metadata": {},
      "outputs": [
        {
          "data": {
            "text/plain": [
              "(0.6996173629182073, 0.5458577742065086)"
            ]
          },
          "execution_count": 166,
          "metadata": {},
          "output_type": "execute_result"
        }
      ],
      "source": [
        "roc_auc_score(Ctrain,Ptrain), roc_auc_score(Ctest,Ptest)"
      ]
    },
    {
      "cell_type": "code",
      "execution_count": 167,
      "metadata": {},
      "outputs": [
        {
          "data": {
            "text/plain": [
              "(0.4712149593899681, 0.47403142973680223)"
            ]
          },
          "execution_count": 167,
          "metadata": {},
          "output_type": "execute_result"
        }
      ],
      "source": [
        "# MSE\n",
        "mean_squared_error(Ytrain, Ptrain), mean_squared_error(Ytest, Ptest)"
      ]
    },
    {
      "cell_type": "code",
      "execution_count": 168,
      "metadata": {},
      "outputs": [
        {
          "data": {
            "text/plain": [
              "(0.6864509883378187, 0.6884994043111455)"
            ]
          },
          "execution_count": 168,
          "metadata": {},
          "output_type": "execute_result"
        }
      ],
      "source": [
        "# RMSE\n",
        "mean_squared_error(Ytrain, Ptrain, squared=False), mean_squared_error(Ytest, Ptest, squared=False)"
      ]
    },
    {
      "cell_type": "code",
      "execution_count": 169,
      "metadata": {},
      "outputs": [
        {
          "data": {
            "text/plain": [
              "(0.47898443049087225, 0.4810744187163992)"
            ]
          },
          "execution_count": 169,
          "metadata": {},
          "output_type": "execute_result"
        }
      ],
      "source": [
        "# MAE\n",
        "mean_absolute_error(Ytrain, Ptrain), mean_absolute_error(Ytest, Ptest) "
      ]
    },
    {
      "cell_type": "code",
      "execution_count": 170,
      "metadata": {},
      "outputs": [
        {
          "data": {
            "text/plain": [
              "(-2212.4436145225354, -1445.2354645230073)"
            ]
          },
          "execution_count": 170,
          "metadata": {},
          "output_type": "execute_result"
        }
      ],
      "source": [
        "# R^2\n",
        "r2_score(Ytrain, Ptrain), r2_score(Ytest, Ptest)"
      ]
    },
    {
      "cell_type": "code",
      "execution_count": 171,
      "metadata": {},
      "outputs": [
        {
          "data": {
            "text/plain": [
              "(30124412223356.676, 4508107735273.629)"
            ]
          },
          "execution_count": 171,
          "metadata": {},
          "output_type": "execute_result"
        }
      ],
      "source": [
        "# MAPE\n",
        "mean_absolute_percentage_error(Ytrain, Ptrain), mean_absolute_percentage_error(Ytest, Ptest)"
      ]
    },
    {
      "cell_type": "code",
      "execution_count": 172,
      "metadata": {},
      "outputs": [
        {
          "data": {
            "text/plain": [
              "1.9849379267542953"
            ]
          },
          "execution_count": 172,
          "metadata": {},
          "output_type": "execute_result"
        }
      ],
      "source": [
        "#sMAPE train\n",
        "def smape(Ytrain, Ptrain):\n",
        "    numerator = np.abs(Ytrain - Ptrain)\n",
        "    denominator = (np.abs(Ytrain) + np.abs(Ptrain)) / 2\n",
        "    ratio = numerator / denominator\n",
        "    return ratio.mean()\n",
        "\n",
        "smape(Ytrain, Ptrain)"
      ]
    },
    {
      "cell_type": "code",
      "execution_count": 173,
      "metadata": {},
      "outputs": [
        {
          "data": {
            "text/plain": [
              "1.9874778205277726"
            ]
          },
          "execution_count": 173,
          "metadata": {},
          "output_type": "execute_result"
        }
      ],
      "source": [
        "#sMAPE test\n",
        "def smape(Ytest, Ptest):\n",
        "    numerator = np.abs(Ytest - Ptest)\n",
        "    denominator = (np.abs(Ytest) + np.abs(Ptest)) / 2\n",
        "    ratio = numerator / denominator\n",
        "    return ratio.mean()\n",
        "\n",
        "smape(Ytest, Ptest)"
      ]
    },
    {
      "cell_type": "code",
      "execution_count": 174,
      "metadata": {},
      "outputs": [
        {
          "data": {
            "text/plain": [
              "1186"
            ]
          },
          "execution_count": 174,
          "metadata": {},
          "output_type": "execute_result"
        }
      ],
      "source": [
        "df_returns['Position'].to_csv('KNNBool.csv', index = True)\n",
        "sum(df_returns['Position'])"
      ]
    },
    {
      "cell_type": "markdown",
      "metadata": {},
      "source": [
        "## Naive Bayes Gaussian Classifier"
      ]
    },
    {
      "cell_type": "code",
      "execution_count": 175,
      "metadata": {
        "colab": {
          "base_uri": "https://localhost:8080/"
        },
        "id": "i_XD8BdQNCrN",
        "outputId": "2d3444b3-536b-40fa-9871-9263c73e2f78"
      },
      "outputs": [
        {
          "data": {
            "text/plain": [
              "(0.5337792642140469, 0.4944944944944945)"
            ]
          },
          "execution_count": 175,
          "metadata": {},
          "output_type": "execute_result"
        }
      ],
      "source": [
        "from sklearn.naive_bayes import GaussianNB\n",
        "model = GaussianNB()\n",
        "Ctrain = (Ytrain > 0)\n",
        "Ctest = (Ytest > 0)\n",
        "model.fit(Xtrain, Ctrain)\n",
        "model.score(Xtrain, Ctrain), model.score(Xtest, Ctest)"
      ]
    },
    {
      "cell_type": "code",
      "execution_count": 176,
      "metadata": {
        "id": "0WwsmcBUPSPn"
      },
      "outputs": [
        {
          "data": {
            "text/plain": [
              "({False, True}, {False, True})"
            ]
          },
          "execution_count": 176,
          "metadata": {},
          "output_type": "execute_result"
        }
      ],
      "source": [
        "Ptrain = model.predict(Xtrain)\n",
        "Ptest = model.predict(Xtest)\n",
        "df_returns.loc[train_idx,'Position'] = Ptrain\n",
        "df_returns.loc[test_idx,'Position'] = Ptest\n",
        "df_returns['AlgoReturn'] = df_returns['Position'] * df_returns['BOVA11.SA']\n",
        "set(Ptrain), set(Ptest)"
      ]
    },
    {
      "cell_type": "code",
      "execution_count": 177,
      "metadata": {
        "colab": {
          "base_uri": "https://localhost:8080/"
        },
        "id": "zcizGyM90l81",
        "outputId": "b54b66d6-aae1-4d7c-ce57-e4a99aafd55a"
      },
      "outputs": [
        {
          "data": {
            "text/plain": [
              "0.5476056785565273"
            ]
          },
          "execution_count": 177,
          "metadata": {},
          "output_type": "execute_result"
        }
      ],
      "source": [
        "# Total algo log return train\n",
        "df_returns.iloc[1:-Ntest]['AlgoReturn'].sum()"
      ]
    },
    {
      "cell_type": "code",
      "execution_count": 178,
      "metadata": {
        "colab": {
          "base_uri": "https://localhost:8080/"
        },
        "id": "VL0fqq4zP5_C",
        "outputId": "c9418bd5-0581-4403-d62d-92407cf24e43"
      },
      "outputs": [
        {
          "data": {
            "text/plain": [
              "0.5221636546963317"
            ]
          },
          "execution_count": 178,
          "metadata": {},
          "output_type": "execute_result"
        }
      ],
      "source": [
        "# Total algo log return test\n",
        "df_returns.iloc[-Ntest:-1]['AlgoReturn'].sum()"
      ]
    },
    {
      "cell_type": "code",
      "execution_count": 179,
      "metadata": {},
      "outputs": [
        {
          "data": {
            "text/plain": [
              "(0.009545528468686362, 0.038373090079321576)"
            ]
          },
          "execution_count": 179,
          "metadata": {},
          "output_type": "execute_result"
        }
      ],
      "source": [
        "#std and SR algo train\n",
        "df_returns.iloc[1:-Ntest]['AlgoReturn'].std(), df_returns.iloc[1:-Ntest]['AlgoReturn'].mean()/df_returns.iloc[1:-Ntest]['AlgoReturn'].std()"
      ]
    },
    {
      "cell_type": "code",
      "execution_count": 180,
      "metadata": {},
      "outputs": [
        {
          "data": {
            "text/plain": [
              "(0.00590626811943088, 0.088496886776575)"
            ]
          },
          "execution_count": 180,
          "metadata": {},
          "output_type": "execute_result"
        }
      ],
      "source": [
        "#std and SR algo test\n",
        "df_returns.iloc[-Ntest:-1]['AlgoReturn'].std(), df_returns.iloc[-Ntest:-1]['AlgoReturn'].mean()/df_returns.iloc[-Ntest:-1]['AlgoReturn'].std()"
      ]
    },
    {
      "cell_type": "code",
      "execution_count": 181,
      "metadata": {},
      "outputs": [
        {
          "data": {
            "text/plain": [
              "(0.5337792642140469, 0.4944944944944945)"
            ]
          },
          "execution_count": 181,
          "metadata": {},
          "output_type": "execute_result"
        }
      ],
      "source": [
        "accuracy_score(Ctrain,Ptrain), accuracy_score(Ctest,Ptest)"
      ]
    },
    {
      "cell_type": "code",
      "execution_count": 182,
      "metadata": {},
      "outputs": [
        {
          "data": {
            "text/plain": [
              "(0.5463137996219282, 0.611764705882353)"
            ]
          },
          "execution_count": 182,
          "metadata": {},
          "output_type": "execute_result"
        }
      ],
      "source": [
        "precision_score(Ctrain,Ptrain), precision_score(Ctest,Ptest)"
      ]
    },
    {
      "cell_type": "code",
      "execution_count": 183,
      "metadata": {},
      "outputs": [
        {
          "data": {
            "text/plain": [
              "(0.45333333333333325, 0.17077175697865352)"
            ]
          },
          "execution_count": 183,
          "metadata": {},
          "output_type": "execute_result"
        }
      ],
      "source": [
        "f1_score(Ctrain,Ptrain), f1_score(Ctest,Ptest)"
      ]
    },
    {
      "cell_type": "code",
      "execution_count": 184,
      "metadata": {},
      "outputs": [
        {
          "data": {
            "text/plain": [
              "(0.5334861137459418, 0.5148814785054239)"
            ]
          },
          "execution_count": 184,
          "metadata": {},
          "output_type": "execute_result"
        }
      ],
      "source": [
        "roc_auc_score(Ctrain,Ptrain), roc_auc_score(Ctest,Ptest)"
      ]
    },
    {
      "cell_type": "code",
      "execution_count": 185,
      "metadata": {},
      "outputs": [
        {
          "data": {
            "text/plain": [
              "(0.35332648853093107, 0.08436759817132765)"
            ]
          },
          "execution_count": 185,
          "metadata": {},
          "output_type": "execute_result"
        }
      ],
      "source": [
        "# MSE\n",
        "mean_squared_error(Ytrain, Ptrain), mean_squared_error(Ytest, Ptest)"
      ]
    },
    {
      "cell_type": "code",
      "execution_count": 186,
      "metadata": {},
      "outputs": [
        {
          "data": {
            "text/plain": [
              "(0.5944127257478015, 0.2904610097264823)"
            ]
          },
          "execution_count": 186,
          "metadata": {},
          "output_type": "execute_result"
        }
      ],
      "source": [
        "# RMSE\n",
        "mean_squared_error(Ytrain, Ptrain, squared=False), mean_squared_error(Ytest, Ptest, squared=False)"
      ]
    },
    {
      "cell_type": "code",
      "execution_count": 187,
      "metadata": {},
      "outputs": [
        {
          "data": {
            "text/plain": [
              "(0.360173971841477, 0.09529894719233144)"
            ]
          },
          "execution_count": 187,
          "metadata": {},
          "output_type": "execute_result"
        }
      ],
      "source": [
        "# MAE\n",
        "mean_absolute_error(Ytrain, Ptrain), mean_absolute_error(Ytest, Ptest) "
      ]
    },
    {
      "cell_type": "code",
      "execution_count": 188,
      "metadata": {},
      "outputs": [
        {
          "data": {
            "text/plain": [
              "(-1658.6847029069702, -256.3994146332183)"
            ]
          },
          "execution_count": 188,
          "metadata": {},
          "output_type": "execute_result"
        }
      ],
      "source": [
        "# R^2\n",
        "r2_score(Ytrain, Ptrain), r2_score(Ytest, Ptest)"
      ]
    },
    {
      "cell_type": "code",
      "execution_count": 189,
      "metadata": {},
      "outputs": [
        {
          "data": {
            "text/plain": [
              "(39161735890275.555, 20.324165356567992)"
            ]
          },
          "execution_count": 189,
          "metadata": {},
          "output_type": "execute_result"
        }
      ],
      "source": [
        "# MAPE\n",
        "mean_absolute_percentage_error(Ytrain, Ptrain), mean_absolute_percentage_error(Ytest, Ptest)"
      ]
    },
    {
      "cell_type": "code",
      "execution_count": 190,
      "metadata": {},
      "outputs": [
        {
          "data": {
            "text/plain": [
              "1.990872678187865"
            ]
          },
          "execution_count": 190,
          "metadata": {},
          "output_type": "execute_result"
        }
      ],
      "source": [
        "#sMAPE train\n",
        "def smape(Ytrain, Ptrain):\n",
        "    numerator = np.abs(Ytrain - Ptrain)\n",
        "    denominator = (np.abs(Ytrain) + np.abs(Ptrain)) / 2\n",
        "    ratio = numerator / denominator\n",
        "    return ratio.mean()\n",
        "\n",
        "smape(Ytrain, Ptrain)"
      ]
    },
    {
      "cell_type": "code",
      "execution_count": 191,
      "metadata": {},
      "outputs": [
        {
          "data": {
            "text/plain": [
              "1.9965549450880964"
            ]
          },
          "execution_count": 191,
          "metadata": {},
          "output_type": "execute_result"
        }
      ],
      "source": [
        "#sMAPE test\n",
        "def smape(Ytest, Ptest):\n",
        "    numerator = np.abs(Ytest - Ptest)\n",
        "    denominator = (np.abs(Ytest) + np.abs(Ptest)) / 2\n",
        "    ratio = numerator / denominator\n",
        "    return ratio.mean()\n",
        "\n",
        "smape(Ytest, Ptest)"
      ]
    },
    {
      "cell_type": "code",
      "execution_count": 192,
      "metadata": {},
      "outputs": [
        {
          "data": {
            "text/plain": [
              "614"
            ]
          },
          "execution_count": 192,
          "metadata": {},
          "output_type": "execute_result"
        }
      ],
      "source": [
        "df_returns['Position'].to_csv('NBGCBool.csv', index = True)\n",
        "sum(df_returns['Position'])"
      ]
    }
  ],
  "metadata": {
    "colab": {
      "collapsed_sections": [],
      "name": "Regression-Based Strategy 0-1.ipynb",
      "provenance": []
    },
    "kernelspec": {
      "display_name": "Python 3",
      "name": "python3"
    },
    "language_info": {
      "codemirror_mode": {
        "name": "ipython",
        "version": 3
      },
      "file_extension": ".py",
      "mimetype": "text/x-python",
      "name": "python",
      "nbconvert_exporter": "python",
      "pygments_lexer": "ipython3",
      "version": "3.6.5"
    }
  },
  "nbformat": 4,
  "nbformat_minor": 0
}
